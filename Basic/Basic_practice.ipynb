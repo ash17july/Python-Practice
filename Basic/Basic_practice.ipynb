{
  "nbformat": 4,
  "nbformat_minor": 0,
  "metadata": {
    "colab": {
      "name": "Basic_practice.ipynb",
      "provenance": []
    },
    "kernelspec": {
      "name": "python3",
      "display_name": "Python 3"
    },
    "language_info": {
      "name": "python"
    }
  },
  "cells": [
    {
      "cell_type": "code",
      "execution_count": 2,
      "metadata": {
        "colab": {
          "base_uri": "https://localhost:8080/"
        },
        "id": "41w5IMgvdaEb",
        "outputId": "51c41a54-b96b-49d5-d603-6afe0c894d48"
      },
      "outputs": [
        {
          "output_type": "stream",
          "name": "stdout",
          "text": [
            "True\n"
          ]
        }
      ],
      "source": [
        "a=10\n",
        "b=20\n",
        "print(a is not b)"
      ]
    },
    {
      "cell_type": "code",
      "source": [
        "a=50\n",
        "b=60\n",
        "c=50\n",
        "print(a is c)"
      ],
      "metadata": {
        "colab": {
          "base_uri": "https://localhost:8080/"
        },
        "id": "xKGNNyEjdhs7",
        "outputId": "7f24ec5c-b6d7-4a0a-8f63-6a4abe9f3ba0"
      },
      "execution_count": 3,
      "outputs": [
        {
          "output_type": "stream",
          "name": "stdout",
          "text": [
            "True\n"
          ]
        }
      ]
    },
    {
      "cell_type": "code",
      "source": [
        "print(a is b)"
      ],
      "metadata": {
        "colab": {
          "base_uri": "https://localhost:8080/"
        },
        "id": "_dyiHg9ddvx5",
        "outputId": "cbf166c8-22e3-470a-8960-2eaba040a443"
      },
      "execution_count": 4,
      "outputs": [
        {
          "output_type": "stream",
          "name": "stdout",
          "text": [
            "False\n"
          ]
        }
      ]
    },
    {
      "cell_type": "code",
      "source": [
        "c = [\"strawberry\",\"pineapple\",\"jackfruit\"]\n",
        "print(\"mango\" in c)"
      ],
      "metadata": {
        "colab": {
          "base_uri": "https://localhost:8080/"
        },
        "id": "k8QKUPord3DB",
        "outputId": "e3c2f1d1-9871-41fc-9cd5-67f8583c1805"
      },
      "execution_count": 5,
      "outputs": [
        {
          "output_type": "stream",
          "name": "stdout",
          "text": [
            "False\n"
          ]
        }
      ]
    },
    {
      "cell_type": "code",
      "source": [
        "print(\"jackfrutit\" in c)"
      ],
      "metadata": {
        "colab": {
          "base_uri": "https://localhost:8080/"
        },
        "id": "DmekUBLseGqx",
        "outputId": "2a9aa002-29b9-4e73-9e71-a33ac831604a"
      },
      "execution_count": 6,
      "outputs": [
        {
          "output_type": "stream",
          "name": "stdout",
          "text": [
            "False\n"
          ]
        }
      ]
    },
    {
      "cell_type": "code",
      "source": [
        "print(\"strawberry\" not in c)"
      ],
      "metadata": {
        "colab": {
          "base_uri": "https://localhost:8080/"
        },
        "id": "BDUCKBAVeLsK",
        "outputId": "e9cd89e0-cab7-40de-c182-2a7d19d649a2"
      },
      "execution_count": 7,
      "outputs": [
        {
          "output_type": "stream",
          "name": "stdout",
          "text": [
            "False\n"
          ]
        }
      ]
    },
    {
      "cell_type": "code",
      "source": [
        "print(\"strawberry\" in c)"
      ],
      "metadata": {
        "colab": {
          "base_uri": "https://localhost:8080/"
        },
        "id": "IC2ciR2TeRW6",
        "outputId": "071a9278-43e6-495f-dbd3-540ac2b35478"
      },
      "execution_count": 8,
      "outputs": [
        {
          "output_type": "stream",
          "name": "stdout",
          "text": [
            "True\n"
          ]
        }
      ]
    },
    {
      "cell_type": "code",
      "source": [
        "c=20\n",
        "b=30\n",
        "print(20**3)"
      ],
      "metadata": {
        "colab": {
          "base_uri": "https://localhost:8080/"
        },
        "id": "6zWQUQqleUwC",
        "outputId": "5476d7c6-de70-4741-c316-ffb01626a8a1"
      },
      "execution_count": 9,
      "outputs": [
        {
          "output_type": "stream",
          "name": "stdout",
          "text": [
            "8000\n"
          ]
        }
      ]
    },
    {
      "cell_type": "code",
      "source": [
        "print(20//2)"
      ],
      "metadata": {
        "colab": {
          "base_uri": "https://localhost:8080/"
        },
        "id": "lz7IOtRbeaSC",
        "outputId": "6d098eba-f20c-44c1-ae3a-f13778b0cf33"
      },
      "execution_count": 10,
      "outputs": [
        {
          "output_type": "stream",
          "name": "stdout",
          "text": [
            "10\n"
          ]
        }
      ]
    },
    {
      "cell_type": "code",
      "source": [
        "print(20/2)"
      ],
      "metadata": {
        "colab": {
          "base_uri": "https://localhost:8080/"
        },
        "id": "XRSaaEUDeeuq",
        "outputId": "d1a4eaf1-49ae-4b8b-90a7-8d384ea6e9e4"
      },
      "execution_count": 11,
      "outputs": [
        {
          "output_type": "stream",
          "name": "stdout",
          "text": [
            "10.0\n"
          ]
        }
      ]
    },
    {
      "cell_type": "code",
      "source": [
        "print(20%2)"
      ],
      "metadata": {
        "colab": {
          "base_uri": "https://localhost:8080/"
        },
        "id": "m75leFfTehcy",
        "outputId": "cb8307ba-a0d0-46f5-9363-9f2e1b83f16a"
      },
      "execution_count": 12,
      "outputs": [
        {
          "output_type": "stream",
          "name": "stdout",
          "text": [
            "0\n"
          ]
        }
      ]
    },
    {
      "cell_type": "code",
      "source": [
        "print(c<=b)"
      ],
      "metadata": {
        "colab": {
          "base_uri": "https://localhost:8080/"
        },
        "id": "pp2bb9eNekbi",
        "outputId": "4aebe050-202b-4ce2-8643-f71b55005dfc"
      },
      "execution_count": 15,
      "outputs": [
        {
          "output_type": "stream",
          "name": "stdout",
          "text": [
            "True\n"
          ]
        }
      ]
    },
    {
      "cell_type": "code",
      "source": [
        "print(b<c)"
      ],
      "metadata": {
        "colab": {
          "base_uri": "https://localhost:8080/"
        },
        "id": "I5JZ2fLJeqg6",
        "outputId": "ad2c9de3-b82f-4382-8a9f-fc844b175587"
      },
      "execution_count": 16,
      "outputs": [
        {
          "output_type": "stream",
          "name": "stdout",
          "text": [
            "False\n"
          ]
        }
      ]
    },
    {
      "cell_type": "code",
      "source": [
        "Name=input(\"Enter your name: \")\n",
        "print(\"Enter name is :\",Name)"
      ],
      "metadata": {
        "colab": {
          "base_uri": "https://localhost:8080/"
        },
        "id": "y9K8_ieOe_gi",
        "outputId": "eb2ba15a-903f-4d98-8ab6-d90df9f3d2eb"
      },
      "execution_count": 17,
      "outputs": [
        {
          "output_type": "stream",
          "name": "stdout",
          "text": [
            "Enter your name: Ashwini\n",
            "Enter name is : Ashwini\n"
          ]
        }
      ]
    },
    {
      "cell_type": "code",
      "source": [
        "a=10\n",
        "b=20\n",
        "a+=b\n",
        "print(a)"
      ],
      "metadata": {
        "colab": {
          "base_uri": "https://localhost:8080/"
        },
        "id": "0e_8IxHRfT5T",
        "outputId": "85023933-7673-4eb1-ddae-d52c17e44cd5"
      },
      "execution_count": 18,
      "outputs": [
        {
          "output_type": "stream",
          "name": "stdout",
          "text": [
            "30\n"
          ]
        }
      ]
    },
    {
      "cell_type": "code",
      "source": [
        "a-=b\n",
        "print(b)"
      ],
      "metadata": {
        "colab": {
          "base_uri": "https://localhost:8080/"
        },
        "id": "4uWtX3MTfdkI",
        "outputId": "b11fbbc6-6504-429a-9634-5c2248f89528"
      },
      "execution_count": 19,
      "outputs": [
        {
          "output_type": "stream",
          "name": "stdout",
          "text": [
            "20\n"
          ]
        }
      ]
    },
    {
      "cell_type": "code",
      "source": [
        "print(a)"
      ],
      "metadata": {
        "colab": {
          "base_uri": "https://localhost:8080/"
        },
        "id": "YjBYiMozfkEw",
        "outputId": "d9467089-c2e2-4756-d580-96a44c6a4ca4"
      },
      "execution_count": 20,
      "outputs": [
        {
          "output_type": "stream",
          "name": "stdout",
          "text": [
            "10\n"
          ]
        }
      ]
    },
    {
      "cell_type": "code",
      "source": [
        "a*=b\n",
        "print(a)"
      ],
      "metadata": {
        "colab": {
          "base_uri": "https://localhost:8080/"
        },
        "id": "e8wuj96sfmSj",
        "outputId": "6e6c9b02-079e-4722-b748-ba4ecbc93eb7"
      },
      "execution_count": 21,
      "outputs": [
        {
          "output_type": "stream",
          "name": "stdout",
          "text": [
            "200\n"
          ]
        }
      ]
    },
    {
      "cell_type": "code",
      "source": [
        "a/=b\n",
        "print(a)"
      ],
      "metadata": {
        "colab": {
          "base_uri": "https://localhost:8080/"
        },
        "id": "SAwHPS1qfsvD",
        "outputId": "12690764-808d-4463-db69-e3811bbacb5e"
      },
      "execution_count": 22,
      "outputs": [
        {
          "output_type": "stream",
          "name": "stdout",
          "text": [
            "10.0\n"
          ]
        }
      ]
    },
    {
      "cell_type": "code",
      "source": [
        "a//=b\n",
        "print(a)"
      ],
      "metadata": {
        "colab": {
          "base_uri": "https://localhost:8080/"
        },
        "id": "PE20x4Dqfv8b",
        "outputId": "060f7887-af06-4b51-af1b-24cff4602009"
      },
      "execution_count": 23,
      "outputs": [
        {
          "output_type": "stream",
          "name": "stdout",
          "text": [
            "0.0\n"
          ]
        }
      ]
    },
    {
      "cell_type": "code",
      "source": [
        "a%=b\n",
        "print(a)"
      ],
      "metadata": {
        "colab": {
          "base_uri": "https://localhost:8080/"
        },
        "id": "J75jO58efzAq",
        "outputId": "3a67d7ec-0dbe-40e9-c5d0-7fd6aeea9682"
      },
      "execution_count": 24,
      "outputs": [
        {
          "output_type": "stream",
          "name": "stdout",
          "text": [
            "0.0\n"
          ]
        }
      ]
    },
    {
      "cell_type": "code",
      "source": [
        "Inta = float(input(\"Enter first number :\"))\n",
        "Inta2 = float(input(\"Enter second number :\"))\n",
        "print(\"Addition of numbers are :\",Inta+Inta2)"
      ],
      "metadata": {
        "colab": {
          "base_uri": "https://localhost:8080/"
        },
        "id": "C6PeC3Iff6hy",
        "outputId": "371a0906-df1e-4711-8504-8a0b74ff1d7c"
      },
      "execution_count": 25,
      "outputs": [
        {
          "output_type": "stream",
          "name": "stdout",
          "text": [
            "Enter first number :2.5\n",
            "Enter second number :3.5\n",
            "Addition of numbers are : 6.0\n"
          ]
        }
      ]
    },
    {
      "cell_type": "code",
      "source": [
        "print(type(Inta))"
      ],
      "metadata": {
        "colab": {
          "base_uri": "https://localhost:8080/"
        },
        "id": "pn6yuFYrgc37",
        "outputId": "e4d3c06b-8e80-4813-f339-b25ab9a001ea"
      },
      "execution_count": 26,
      "outputs": [
        {
          "output_type": "stream",
          "name": "stdout",
          "text": [
            "<class 'float'>\n"
          ]
        }
      ]
    },
    {
      "cell_type": "code",
      "source": [
        "z=10j\n",
        "print(type(z))"
      ],
      "metadata": {
        "colab": {
          "base_uri": "https://localhost:8080/"
        },
        "id": "NAr-NRJ8gjsy",
        "outputId": "b09274bf-5079-46ce-8858-7101ca34e3bc"
      },
      "execution_count": 27,
      "outputs": [
        {
          "output_type": "stream",
          "name": "stdout",
          "text": [
            "<class 'complex'>\n"
          ]
        }
      ]
    },
    {
      "cell_type": "code",
      "source": [
        "z={\"cream\",\"roll\",\"pie\"}\n",
        "print(type(z))"
      ],
      "metadata": {
        "colab": {
          "base_uri": "https://localhost:8080/"
        },
        "id": "4ZyjbWa3hFPf",
        "outputId": "0fb644bf-96c9-4731-de9b-fd7bfe56e5c5"
      },
      "execution_count": 28,
      "outputs": [
        {
          "output_type": "stream",
          "name": "stdout",
          "text": [
            "<class 'set'>\n"
          ]
        }
      ]
    },
    {
      "cell_type": "code",
      "source": [
        "z={\"name\":\"Ashwini\",\"country\":\"India\",\"Age\":\"twenty-six\"}\n",
        "print(type(z))"
      ],
      "metadata": {
        "colab": {
          "base_uri": "https://localhost:8080/"
        },
        "id": "akidh98shStF",
        "outputId": "f54a16ba-c50a-4dab-e8c1-451de76ca3dd"
      },
      "execution_count": 29,
      "outputs": [
        {
          "output_type": "stream",
          "name": "stdout",
          "text": [
            "<class 'dict'>\n"
          ]
        }
      ]
    },
    {
      "cell_type": "code",
      "source": [
        "z=(\"name\",\"division\",\"class\",\"address\")\n",
        "print(type(z))"
      ],
      "metadata": {
        "colab": {
          "base_uri": "https://localhost:8080/"
        },
        "id": "cfoXwTIQhkkU",
        "outputId": "37513271-fe35-4d75-ca8d-a01fd64e69cc"
      },
      "execution_count": 30,
      "outputs": [
        {
          "output_type": "stream",
          "name": "stdout",
          "text": [
            "<class 'tuple'>\n"
          ]
        }
      ]
    },
    {
      "cell_type": "code",
      "source": [
        "Firstname = input(\"Enter your first name:\")\n",
        "Surname = input(\"Enter your last name :\")\n",
        "Course = input(\"Your course is :\")\n",
        "print(\"Your full name is :\",Firstname+ \" \"+Surname)\n",
        "print(\"You enroll for \",Course+\" Course\")\n"
      ],
      "metadata": {
        "colab": {
          "base_uri": "https://localhost:8080/"
        },
        "id": "Cf8oXcCihvzj",
        "outputId": "a9030d20-81fc-476b-8fdd-7d55bc039c47"
      },
      "execution_count": 33,
      "outputs": [
        {
          "output_type": "stream",
          "name": "stdout",
          "text": [
            "Enter your first name:Ashwini\n",
            "Enter your last name :lembhe\n",
            "Your course is :python\n",
            "Your full name is : Ashwini lembhe\n",
            "You enroll for  python Course\n"
          ]
        }
      ]
    },
    {
      "cell_type": "code",
      "source": [
        "a = float(input(\"Enter first num :\"))\n",
        "b = float(input(\"Enter second num :\"))\n",
        "print(\"Entered number is \",a+b)\n"
      ],
      "metadata": {
        "colab": {
          "base_uri": "https://localhost:8080/"
        },
        "id": "gKet08x2iyfk",
        "outputId": "d1976c16-5b0a-4925-8a95-330ee2fb737a"
      },
      "execution_count": 38,
      "outputs": [
        {
          "output_type": "stream",
          "name": "stdout",
          "text": [
            "Enter first num :10\n",
            "Enter second num :20\n",
            "Entered number is  30.0\n"
          ]
        }
      ]
    },
    {
      "cell_type": "code",
      "source": [
        "print(20<30 and 30>20)"
      ],
      "metadata": {
        "colab": {
          "base_uri": "https://localhost:8080/"
        },
        "id": "TG3O8yHrjr00",
        "outputId": "b3e2593b-00dc-49bd-d362-6657fd5a9950"
      },
      "execution_count": 39,
      "outputs": [
        {
          "output_type": "stream",
          "name": "stdout",
          "text": [
            "True\n"
          ]
        }
      ]
    },
    {
      "cell_type": "code",
      "source": [
        "print(20>30 or 30>50)"
      ],
      "metadata": {
        "colab": {
          "base_uri": "https://localhost:8080/"
        },
        "id": "BC0n8QIfk4P0",
        "outputId": "2b1e0d46-8206-45be-dacb-2185d3bbab84"
      },
      "execution_count": 40,
      "outputs": [
        {
          "output_type": "stream",
          "name": "stdout",
          "text": [
            "False\n"
          ]
        }
      ]
    },
    {
      "cell_type": "code",
      "source": [
        "print(not 20>30)"
      ],
      "metadata": {
        "colab": {
          "base_uri": "https://localhost:8080/"
        },
        "id": "ZV1Z0kj5k-N0",
        "outputId": "7a8fbdf5-92e6-4d70-f008-c12cc7095b04"
      },
      "execution_count": 44,
      "outputs": [
        {
          "output_type": "stream",
          "name": "stdout",
          "text": [
            "True\n"
          ]
        }
      ]
    },
    {
      "cell_type": "code",
      "source": [
        "tuple=(\"name\",\"name\",\"red\",\"yellow\",\"black\",\"black\")\n",
        "print(tuple)"
      ],
      "metadata": {
        "colab": {
          "base_uri": "https://localhost:8080/"
        },
        "id": "S2DvMxQpmlQ7",
        "outputId": "c7daf82d-df34-4f62-ab9c-9444ad5813e2"
      },
      "execution_count": 45,
      "outputs": [
        {
          "output_type": "stream",
          "name": "stdout",
          "text": [
            "('name', 'name', 'red', 'yellow', 'black', 'black')\n"
          ]
        }
      ]
    },
    {
      "cell_type": "code",
      "source": [
        "print(set(tuple))"
      ],
      "metadata": {
        "colab": {
          "base_uri": "https://localhost:8080/"
        },
        "id": "81Rwdgi9pH82",
        "outputId": "17202607-d161-406b-969a-e66e64d456b9"
      },
      "execution_count": 46,
      "outputs": [
        {
          "output_type": "stream",
          "name": "stdout",
          "text": [
            "{'name', 'yellow', 'black', 'red'}\n"
          ]
        }
      ]
    },
    {
      "cell_type": "code",
      "source": [
        "num1=float(input(\"Enter your first number :\"))\n",
        "num2 = float(input(\"Enter your second number :\"))\n",
        "print(\"Enter the printed number :\",num1,num2)"
      ],
      "metadata": {
        "colab": {
          "base_uri": "https://localhost:8080/"
        },
        "id": "LNkuA3EDpMhN",
        "outputId": "f4cf70be-1667-435d-dfde-711413ee3aa4"
      },
      "execution_count": 47,
      "outputs": [
        {
          "output_type": "stream",
          "name": "stdout",
          "text": [
            "Enter your first number :20\n",
            "Enter your second number :30\n",
            "Enter the printed number : 20.0 30.0\n"
          ]
        }
      ]
    },
    {
      "cell_type": "code",
      "source": [
        "c=num1+num2"
      ],
      "metadata": {
        "id": "VEsmLIOWp9NG"
      },
      "execution_count": 48,
      "outputs": []
    },
    {
      "cell_type": "code",
      "source": [
        "print(int(c))"
      ],
      "metadata": {
        "colab": {
          "base_uri": "https://localhost:8080/"
        },
        "id": "dFQenARCqDgs",
        "outputId": "33dda9aa-b983-4385-928a-0b7a3f9787c8"
      },
      "execution_count": 49,
      "outputs": [
        {
          "output_type": "stream",
          "name": "stdout",
          "text": [
            "50\n"
          ]
        }
      ]
    },
    {
      "cell_type": "code",
      "source": [
        "print(float(c))"
      ],
      "metadata": {
        "colab": {
          "base_uri": "https://localhost:8080/"
        },
        "id": "CQ1Vy3DaqGkE",
        "outputId": "5fa534de-6843-466f-a178-acbf7001a7b4"
      },
      "execution_count": 52,
      "outputs": [
        {
          "output_type": "stream",
          "name": "stdout",
          "text": [
            "50.0\n"
          ]
        }
      ]
    },
    {
      "cell_type": "code",
      "source": [
        "c=input(\"Enter both numbers :\")\n",
        "print(\"Entered two numbers are :\",c)"
      ],
      "metadata": {
        "colab": {
          "base_uri": "https://localhost:8080/"
        },
        "id": "2ClL8pX9qJRk",
        "outputId": "82091ba7-9fff-4109-cbef-ce28170fdfe8"
      },
      "execution_count": 55,
      "outputs": [
        {
          "output_type": "stream",
          "name": "stdout",
          "text": [
            "Enter both numbers :30.50\n",
            "Entered two numbers are : 30.50\n"
          ]
        }
      ]
    },
    {
      "cell_type": "code",
      "source": [
        "a = 500\n",
        "b = 200\n",
        "a <= b\n",
        "print(a)"
      ],
      "metadata": {
        "colab": {
          "base_uri": "https://localhost:8080/"
        },
        "id": "hch7Bg9JrQsN",
        "outputId": "eaf99fd7-804f-49fc-facc-abe17a18a24f"
      },
      "execution_count": 56,
      "outputs": [
        {
          "output_type": "stream",
          "name": "stdout",
          "text": [
            "500\n"
          ]
        }
      ]
    },
    {
      "cell_type": "code",
      "source": [
        "if a < b :\n",
        "  print(\"b is greater than a\")"
      ],
      "metadata": {
        "id": "bq5RogjNrnN-"
      },
      "execution_count": 59,
      "outputs": []
    },
    {
      "cell_type": "code",
      "source": [
        "a = input(\"Enter first number :\")\n",
        "b = input(\"Enter second number :\")\n",
        "a+=b\n",
        "print(b)"
      ],
      "metadata": {
        "colab": {
          "base_uri": "https://localhost:8080/"
        },
        "id": "rb4VXa-ur7c4",
        "outputId": "b642093d-e83d-42fa-f492-75d6ae4f7091"
      },
      "execution_count": 68,
      "outputs": [
        {
          "output_type": "stream",
          "name": "stdout",
          "text": [
            "Enter first number :20\n",
            "Enter second number :20\n",
            "20\n"
          ]
        }
      ]
    },
    {
      "cell_type": "code",
      "source": [
        "\n"
      ],
      "metadata": {
        "id": "lRl5_rh7ssW9"
      },
      "execution_count": null,
      "outputs": []
    }
  ]
}
