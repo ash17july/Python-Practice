{
 "cells": [
  {
   "cell_type": "code",
   "execution_count": 1,
   "id": "deb4c7f2",
   "metadata": {},
   "outputs": [
    {
     "name": "stdout",
     "output_type": "stream",
     "text": [
      "Enter the Random numbers from List :50\n"
     ]
    }
   ],
   "source": [
    "import random\n",
    "list1 = [10, 20, 30, 40, 50]\n",
    "print(\"Enter the Random numbers from List :\" ,end = \"\")\n",
    "print(random.choice(list1))"
   ]
  },
  {
   "cell_type": "code",
   "execution_count": 2,
   "id": "d955e35c",
   "metadata": {},
   "outputs": [
    {
     "name": "stdout",
     "output_type": "stream",
     "text": [
      "Enter the Random numbers :65\n"
     ]
    }
   ],
   "source": [
    "print(\"Enter the Random numbers :\",end = \"\")\n",
    "print(random.randrange(50,100,5))"
   ]
  },
  {
   "cell_type": "code",
   "execution_count": 3,
   "id": "d1941d0a",
   "metadata": {},
   "outputs": [
    {
     "name": "stdout",
     "output_type": "stream",
     "text": [
      "Hexadecimal of a value is : 0xa\n",
      "Octat of a given value is : 0o12\n",
      "Binary of a given value is : 0b1010\n"
     ]
    }
   ],
   "source": [
    "a = 10\n",
    "print(\"Hexadecimal of a value is :\",hex(a))\n",
    "print(\"Octat of a given value is :\",oct(a))\n",
    "print(\"Binary of a given value is :\",bin(a))"
   ]
  },
  {
   "cell_type": "code",
   "execution_count": 4,
   "id": "476a639a",
   "metadata": {},
   "outputs": [
    {
     "name": "stdout",
     "output_type": "stream",
     "text": [
      "<class 'int'>\n",
      "<class 'float'>\n",
      "<class 'complex'>\n"
     ]
    }
   ],
   "source": [
    "a = 2\n",
    "b = 6.5\n",
    "c = 6j\n",
    "print(type(a))\n",
    "print(type(b))\n",
    "print(type(c))"
   ]
  },
  {
   "cell_type": "code",
   "execution_count": 5,
   "id": "08ebeb45",
   "metadata": {},
   "outputs": [
    {
     "name": "stdout",
     "output_type": "stream",
     "text": [
      "2.0\n"
     ]
    }
   ],
   "source": [
    "print(float(a))"
   ]
  },
  {
   "cell_type": "code",
   "execution_count": 6,
   "id": "3fe9fc52",
   "metadata": {},
   "outputs": [
    {
     "name": "stdout",
     "output_type": "stream",
     "text": [
      "(6.5+0j)\n"
     ]
    }
   ],
   "source": [
    "print(complex(b))"
   ]
  },
  {
   "cell_type": "code",
   "execution_count": 7,
   "id": "d932da00",
   "metadata": {},
   "outputs": [
    {
     "name": "stdout",
     "output_type": "stream",
     "text": [
      "6.5\n"
     ]
    }
   ],
   "source": [
    "print(float(b))"
   ]
  },
  {
   "cell_type": "code",
   "execution_count": 8,
   "id": "3db3458a",
   "metadata": {},
   "outputs": [
    {
     "name": "stdout",
     "output_type": "stream",
     "text": [
      "3\n"
     ]
    }
   ],
   "source": [
    "list=[1,2, 3,4, 5]\n",
    "print(random.choice(list))"
   ]
  },
  {
   "cell_type": "code",
   "execution_count": 9,
   "id": "737020db",
   "metadata": {},
   "outputs": [
    {
     "name": "stdout",
     "output_type": "stream",
     "text": [
      "<class 'int'>\n",
      "<class 'float'>\n"
     ]
    }
   ],
   "source": [
    "x=99\n",
    "y=1.11\n",
    "print(type(x))\n",
    "print(type(y))"
   ]
  },
  {
   "cell_type": "code",
   "execution_count": 10,
   "id": "b6a2b3c7",
   "metadata": {},
   "outputs": [
    {
     "name": "stdout",
     "output_type": "stream",
     "text": [
      "100.11\n"
     ]
    }
   ],
   "source": [
    "z=x+y\n",
    "print(z)"
   ]
  },
  {
   "cell_type": "code",
   "execution_count": 11,
   "id": "9659e6f3",
   "metadata": {},
   "outputs": [
    {
     "data": {
      "text/plain": [
       "123"
      ]
     },
     "execution_count": 11,
     "metadata": {},
     "output_type": "execute_result"
    }
   ],
   "source": [
    "int(123.45)"
   ]
  },
  {
   "cell_type": "code",
   "execution_count": 12,
   "id": "14294904",
   "metadata": {},
   "outputs": [
    {
     "name": "stdout",
     "output_type": "stream",
     "text": [
      "apple99\n"
     ]
    }
   ],
   "source": [
    "i=99\n",
    "s=\"apple\"\n",
    "print(s+str(i))"
   ]
  },
  {
   "cell_type": "code",
   "execution_count": 13,
   "id": "2e7dc6eb",
   "metadata": {},
   "outputs": [
    {
     "name": "stdout",
     "output_type": "stream",
     "text": [
      "binary form : 0b10100\n",
      "hexa form :  0x14\n",
      "octal form  : 0o24\n"
     ]
    }
   ],
   "source": [
    "i=20\n",
    "print(\"binary form :\",bin(i))\n",
    "print(\"hexa form : \", hex (i))\n",
    "print(\"octal form  :\",oct(i))"
   ]
  },
  {
   "cell_type": "code",
   "execution_count": 14,
   "id": "a8e579d4",
   "metadata": {},
   "outputs": [
    {
     "name": "stdout",
     "output_type": "stream",
     "text": [
      "roll no : 30\n"
     ]
    }
   ],
   "source": [
    "roll_no=30\n",
    "print(\"roll no :\", roll_no)"
   ]
  },
  {
   "cell_type": "code",
   "execution_count": 15,
   "id": "487a68bb",
   "metadata": {},
   "outputs": [
    {
     "name": "stdout",
     "output_type": "stream",
     "text": [
      "<class 'int'>\n",
      "<class 'float'>\n",
      "<class 'complex'>\n"
     ]
    }
   ],
   "source": [
    "a=2\n",
    "b=3.6\n",
    "c=4+5j\n",
    "print(type(a))\n",
    "print(type(b))\n",
    "print(type(c))"
   ]
  },
  {
   "cell_type": "code",
   "execution_count": 16,
   "id": "442c5343",
   "metadata": {},
   "outputs": [
    {
     "data": {
      "text/plain": [
       "3"
      ]
     },
     "execution_count": 16,
     "metadata": {},
     "output_type": "execute_result"
    }
   ],
   "source": [
    "int(b)"
   ]
  },
  {
   "cell_type": "code",
   "execution_count": 17,
   "id": "60f1b42c",
   "metadata": {},
   "outputs": [
    {
     "data": {
      "text/plain": [
       "2.0"
      ]
     },
     "execution_count": 17,
     "metadata": {},
     "output_type": "execute_result"
    }
   ],
   "source": [
    "float(a)"
   ]
  },
  {
   "cell_type": "code",
   "execution_count": 18,
   "id": "a29d3d55",
   "metadata": {},
   "outputs": [
    {
     "data": {
      "text/plain": [
       "3.6"
      ]
     },
     "execution_count": 18,
     "metadata": {},
     "output_type": "execute_result"
    }
   ],
   "source": [
    "float(b)"
   ]
  },
  {
   "cell_type": "code",
   "execution_count": null,
   "id": "2dc2bcfd",
   "metadata": {},
   "outputs": [],
   "source": []
  }
 ],
 "metadata": {
  "kernelspec": {
   "display_name": "Python 3 (ipykernel)",
   "language": "python",
   "name": "python3"
  },
  "language_info": {
   "codemirror_mode": {
    "name": "ipython",
    "version": 3
   },
   "file_extension": ".py",
   "mimetype": "text/x-python",
   "name": "python",
   "nbconvert_exporter": "python",
   "pygments_lexer": "ipython3",
   "version": "3.9.7"
  }
 },
 "nbformat": 4,
 "nbformat_minor": 5
}
