{
 "cells": [
  {
   "cell_type": "code",
   "execution_count": 1,
   "id": "28dea361",
   "metadata": {},
   "outputs": [
    {
     "name": "stdout",
     "output_type": "stream",
     "text": [
      "Enter the length of a Rectangle :5\n",
      "Enter the breath of a Rectangle :6\n",
      "The Area of a Rectangle is : 30.0\n"
     ]
    }
   ],
   "source": [
    "#Find the Area of a Rectangle\n",
    "length = float(input(\"Enter the length of a Rectangle :\"))\n",
    "breath = float(input(\"Enter the breath of a Rectangle :\"))\n",
    "Area_of_Rectangle = length * breath\n",
    "print(\"The Area of a Rectangle is :\",Area_of_Rectangle)"
   ]
  },
  {
   "cell_type": "code",
   "execution_count": 2,
   "id": "3e4062ca",
   "metadata": {},
   "outputs": [
    {
     "name": "stdout",
     "output_type": "stream",
     "text": [
      "Enter the length of a Square :5\n",
      "The Area of a Square is 25\n"
     ]
    }
   ],
   "source": [
    "#Find the Area of a Square \n",
    "length = int(input(\"Enter the length of a Square :\"))\n",
    "Area_of_Square = length * length\n",
    "print(\"The Area of a Square is\",Area_of_Square)"
   ]
  },
  {
   "cell_type": "code",
   "execution_count": 3,
   "id": "c89b2567",
   "metadata": {},
   "outputs": [
    {
     "name": "stdout",
     "output_type": "stream",
     "text": [
      "Enter the radius of a Circle :5\n",
      "The Area of a Circle is : 78.5\n"
     ]
    }
   ],
   "source": [
    "#Find the Area of a Circle\n",
    "radius = float(input(\"Enter the radius of a Circle :\"))\n",
    "Area_of_Circle = 3.14 * radius**2\n",
    "print(\"The Area of a Circle is :\",Area_of_Circle)"
   ]
  },
  {
   "cell_type": "code",
   "execution_count": 4,
   "id": "1177a969",
   "metadata": {},
   "outputs": [
    {
     "name": "stdout",
     "output_type": "stream",
     "text": [
      "Enter the length of a Rectangle :5\n",
      "Enter the breath of a Rectangle :6\n",
      "The Parameter of a Rectangle is : 22\n"
     ]
    }
   ],
   "source": [
    "#Find the parameter of Rectangle\n",
    "length = int(input(\"Enter the length of a Rectangle :\"))\n",
    "breath = int(input(\"Enter the breath of a Rectangle :\"))\n",
    "Parameter_of_Rectangle =2 * length + 2 * breath\n",
    "print(\"The Parameter of a Rectangle is :\",Parameter_of_Rectangle)"
   ]
  },
  {
   "cell_type": "code",
   "execution_count": 5,
   "id": "2a674804",
   "metadata": {},
   "outputs": [
    {
     "name": "stdout",
     "output_type": "stream",
     "text": [
      "Enter the length of a Square :5\n",
      "The Parameter of a Square is : 20.0\n"
     ]
    }
   ],
   "source": [
    "#Find the parameter of square\n",
    "length =float(input(\"Enter the length of a Square :\"))\n",
    "Parameter_of_Square = 4 * length\n",
    "print(\"The Parameter of a Square is :\",Parameter_of_Square)"
   ]
  },
  {
   "cell_type": "code",
   "execution_count": 6,
   "id": "c9c72561",
   "metadata": {},
   "outputs": [
    {
     "name": "stdout",
     "output_type": "stream",
     "text": [
      "Enter the radius of a Circle :5\n",
      "The Circumference of a Circle is : 31.400000000000002\n"
     ]
    }
   ],
   "source": [
    "#Find the Circumference of Circle\n",
    "radius = float(input(\"Enter the radius of a Circle :\"))\n",
    "Circum_of_Circle = 2 * 3.14 * radius\n",
    "print(\"The Circumference of a Circle is :\",Circum_of_Circle)"
   ]
  },
  {
   "cell_type": "code",
   "execution_count": 8,
   "id": "b39c9b74",
   "metadata": {},
   "outputs": [
    {
     "name": "stdout",
     "output_type": "stream",
     "text": [
      "Enter the length of a Cube:4\n",
      "The Volume of a Cube is : 64.0\n"
     ]
    }
   ],
   "source": [
    "#Find the volume of cube\n",
    "length = float(input(\"Enter the length of a Cube:\"))\n",
    "Volume_of_Cube = length**3\n",
    "print(\"The Volume of a Cube is :\",Volume_of_Cube)"
   ]
  },
  {
   "cell_type": "code",
   "execution_count": 9,
   "id": "49147846",
   "metadata": {},
   "outputs": [
    {
     "name": "stdout",
     "output_type": "stream",
     "text": [
      "Enter the length of a cube :5\n",
      "The Total Surface Area of a Cube is : 150.0\n"
     ]
    }
   ],
   "source": [
    "#Find the Total Surface Area of a Cube\n",
    "length = float(input(\"Enter the length of a cube :\"))\n",
    "Total_Surface_Area_of_Cube = 6 * length**2\n",
    "print(\"The Total Surface Area of a Cube is :\",Total_Surface_Area_of_Cube)"
   ]
  },
  {
   "cell_type": "code",
   "execution_count": 10,
   "id": "689d07ac",
   "metadata": {},
   "outputs": [
    {
     "name": "stdout",
     "output_type": "stream",
     "text": [
      "Enter the length of a Cuboid :5\n",
      "Enter the breath of a Cuboid :6\n",
      "Enter the height of a Cuboid :7\n",
      "The Volume of a Cuboid is : 210\n"
     ]
    }
   ],
   "source": [
    "#Find the Volume of a Cuboid\n",
    "length = int(input(\"Enter the length of a Cuboid :\"))\n",
    "breath = int(input(\"Enter the breath of a Cuboid :\"))\n",
    "height = int(input(\"Enter the height of a Cuboid :\"))\n",
    "Volume_of_Cuboid = length * breath * height\n",
    "print(\"The Volume of a Cuboid is :\",Volume_of_Cuboid)"
   ]
  },
  {
   "cell_type": "code",
   "execution_count": 11,
   "id": "a3a87f14",
   "metadata": {},
   "outputs": [
    {
     "name": "stdout",
     "output_type": "stream",
     "text": [
      "Enter the length of a Cuboid :5\n",
      "Enter the breath of a Cuboid :8\n",
      "Enter the height of a Cuboid :7\n",
      "The total surface area of a cuboid is : 131\n"
     ]
    }
   ],
   "source": [
    "#Find the total surface area of a cuboid\n",
    "length = int(input(\"Enter the length of a Cuboid :\"))\n",
    "breath = int(input(\"Enter the breath of a Cuboid :\"))\n",
    "height = int(input(\"Enter the height of a Cuboid :\"))\n",
    "Total_surface_area_Cuboid = length * breath + breath * height + length * height\n",
    "print(\"The total surface area of a cuboid is :\",Total_surface_area_Cuboid)"
   ]
  },
  {
   "cell_type": "code",
   "execution_count": null,
   "id": "f5a08946",
   "metadata": {},
   "outputs": [],
   "source": []
  }
 ],
 "metadata": {
  "kernelspec": {
   "display_name": "Python 3 (ipykernel)",
   "language": "python",
   "name": "python3"
  },
  "language_info": {
   "codemirror_mode": {
    "name": "ipython",
    "version": 3
   },
   "file_extension": ".py",
   "mimetype": "text/x-python",
   "name": "python",
   "nbconvert_exporter": "python",
   "pygments_lexer": "ipython3",
   "version": "3.9.7"
  }
 },
 "nbformat": 4,
 "nbformat_minor": 5
}
