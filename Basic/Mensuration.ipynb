{
 "cells": [
  {
   "cell_type": "code",
   "execution_count": 2,
   "id": "ae84d3c6",
   "metadata": {},
   "outputs": [],
   "source": [
    "#REPORT CARD"
   ]
  },
  {
   "cell_type": "code",
   "execution_count": 3,
   "id": "58ed2a88",
   "metadata": {},
   "outputs": [
    {
     "name": "stdout",
     "output_type": "stream",
     "text": [
      "Enter your Name :Ashwini\n",
      "Enter the English Marks :80\n",
      "Enter the Maths Marks :88\n",
      "Enter the Physics Marks :45\n",
      "Enter the Chemistry Marks :66\n",
      "Enter the Biology Marks :47\n",
      "Enter the Total Marks :500\n",
      " Percentage of  Ashwini  is  65  Percentage\n"
     ]
    }
   ],
   "source": [
    "name = input(\"Enter your Name :\")\n",
    "English = int(input(\"Enter the English Marks :\"))\n",
    "Maths = int(input(\"Enter the Maths Marks :\"))\n",
    "Physics = int(input(\"Enter the Physics Marks :\"))\n",
    "Chemistry = int(input(\"Enter the Chemistry Marks :\"))\n",
    "Bio = int(input(\"Enter the Biology Marks :\"))\n",
    "Total = int(input(\"Enter the Total Marks :\"))\n",
    "Gain_Marks = English + Maths + Bio + Physics + Chemistry\n",
    "Percentage = int(Gain_Marks/Total*100)\n",
    "print(\" Percentage of \",name,\" is \",Percentage,\" Percentage\")"
   ]
  },
  {
   "cell_type": "code",
   "execution_count": null,
   "id": "6d4a737b",
   "metadata": {},
   "outputs": [],
   "source": []
  }
 ],
 "metadata": {
  "kernelspec": {
   "display_name": "Python 3 (ipykernel)",
   "language": "python",
   "name": "python3"
  },
  "language_info": {
   "codemirror_mode": {
    "name": "ipython",
    "version": 3
   },
   "file_extension": ".py",
   "mimetype": "text/x-python",
   "name": "python",
   "nbconvert_exporter": "python",
   "pygments_lexer": "ipython3",
   "version": "3.9.7"
  }
 },
 "nbformat": 4,
 "nbformat_minor": 5
}
