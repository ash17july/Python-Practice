{
 "cells": [
  {
   "cell_type": "code",
   "execution_count": null,
   "id": "0901794a",
   "metadata": {},
   "outputs": [],
   "source": [
    "#function used with list"
   ]
  },
  {
   "cell_type": "markdown",
   "id": "49f8bfa3",
   "metadata": {},
   "source": [
    "1.max:"
   ]
  },
  {
   "cell_type": "code",
   "execution_count": 1,
   "id": "f7b23789",
   "metadata": {},
   "outputs": [
    {
     "name": "stdout",
     "output_type": "stream",
     "text": [
      "6\n"
     ]
    }
   ],
   "source": [
    "My_list=[3,4,5,6,1]\n",
    "print(max(My_list))"
   ]
  },
  {
   "cell_type": "markdown",
   "id": "49412980",
   "metadata": {},
   "source": [
    "2.min:"
   ]
  },
  {
   "cell_type": "code",
   "execution_count": 2,
   "id": "5bbc86ba",
   "metadata": {},
   "outputs": [
    {
     "name": "stdout",
     "output_type": "stream",
     "text": [
      "1\n"
     ]
    }
   ],
   "source": [
    "My_list=[3,4,5,6,1]\n",
    "print(min(My_list))"
   ]
  },
  {
   "cell_type": "code",
   "execution_count": null,
   "id": "d3c41312",
   "metadata": {},
   "outputs": [],
   "source": [
    "3.sum:"
   ]
  },
  {
   "cell_type": "code",
   "execution_count": 3,
   "id": "57f3c8e9",
   "metadata": {},
   "outputs": [
    {
     "name": "stdout",
     "output_type": "stream",
     "text": [
      "19\n"
     ]
    }
   ],
   "source": [
    "My_list=[3,4,5,6,1]\n",
    "print(sum(My_list))"
   ]
  },
  {
   "cell_type": "code",
   "execution_count": null,
   "id": "ae82d47b",
   "metadata": {},
   "outputs": [],
   "source": [
    "4.all:"
   ]
  },
  {
   "cell_type": "code",
   "execution_count": 4,
   "id": "e3159f93",
   "metadata": {},
   "outputs": [
    {
     "name": "stdout",
     "output_type": "stream",
     "text": [
      "True\n"
     ]
    }
   ],
   "source": [
    "My_list2 =[1,1,True]\n",
    "print(all(My_list2))"
   ]
  },
  {
   "cell_type": "code",
   "execution_count": 5,
   "id": "f6a75dd3",
   "metadata": {},
   "outputs": [
    {
     "name": "stdout",
     "output_type": "stream",
     "text": [
      "False\n"
     ]
    }
   ],
   "source": [
    "My_list3 = [1,2,4,0]\n",
    "print(all(My_list3))"
   ]
  },
  {
   "cell_type": "code",
   "execution_count": 6,
   "id": "c4857ea4",
   "metadata": {},
   "outputs": [
    {
     "name": "stdout",
     "output_type": "stream",
     "text": [
      "False\n"
     ]
    }
   ],
   "source": [
    "My_list4 = [0,0,False,0]\n",
    "print(all(My_list4))"
   ]
  },
  {
   "cell_type": "code",
   "execution_count": null,
   "id": "b0177160",
   "metadata": {},
   "outputs": [],
   "source": [
    "5.any : "
   ]
  },
  {
   "cell_type": "code",
   "execution_count": 7,
   "id": "52aac72e",
   "metadata": {},
   "outputs": [
    {
     "name": "stdout",
     "output_type": "stream",
     "text": [
      "True\n"
     ]
    }
   ],
   "source": [
    "My_list5 =[1,1,1]\n",
    "print(any(My_list5))"
   ]
  },
  {
   "cell_type": "code",
   "execution_count": 8,
   "id": "5f166736",
   "metadata": {},
   "outputs": [
    {
     "name": "stdout",
     "output_type": "stream",
     "text": [
      "True\n"
     ]
    }
   ],
   "source": [
    "My_list6 =[1,0,4,5,6]\n",
    "print(any(My_list6))"
   ]
  },
  {
   "cell_type": "code",
   "execution_count": null,
   "id": "63b7d93b",
   "metadata": {},
   "outputs": [],
   "source": [
    "# stack :"
   ]
  },
  {
   "cell_type": "code",
   "execution_count": 9,
   "id": "eb032869",
   "metadata": {},
   "outputs": [
    {
     "name": "stdout",
     "output_type": "stream",
     "text": [
      "['Amar', 'Akbar', 'Anthomy', 'Ram', 'Iqbal']\n"
     ]
    }
   ],
   "source": [
    "stack = [\"Amar\",\"Akbar\",\"Anthomy\" ]\n",
    "stack.append(\"Ram\")\n",
    "stack.append(\"Iqbal\")\n",
    "print(stack)"
   ]
  },
  {
   "cell_type": "code",
   "execution_count": 10,
   "id": "0d31b9a9",
   "metadata": {},
   "outputs": [
    {
     "name": "stdout",
     "output_type": "stream",
     "text": [
      "Iqbal\n",
      "Ram\n"
     ]
    }
   ],
   "source": [
    "print(stack.pop())\n",
    "print(stack.pop())"
   ]
  },
  {
   "cell_type": "code",
   "execution_count": 11,
   "id": "885a6e33",
   "metadata": {},
   "outputs": [
    {
     "name": "stdout",
     "output_type": "stream",
     "text": [
      "['Amar', 'Akbar', 'Anthomy']\n"
     ]
    }
   ],
   "source": [
    "print(stack)"
   ]
  },
  {
   "cell_type": "code",
   "execution_count": null,
   "id": "0f0899f6",
   "metadata": {},
   "outputs": [],
   "source": [
    "#queues :"
   ]
  },
  {
   "cell_type": "code",
   "execution_count": 12,
   "id": "10f79afc",
   "metadata": {},
   "outputs": [
    {
     "name": "stdout",
     "output_type": "stream",
     "text": [
      "['Amar', 'Akbar', 'Anthomy', 'Ram', 'Iqbal']\n"
     ]
    }
   ],
   "source": [
    "queue = [\"Amar\", \"Akbar\",\"Anthomy\",]\n",
    "queue.append(\"Ram\")\n",
    "queue.append(\"Iqbal\")\n",
    "print(queue)"
   ]
  },
  {
   "cell_type": "code",
   "execution_count": 14,
   "id": "71b997d9",
   "metadata": {},
   "outputs": [
    {
     "name": "stdout",
     "output_type": "stream",
     "text": [
      "Amar\n",
      "Akbar\n"
     ]
    }
   ],
   "source": [
    "print(queue.pop(0))\n",
    "print(queue.pop(0))"
   ]
  },
  {
   "cell_type": "code",
   "execution_count": null,
   "id": "ae1b419b",
   "metadata": {},
   "outputs": [],
   "source": [
    "# Zip:"
   ]
  },
  {
   "cell_type": "code",
   "execution_count": 15,
   "id": "4ef37932",
   "metadata": {},
   "outputs": [
    {
     "name": "stdout",
     "output_type": "stream",
     "text": [
      "[('ashvini', 1), ('vaishnavi', 3), ('komal', 4)]\n"
     ]
    }
   ],
   "source": [
    "name=[\"ashvini\", \"vaishnavi\",\"komal\"]\n",
    "roll_no=[1,3,4]\n",
    "mapped= zip(name,roll_no)\n",
    "mapped=list(mapped)\n",
    "print(mapped)"
   ]
  },
  {
   "cell_type": "code",
   "execution_count": null,
   "id": "cf9fa05f",
   "metadata": {},
   "outputs": [],
   "source": [
    "# unzipping:"
   ]
  },
  {
   "cell_type": "code",
   "execution_count": 16,
   "id": "49195202",
   "metadata": {},
   "outputs": [
    {
     "name": "stdout",
     "output_type": "stream",
     "text": [
      "('ashvini', 'vaishnavi', 'komal')\n",
      "(1, 3, 4)\n"
     ]
    }
   ],
   "source": [
    "namez,roll_noz=zip(*mapped)\n",
    "print(namez)\n",
    "print(roll_noz)"
   ]
  },
  {
   "cell_type": "code",
   "execution_count": null,
   "id": "f18d2d32",
   "metadata": {},
   "outputs": [],
   "source": []
  }
 ],
 "metadata": {
  "kernelspec": {
   "display_name": "Python 3 (ipykernel)",
   "language": "python",
   "name": "python3"
  },
  "language_info": {
   "codemirror_mode": {
    "name": "ipython",
    "version": 3
   },
   "file_extension": ".py",
   "mimetype": "text/x-python",
   "name": "python",
   "nbconvert_exporter": "python",
   "pygments_lexer": "ipython3",
   "version": "3.9.7"
  }
 },
 "nbformat": 4,
 "nbformat_minor": 5
}
