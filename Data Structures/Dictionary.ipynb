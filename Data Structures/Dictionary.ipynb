{
 "cells": [
  {
   "cell_type": "markdown",
   "id": "4a0229e3",
   "metadata": {},
   "source": [
    "#Dictionary are unordered collections of unique values stored in (key-values) pairs\n",
    "once stored in a dictionary, you can later obtain the values using just the key\n",
    "\n"
   ]
  },
  {
   "cell_type": "markdown",
   "id": "4cc949e1",
   "metadata": {},
   "source": [
    "Characteristics of Dictionary:\n",
    "\n",
    "1. Unordered\n",
    "2. Unique\n",
    "3. Mutable"
   ]
  },
  {
   "cell_type": "code",
   "execution_count": 5,
   "id": "69e6bf0d",
   "metadata": {},
   "outputs": [
    {
     "name": "stdout",
     "output_type": "stream",
     "text": [
      "{'name': 'Ashwini', 'country': 'India', 'telephone': 15648}\n"
     ]
    }
   ],
   "source": [
    "#Create dictionary using {} \n",
    "person = {'name':'Ashwini','country':'India','telephone':15648}\n",
    "print(person)"
   ]
  },
  {
   "cell_type": "code",
   "execution_count": 2,
   "id": "f6ac75b5",
   "metadata": {},
   "outputs": [
    {
     "name": "stdout",
     "output_type": "stream",
     "text": [
      "{'name': 'Ashu', 'Country': 'India', 'Status': 'Married'}\n"
     ]
    }
   ],
   "source": [
    "#Create dictionary using dict() method\n",
    "person1 = dict({'name':'Ashu','Country':'India','Status':'Married'})\n",
    "print(person1)"
   ]
  },
  {
   "cell_type": "code",
   "execution_count": 6,
   "id": "d1c92502",
   "metadata": {},
   "outputs": [
    {
     "name": "stdout",
     "output_type": "stream",
     "text": [
      "{'name': 'Ashwini', 'Country': 'India', 'telephone': 48764}\n"
     ]
    }
   ],
   "source": [
    "#Create dictionary from sequence having each item as a pair\n",
    "person3 = dict([('name','Ashwini'),('Country','India'),('telephone',48764)])\n",
    "print(person3)"
   ]
  },
  {
   "cell_type": "code",
   "execution_count": 7,
   "id": "18caf2c2",
   "metadata": {},
   "outputs": [
    {
     "name": "stdout",
     "output_type": "stream",
     "text": [
      "{'name': 'Ashwini', 10: 'Mobile'}\n"
     ]
    }
   ],
   "source": [
    "#Create dictionary with mixed keys\n",
    "#First key is String\n",
    "#second key is Integer\n",
    "sam_dict = {'name':'Ashwini',10 :'Mobile'}\n",
    "print(sam_dict)"
   ]
  },
  {
   "cell_type": "code",
   "execution_count": 8,
   "id": "05ff517f",
   "metadata": {},
   "outputs": [
    {
     "name": "stdout",
     "output_type": "stream",
     "text": [
      "<class 'dict'>\n"
     ]
    }
   ],
   "source": [
    "empty_Dic = {}\n",
    "print(type(empty_Dic))"
   ]
  },
  {
   "cell_type": "code",
   "execution_count": 1,
   "id": "fb241e94",
   "metadata": {},
   "outputs": [],
   "source": [
    "#For empty set give set constructor\n",
    "#empty_set = set()\n",
    "#print(type(empty_set)"
   ]
  },
  {
   "cell_type": "markdown",
   "id": "783fa3dd",
   "metadata": {},
   "source": [
    "Unordered means that the items does not have a definded order, you cannot refer to an item by using index."
   ]
  },
  {
   "cell_type": "code",
   "execution_count": 3,
   "id": "c2d9b95b",
   "metadata": {},
   "outputs": [
    {
     "name": "stdout",
     "output_type": "stream",
     "text": [
      "{'name': 'Vicky', 'country': 'India', 'telephone': 12048}\n"
     ]
    }
   ],
   "source": [
    "#Dictionaries cannot have two items with the same key:\n",
    "person = {'name':'Vicky','country':'India','telephone':12048}\n",
    "print(person)"
   ]
  },
  {
   "cell_type": "code",
   "execution_count": 5,
   "id": "dc3bcd0c",
   "metadata": {},
   "outputs": [
    {
     "name": "stdout",
     "output_type": "stream",
     "text": [
      "{'name': 'Vicky', 'country': 'India', 'telephone': [120574, 45698]}\n"
     ]
    }
   ],
   "source": [
    "person = {'name':'Vicky','country':'India','telephone':[120574,45698]}\n",
    "print(person)"
   ]
  },
  {
   "cell_type": "markdown",
   "id": "844143ad",
   "metadata": {},
   "source": [
    "#Accessing elements of dictionary"
   ]
  },
  {
   "cell_type": "code",
   "execution_count": 6,
   "id": "3b4d958f",
   "metadata": {},
   "outputs": [],
   "source": [
    "person = {'name':'Vicky','country':'India','telephone':12048}"
   ]
  },
  {
   "cell_type": "code",
   "execution_count": 8,
   "id": "f70ccdfa",
   "metadata": {},
   "outputs": [
    {
     "name": "stdout",
     "output_type": "stream",
     "text": [
      "Vicky\n"
     ]
    }
   ],
   "source": [
    "#access value using key name in[]\n",
    "print(person['name'])"
   ]
  },
  {
   "cell_type": "code",
   "execution_count": 10,
   "id": "8c4fdc5c",
   "metadata": {},
   "outputs": [
    {
     "name": "stdout",
     "output_type": "stream",
     "text": [
      "12048\n"
     ]
    }
   ],
   "source": [
    "#Get key value using key name in[]\n",
    "print(person.get('telephone'))"
   ]
  },
  {
   "cell_type": "code",
   "execution_count": 11,
   "id": "0af391c3",
   "metadata": {},
   "outputs": [
    {
     "name": "stdout",
     "output_type": "stream",
     "text": [
      "dict_keys(['name', 'country', 'telephone'])\n"
     ]
    }
   ],
   "source": [
    "#Get all keys and values:\n",
    "person = {'name':'Sanvee','country':'India','telephone':17859}\n",
    "#Get all keys\n",
    "print(person.keys())"
   ]
  },
  {
   "cell_type": "code",
   "execution_count": 13,
   "id": "61828a34",
   "metadata": {},
   "outputs": [
    {
     "name": "stdout",
     "output_type": "stream",
     "text": [
      "dict_values(['Sanvee', 'India', 17859])\n"
     ]
    }
   ],
   "source": [
    "print(person.values())"
   ]
  },
  {
   "cell_type": "code",
   "execution_count": 15,
   "id": "a98321be",
   "metadata": {},
   "outputs": [
    {
     "name": "stdout",
     "output_type": "stream",
     "text": [
      "dict_items([('name', 'Sanvee'), ('country', 'India'), ('telephone', 17859)])\n"
     ]
    }
   ],
   "source": [
    "print(person.items())"
   ]
  },
  {
   "cell_type": "code",
   "execution_count": 17,
   "id": "a37e6886",
   "metadata": {},
   "outputs": [
    {
     "name": "stdout",
     "output_type": "stream",
     "text": [
      "3\n"
     ]
    }
   ],
   "source": [
    "#length of dictionary\n",
    "print(len(person))"
   ]
  },
  {
   "cell_type": "markdown",
   "id": "23f0538b",
   "metadata": {},
   "source": [
    "#Adding item to a dictionary"
   ]
  },
  {
   "cell_type": "code",
   "execution_count": 18,
   "id": "e084fdcd",
   "metadata": {},
   "outputs": [],
   "source": [
    "person = {'name':'Vicky','country':'India','telephone':12048}"
   ]
  },
  {
   "cell_type": "code",
   "execution_count": 19,
   "id": "e2b52c5c",
   "metadata": {},
   "outputs": [],
   "source": [
    "person['weight']= 500"
   ]
  },
  {
   "cell_type": "code",
   "execution_count": 20,
   "id": "42475369",
   "metadata": {},
   "outputs": [
    {
     "name": "stdout",
     "output_type": "stream",
     "text": [
      "{'name': 'Vicky', 'country': 'India', 'telephone': 12048, 'weight': 500}\n"
     ]
    }
   ],
   "source": [
    "print(person)"
   ]
  },
  {
   "cell_type": "code",
   "execution_count": 24,
   "id": "929d7eeb",
   "metadata": {},
   "outputs": [],
   "source": [
    "person.update({'height':'50'})"
   ]
  },
  {
   "cell_type": "code",
   "execution_count": 25,
   "id": "24eee331",
   "metadata": {},
   "outputs": [
    {
     "name": "stdout",
     "output_type": "stream",
     "text": [
      "{'name': 'Vicky', 'country': 'India', 'telephone': 12048, 'weight': 500, 'height': '50'}\n"
     ]
    }
   ],
   "source": [
    "print(person)"
   ]
  },
  {
   "cell_type": "code",
   "execution_count": 28,
   "id": "471afff5",
   "metadata": {},
   "outputs": [],
   "source": [
    "person.update([('nickname','vic'),('destiny','vikhroli')])"
   ]
  },
  {
   "cell_type": "code",
   "execution_count": 29,
   "id": "4f8118ca",
   "metadata": {},
   "outputs": [
    {
     "name": "stdout",
     "output_type": "stream",
     "text": [
      "{'name': 'Vicky', 'country': 'India', 'telephone': 12048, 'weight': 500, 'height': '50', 'nickname': 'vic', 'destiny': 'vikhroli'}\n"
     ]
    }
   ],
   "source": [
    "print(person)"
   ]
  },
  {
   "cell_type": "code",
   "execution_count": 34,
   "id": "3b2de86d",
   "metadata": {},
   "outputs": [
    {
     "name": "stdout",
     "output_type": "stream",
     "text": [
      "{'ram': 50, 'raj': 80, 'dheeraj': 88, 'minal': 56, 'nilam': 71}\n"
     ]
    }
   ],
   "source": [
    "dict2 = {'ram':50,'raj':80,'dheeraj':88}\n",
    "dict1 = {'minal':56,'nilam':71}\n",
    "#copy second dict to first dict\n",
    "dict2.update(dict1)\n",
    "print(dict2)"
   ]
  },
  {
   "cell_type": "code",
   "execution_count": 35,
   "id": "5040cae5",
   "metadata": {},
   "outputs": [],
   "source": [
    "#we can unpack any number of dictionaries and add their contents to another dictionary using\n",
    "dict2 = {'ram':50,'raj':80,'dheeraj':88}\n",
    "dict1 = {'minal':56,'nilam':71}\n",
    "dict3 = {'mia':33,\"ava\":52}\n",
    "#join 3 dictionaries\n",
    "stud_dict = {**dict2, **dict3, **dict1}"
   ]
  },
  {
   "cell_type": "code",
   "execution_count": 36,
   "id": "d0c8783b",
   "metadata": {},
   "outputs": [
    {
     "name": "stdout",
     "output_type": "stream",
     "text": [
      "{'ram': 50, 'raj': 80, 'dheeraj': 88, 'mia': 33, 'ava': 52, 'minal': 56, 'nilam': 71}\n"
     ]
    }
   ],
   "source": [
    "print(stud_dict)"
   ]
  },
  {
   "cell_type": "markdown",
   "id": "839bc7e3",
   "metadata": {},
   "source": [
    "Modify the values of the dictionary keys"
   ]
  },
  {
   "cell_type": "code",
   "execution_count": 38,
   "id": "561c40a6",
   "metadata": {},
   "outputs": [
    {
     "name": "stdout",
     "output_type": "stream",
     "text": [
      "{'name': 'Vicky', 'country': 'India', 'telephone': 12048}\n"
     ]
    }
   ],
   "source": [
    "person = {'name':'Vicky','country':'India','telephone':12048}\n",
    "print(person)"
   ]
  },
  {
   "cell_type": "code",
   "execution_count": 40,
   "id": "38446ee3",
   "metadata": {},
   "outputs": [
    {
     "name": "stdout",
     "output_type": "stream",
     "text": [
      "{'name': 'Vicky', 'country': 'Canada', 'telephone': 12048}\n"
     ]
    }
   ],
   "source": [
    "#Update the country name\n",
    "person['country']='Canada'\n",
    "print(person)"
   ]
  },
  {
   "cell_type": "code",
   "execution_count": 41,
   "id": "4d78ad30",
   "metadata": {},
   "outputs": [
    {
     "name": "stdout",
     "output_type": "stream",
     "text": [
      "Canada\n"
     ]
    }
   ],
   "source": [
    "#Print the updated country\n",
    "print(person['country'])"
   ]
  },
  {
   "cell_type": "code",
   "execution_count": 42,
   "id": "aa48fbb0",
   "metadata": {},
   "outputs": [],
   "source": [
    "#Update the country name using update() method\n",
    "person.update({'country':'India'})"
   ]
  },
  {
   "cell_type": "code",
   "execution_count": 43,
   "id": "e8e298f4",
   "metadata": {},
   "outputs": [
    {
     "name": "stdout",
     "output_type": "stream",
     "text": [
      "{'name': 'Vicky', 'country': 'India', 'telephone': 12048}\n"
     ]
    }
   ],
   "source": [
    "print(person)"
   ]
  },
  {
   "cell_type": "code",
   "execution_count": 46,
   "id": "99bc1dc4",
   "metadata": {},
   "outputs": [
    {
     "name": "stdout",
     "output_type": "stream",
     "text": [
      "India\n"
     ]
    }
   ],
   "source": [
    "#print the updated country\n",
    "print(person['country'])"
   ]
  },
  {
   "cell_type": "code",
   "execution_count": 47,
   "id": "522c476f",
   "metadata": {},
   "outputs": [
    {
     "name": "stdout",
     "output_type": "stream",
     "text": [
      "{'name': 'Vicky', 'country': 'India', 'telephone': 12048}\n"
     ]
    }
   ],
   "source": [
    "print(person)"
   ]
  },
  {
   "cell_type": "markdown",
   "id": "61a72424",
   "metadata": {},
   "source": [
    "#Removing items from the dictionary"
   ]
  },
  {
   "cell_type": "code",
   "execution_count": 48,
   "id": "ca638a01",
   "metadata": {},
   "outputs": [],
   "source": [
    "del_item = person.popitem()"
   ]
  },
  {
   "cell_type": "code",
   "execution_count": 49,
   "id": "505aa7d2",
   "metadata": {},
   "outputs": [
    {
     "name": "stdout",
     "output_type": "stream",
     "text": [
      "{'name': 'Vicky', 'country': 'India'}\n"
     ]
    }
   ],
   "source": [
    "print(person)"
   ]
  },
  {
   "cell_type": "code",
   "execution_count": 50,
   "id": "2b3fcfab",
   "metadata": {},
   "outputs": [
    {
     "name": "stdout",
     "output_type": "stream",
     "text": [
      "('telephone', 12048)\n"
     ]
    }
   ],
   "source": [
    "print(del_item)"
   ]
  },
  {
   "cell_type": "code",
   "execution_count": 51,
   "id": "ecc73009",
   "metadata": {},
   "outputs": [],
   "source": [
    "person.update({'telephone':66845})"
   ]
  },
  {
   "cell_type": "code",
   "execution_count": 52,
   "id": "5964f6d3",
   "metadata": {},
   "outputs": [
    {
     "name": "stdout",
     "output_type": "stream",
     "text": [
      "{'name': 'Vicky', 'country': 'India', 'telephone': 66845}\n"
     ]
    }
   ],
   "source": [
    "print(person)"
   ]
  },
  {
   "cell_type": "code",
   "execution_count": 53,
   "id": "d75dffe9",
   "metadata": {},
   "outputs": [],
   "source": [
    "#remove key telephone from the dictionary\n",
    "del_key = person.pop('telephone')"
   ]
  },
  {
   "cell_type": "code",
   "execution_count": 54,
   "id": "9420a40f",
   "metadata": {},
   "outputs": [
    {
     "data": {
      "text/plain": [
       "66845"
      ]
     },
     "execution_count": 54,
     "metadata": {},
     "output_type": "execute_result"
    }
   ],
   "source": [
    "del_key"
   ]
  },
  {
   "cell_type": "code",
   "execution_count": 55,
   "id": "ece461ae",
   "metadata": {},
   "outputs": [
    {
     "name": "stdout",
     "output_type": "stream",
     "text": [
      "{'name': 'Vicky', 'country': 'India'}\n"
     ]
    }
   ],
   "source": [
    "print(person)"
   ]
  },
  {
   "cell_type": "code",
   "execution_count": 57,
   "id": "79a2d8b3",
   "metadata": {},
   "outputs": [],
   "source": [
    "person['city']='vikhroli'"
   ]
  },
  {
   "cell_type": "code",
   "execution_count": 58,
   "id": "98958c06",
   "metadata": {},
   "outputs": [
    {
     "name": "stdout",
     "output_type": "stream",
     "text": [
      "{'name': 'Vicky', 'country': 'India', 'city': 'vikhroli'}\n"
     ]
    }
   ],
   "source": [
    "print(person)"
   ]
  },
  {
   "cell_type": "code",
   "execution_count": 59,
   "id": "e1fb6b68",
   "metadata": {},
   "outputs": [],
   "source": [
    "#using del keyword\n",
    "del person['name']"
   ]
  },
  {
   "cell_type": "code",
   "execution_count": 60,
   "id": "816b4ece",
   "metadata": {},
   "outputs": [
    {
     "data": {
      "text/plain": [
       "{'country': 'India', 'city': 'vikhroli'}"
      ]
     },
     "execution_count": 60,
     "metadata": {},
     "output_type": "execute_result"
    }
   ],
   "source": [
    "person"
   ]
  },
  {
   "cell_type": "code",
   "execution_count": 61,
   "id": "0bd0457c",
   "metadata": {},
   "outputs": [],
   "source": [
    "#using clear to empty the content of a dict"
   ]
  },
  {
   "cell_type": "code",
   "execution_count": 62,
   "id": "1d7e3c9f",
   "metadata": {},
   "outputs": [],
   "source": [
    "person.clear()"
   ]
  },
  {
   "cell_type": "code",
   "execution_count": 63,
   "id": "bedd04d6",
   "metadata": {},
   "outputs": [
    {
     "name": "stdout",
     "output_type": "stream",
     "text": [
      "{}\n"
     ]
    }
   ],
   "source": [
    "print(person)"
   ]
  },
  {
   "cell_type": "code",
   "execution_count": 64,
   "id": "acd0bee4",
   "metadata": {},
   "outputs": [],
   "source": [
    "del person"
   ]
  },
  {
   "cell_type": "code",
   "execution_count": 65,
   "id": "4fc5e048",
   "metadata": {},
   "outputs": [
    {
     "ename": "NameError",
     "evalue": "name 'person' is not defined",
     "output_type": "error",
     "traceback": [
      "\u001b[1;31m---------------------------------------------------------------------------\u001b[0m",
      "\u001b[1;31mNameError\u001b[0m                                 Traceback (most recent call last)",
      "\u001b[1;32mC:\\Users\\ADMINI~1\\AppData\\Local\\Temp/ipykernel_3728/4147899475.py\u001b[0m in \u001b[0;36m<module>\u001b[1;34m\u001b[0m\n\u001b[1;32m----> 1\u001b[1;33m \u001b[0mprint\u001b[0m\u001b[1;33m(\u001b[0m\u001b[0mperson\u001b[0m\u001b[1;33m)\u001b[0m\u001b[1;33m\u001b[0m\u001b[1;33m\u001b[0m\u001b[0m\n\u001b[0m",
      "\u001b[1;31mNameError\u001b[0m: name 'person' is not defined"
     ]
    }
   ],
   "source": [
    "print(person)"
   ]
  },
  {
   "cell_type": "code",
   "execution_count": 85,
   "id": "8899bf95",
   "metadata": {},
   "outputs": [],
   "source": [
    "person = {'name':'raj'}"
   ]
  },
  {
   "cell_type": "code",
   "execution_count": 86,
   "id": "12d59094",
   "metadata": {},
   "outputs": [],
   "source": [
    "person.update({'country':'India'})"
   ]
  },
  {
   "cell_type": "code",
   "execution_count": 88,
   "id": "3410f3a3",
   "metadata": {},
   "outputs": [],
   "source": [
    "person[('designation')]='working'\n",
    "person.update({'tel':56425468})"
   ]
  },
  {
   "cell_type": "code",
   "execution_count": 89,
   "id": "1185ab1a",
   "metadata": {},
   "outputs": [
    {
     "name": "stdout",
     "output_type": "stream",
     "text": [
      "{'name': 'raj', 'country': 'India', 'designation': 'working', 'tel': 56425468}\n"
     ]
    }
   ],
   "source": [
    "print(person)"
   ]
  },
  {
   "cell_type": "code",
   "execution_count": 90,
   "id": "a1d1d29c",
   "metadata": {},
   "outputs": [],
   "source": [
    "#Copy a dictionary"
   ]
  },
  {
   "cell_type": "code",
   "execution_count": 92,
   "id": "348cce2d",
   "metadata": {},
   "outputs": [],
   "source": [
    "dict1 = {\"miraz\":56,'romeo':45}\n",
    "#Copy using '=' operator\n",
    "dict2 = dict1"
   ]
  },
  {
   "cell_type": "code",
   "execution_count": 93,
   "id": "132fbf23",
   "metadata": {},
   "outputs": [
    {
     "name": "stdout",
     "output_type": "stream",
     "text": [
      "{'miraz': 56, 'romeo': 45}\n"
     ]
    }
   ],
   "source": [
    "print(dict2)"
   ]
  },
  {
   "cell_type": "code",
   "execution_count": 94,
   "id": "44e036ee",
   "metadata": {},
   "outputs": [
    {
     "name": "stdout",
     "output_type": "stream",
     "text": [
      "{'miraz': 56, 'romeo': 45}\n"
     ]
    }
   ],
   "source": [
    "print(dict1)"
   ]
  },
  {
   "cell_type": "code",
   "execution_count": 95,
   "id": "34284556",
   "metadata": {},
   "outputs": [],
   "source": [
    "#now update\n",
    "dict2.update({'rahul':90})"
   ]
  },
  {
   "cell_type": "code",
   "execution_count": 96,
   "id": "ab053dc5",
   "metadata": {},
   "outputs": [
    {
     "data": {
      "text/plain": [
       "{'miraz': 56, 'romeo': 45, 'rahul': 90}"
      ]
     },
     "execution_count": 96,
     "metadata": {},
     "output_type": "execute_result"
    }
   ],
   "source": [
    "dict2"
   ]
  },
  {
   "cell_type": "code",
   "execution_count": 97,
   "id": "14b519ac",
   "metadata": {},
   "outputs": [
    {
     "data": {
      "text/plain": [
       "{'miraz': 56, 'romeo': 45, 'rahul': 90}"
      ]
     },
     "execution_count": 97,
     "metadata": {},
     "output_type": "execute_result"
    }
   ],
   "source": [
    "dict1"
   ]
  },
  {
   "cell_type": "code",
   "execution_count": 98,
   "id": "22fb4782",
   "metadata": {},
   "outputs": [],
   "source": [
    "dict1 = {\"miraz\":56,'romeo':45}"
   ]
  },
  {
   "cell_type": "code",
   "execution_count": 100,
   "id": "0b946469",
   "metadata": {},
   "outputs": [],
   "source": [
    "#sort dictionary items"
   ]
  },
  {
   "cell_type": "code",
   "execution_count": 101,
   "id": "83c3ddac",
   "metadata": {},
   "outputs": [
    {
     "name": "stdout",
     "output_type": "stream",
     "text": [
      "[('miraz', 56), ('rahul', 90), ('romeo', 45)]\n"
     ]
    }
   ],
   "source": [
    "#Sorting dictionary by keys\n",
    "print(sorted(dict2.items()))"
   ]
  },
  {
   "cell_type": "code",
   "execution_count": 102,
   "id": "44336c2e",
   "metadata": {},
   "outputs": [
    {
     "name": "stdout",
     "output_type": "stream",
     "text": [
      "[45, 56, 90]\n"
     ]
    }
   ],
   "source": [
    "print(sorted(dict2.values()))"
   ]
  },
  {
   "cell_type": "code",
   "execution_count": 103,
   "id": "e3c65242",
   "metadata": {},
   "outputs": [
    {
     "name": "stdout",
     "output_type": "stream",
     "text": [
      "['miraz', 'rahul', 'romeo']\n"
     ]
    }
   ],
   "source": [
    "print(sorted(dict2.keys()))"
   ]
  },
  {
   "cell_type": "markdown",
   "id": "dad4dbfa",
   "metadata": {},
   "source": [
    "#Python built in function in dictionary"
   ]
  },
  {
   "cell_type": "code",
   "execution_count": 104,
   "id": "2f6975eb",
   "metadata": {},
   "outputs": [],
   "source": [
    "#min and max\n",
    "dict1 = {'ram':66,'raj':5689,'derek':458}"
   ]
  },
  {
   "cell_type": "code",
   "execution_count": 106,
   "id": "a706df1b",
   "metadata": {},
   "outputs": [
    {
     "name": "stdout",
     "output_type": "stream",
     "text": [
      "minimum values are  derek\n"
     ]
    }
   ],
   "source": [
    "print(\"minimum values are \",min(dict1))"
   ]
  },
  {
   "cell_type": "code",
   "execution_count": 107,
   "id": "aa9ef264",
   "metadata": {},
   "outputs": [
    {
     "name": "stdout",
     "output_type": "stream",
     "text": [
      "max values are : ram\n"
     ]
    }
   ],
   "source": [
    "print(\"max values are :\",max(dict1))"
   ]
  },
  {
   "cell_type": "code",
   "execution_count": null,
   "id": "fa0eb7c3",
   "metadata": {},
   "outputs": [],
   "source": []
  }
 ],
 "metadata": {
  "kernelspec": {
   "display_name": "Python 3 (ipykernel)",
   "language": "python",
   "name": "python3"
  },
  "language_info": {
   "codemirror_mode": {
    "name": "ipython",
    "version": 3
   },
   "file_extension": ".py",
   "mimetype": "text/x-python",
   "name": "python",
   "nbconvert_exporter": "python",
   "pygments_lexer": "ipython3",
   "version": "3.9.7"
  }
 },
 "nbformat": 4,
 "nbformat_minor": 5
}
