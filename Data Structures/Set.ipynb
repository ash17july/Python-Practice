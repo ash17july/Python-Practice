{
 "cells": [
  {
   "cell_type": "markdown",
   "id": "2cd4d090",
   "metadata": {},
   "source": [
    "#Set is an unordered collection of data items that are unique."
   ]
  },
  {
   "cell_type": "markdown",
   "id": "5fe1c2fa",
   "metadata": {},
   "source": [
    "Characteristics of set\n",
    "1. Unordered\n",
    "2. Unchangeable\n",
    "3. Heterogenous\n",
    "4. Unique"
   ]
  },
  {
   "cell_type": "code",
   "execution_count": 3,
   "id": "c6a0c849",
   "metadata": {},
   "outputs": [
    {
     "name": "stdout",
     "output_type": "stream",
     "text": [
      "{1, 2, 3, 4, 6, 8}\n"
     ]
    }
   ],
   "source": [
    "Set = {1,4,6,2,8,3}\n",
    "print(Set)"
   ]
  },
  {
   "cell_type": "code",
   "execution_count": 6,
   "id": "96c67e53",
   "metadata": {},
   "outputs": [
    {
     "name": "stdout",
     "output_type": "stream",
     "text": [
      "{25, 75.3, 'Ashwini'}\n"
     ]
    }
   ],
   "source": [
    "sample_set = {'Ashwini',25,75.3}\n",
    "print(sample_set)"
   ]
  },
  {
   "cell_type": "code",
   "execution_count": 8,
   "id": "ac29fab6",
   "metadata": {},
   "outputs": [
    {
     "name": "stdout",
     "output_type": "stream",
     "text": [
      "{1, 2, 3, 4}\n"
     ]
    }
   ],
   "source": [
    "Set = set((1,2,3,4))\n",
    "print(Set)"
   ]
  },
  {
   "cell_type": "code",
   "execution_count": 9,
   "id": "6f193bda",
   "metadata": {},
   "outputs": [
    {
     "data": {
      "text/plain": [
       "set"
      ]
     },
     "execution_count": 9,
     "metadata": {},
     "output_type": "execute_result"
    }
   ],
   "source": [
    "type(Set)"
   ]
  },
  {
   "cell_type": "code",
   "execution_count": 10,
   "id": "a7c96648",
   "metadata": {},
   "outputs": [],
   "source": [
    "s = {'',}"
   ]
  },
  {
   "cell_type": "code",
   "execution_count": 11,
   "id": "caafe41a",
   "metadata": {},
   "outputs": [
    {
     "name": "stdout",
     "output_type": "stream",
     "text": [
      "<class 'set'>\n"
     ]
    }
   ],
   "source": [
    "print(type(s))"
   ]
  },
  {
   "cell_type": "code",
   "execution_count": 12,
   "id": "3a4e2d8d",
   "metadata": {},
   "outputs": [
    {
     "data": {
      "text/plain": [
       "1"
      ]
     },
     "execution_count": 12,
     "metadata": {},
     "output_type": "execute_result"
    }
   ],
   "source": [
    "len(s)"
   ]
  },
  {
   "cell_type": "code",
   "execution_count": null,
   "id": "48d46901",
   "metadata": {},
   "outputs": [],
   "source": [
    "#ADD ITEMS"
   ]
  },
  {
   "cell_type": "code",
   "execution_count": 1,
   "id": "769cbf43",
   "metadata": {},
   "outputs": [
    {
     "name": "stdout",
     "output_type": "stream",
     "text": [
      "{'Orange', 'Apple', 'Cherry', 'Banana'}\n"
     ]
    }
   ],
   "source": [
    "this_color = {'Apple','Banana','Cherry'}\n",
    "this_color.add('Orange')\n",
    "print(this_color)"
   ]
  },
  {
   "cell_type": "code",
   "execution_count": 13,
   "id": "fe31c7cd",
   "metadata": {},
   "outputs": [
    {
     "name": "stdout",
     "output_type": "stream",
     "text": [
      "{'Mango', 'Grapes', 'Orange', 'Apple', 'Cherry', 'Banana'}\n"
     ]
    }
   ],
   "source": [
    "#Update\n",
    "this_color.update(['Mango','Grapes','Cherry'])\n",
    "print(this_color)"
   ]
  },
  {
   "cell_type": "code",
   "execution_count": 16,
   "id": "0e618470",
   "metadata": {},
   "outputs": [
    {
     "name": "stdout",
     "output_type": "stream",
     "text": [
      "{'Chiku', 'Apple', 'Pineapple', 'Grapes', 'Cherry', 'Banana'}\n"
     ]
    }
   ],
   "source": [
    "a = {'Apple','Banana','Chiku','Cherry'}\n",
    "b = {'Pineapple','Grapes'}\n",
    "a.update(b)\n",
    "print(a)"
   ]
  },
  {
   "cell_type": "code",
   "execution_count": 17,
   "id": "a56a3fab",
   "metadata": {},
   "outputs": [],
   "source": [
    "#REMOVE ITEMS"
   ]
  },
  {
   "cell_type": "code",
   "execution_count": 18,
   "id": "93ecc4d7",
   "metadata": {},
   "outputs": [
    {
     "name": "stdout",
     "output_type": "stream",
     "text": [
      "{'yellow', 'orange', 'pink', 'red'}\n"
     ]
    }
   ],
   "source": [
    "#remove method\n",
    "color_set = {'red','orange','yellow','grey','pink'}\n",
    "\n",
    "#remove single item\n",
    "color_set.remove('grey')\n",
    "print(color_set)"
   ]
  },
  {
   "cell_type": "code",
   "execution_count": 22,
   "id": "25978bce",
   "metadata": {},
   "outputs": [
    {
     "name": "stdout",
     "output_type": "stream",
     "text": [
      "{'yellow', 'orange', 'pink', 'red'}\n"
     ]
    }
   ],
   "source": [
    "#discard method\n",
    "color_set.discard('grey')\n",
    "print(color_set)"
   ]
  },
  {
   "cell_type": "code",
   "execution_count": 23,
   "id": "2febf257",
   "metadata": {},
   "outputs": [
    {
     "name": "stdout",
     "output_type": "stream",
     "text": [
      "yellow\n"
     ]
    }
   ],
   "source": [
    "#pop() method\n",
    "#it removes any random method\n",
    "del_item = color_set.pop()\n",
    "print(del_item)"
   ]
  },
  {
   "cell_type": "code",
   "execution_count": 24,
   "id": "1815b84b",
   "metadata": {},
   "outputs": [],
   "source": [
    "#remove all items\n",
    "color_set.clear()"
   ]
  },
  {
   "cell_type": "code",
   "execution_count": 25,
   "id": "4c475d01",
   "metadata": {},
   "outputs": [
    {
     "name": "stdout",
     "output_type": "stream",
     "text": [
      "set()\n"
     ]
    }
   ],
   "source": [
    "print(color_set)"
   ]
  },
  {
   "cell_type": "code",
   "execution_count": 26,
   "id": "19a39509",
   "metadata": {},
   "outputs": [
    {
     "name": "stdout",
     "output_type": "stream",
     "text": [
      "{'indigo', 'red', 'yellow', 'orange', 'black', 'violet'}\n"
     ]
    }
   ],
   "source": [
    "color_set = {'red','orange','yellow','black','violet','indigo'}\n",
    "print(color_set)"
   ]
  },
  {
   "cell_type": "code",
   "execution_count": 27,
   "id": "bc67e422",
   "metadata": {},
   "outputs": [],
   "source": [
    "#del items\n",
    "del color_set"
   ]
  },
  {
   "cell_type": "code",
   "execution_count": 28,
   "id": "653fe650",
   "metadata": {},
   "outputs": [
    {
     "ename": "NameError",
     "evalue": "name 'color_set' is not defined",
     "output_type": "error",
     "traceback": [
      "\u001b[1;31m---------------------------------------------------------------------------\u001b[0m",
      "\u001b[1;31mNameError\u001b[0m                                 Traceback (most recent call last)",
      "\u001b[1;32mC:\\Users\\ADMINI~1\\AppData\\Local\\Temp/ipykernel_6480/4214215636.py\u001b[0m in \u001b[0;36m<module>\u001b[1;34m\u001b[0m\n\u001b[1;32m----> 1\u001b[1;33m \u001b[0mprint\u001b[0m\u001b[1;33m(\u001b[0m\u001b[0mcolor_set\u001b[0m\u001b[1;33m)\u001b[0m\u001b[1;33m\u001b[0m\u001b[1;33m\u001b[0m\u001b[0m\n\u001b[0m",
      "\u001b[1;31mNameError\u001b[0m: name 'color_set' is not defined"
     ]
    }
   ],
   "source": [
    "print(color_set)"
   ]
  },
  {
   "cell_type": "code",
   "execution_count": 29,
   "id": "8094f42d",
   "metadata": {},
   "outputs": [],
   "source": [
    "#Remove and discard differences:\n",
    "#remove() method throws a keyerror if the item you want to delete is not present in a set.\n",
    "#discard() method will not throw any error if the item you want to delete is not present in a set."
   ]
  },
  {
   "cell_type": "markdown",
   "id": "bed11c94",
   "metadata": {},
   "source": [
    "**SET OPERATORS**\n"
   ]
  },
  {
   "cell_type": "markdown",
   "id": "e45c3e94",
   "metadata": {},
   "source": [
    "Union"
   ]
  },
  {
   "cell_type": "code",
   "execution_count": 37,
   "id": "3d8f1cbb",
   "metadata": {},
   "outputs": [],
   "source": [
    "#Union\n",
    "color_set = {'red','orange','yellow','black','violet','indigo'}\n",
    "remaining_color = {'purple','grey','green','red','violet'}"
   ]
  },
  {
   "cell_type": "code",
   "execution_count": 38,
   "id": "f005f909",
   "metadata": {},
   "outputs": [
    {
     "name": "stdout",
     "output_type": "stream",
     "text": [
      "{'grey', 'yellow', 'black', 'indigo', 'violet', 'green', 'orange', 'purple', 'red'}\n"
     ]
    }
   ],
   "source": [
    "#Union of two set using OR operator\n",
    "vib_color = color_set | remaining_color\n",
    "print(vib_color)"
   ]
  },
  {
   "cell_type": "code",
   "execution_count": null,
   "id": "13a41de7",
   "metadata": {},
   "outputs": [],
   "source": [
    "#Union of two set using union() method\n",
    "vib_color = (color_set.union(remaining_color))\n",
    "print(vib_color)"
   ]
  },
  {
   "cell_type": "markdown",
   "id": "df4d4e9e",
   "metadata": {},
   "source": [
    "INTERSECTION"
   ]
  },
  {
   "cell_type": "code",
   "execution_count": 43,
   "id": "9ce9229d",
   "metadata": {},
   "outputs": [],
   "source": [
    "color_set = {'red','orange','yellow','black','violet','indigo'}\n",
    "remaining_color = {'purple','grey','green','red','violet'}"
   ]
  },
  {
   "cell_type": "code",
   "execution_count": 44,
   "id": "e49b98a6",
   "metadata": {},
   "outputs": [
    {
     "name": "stdout",
     "output_type": "stream",
     "text": [
      "{'violet', 'red'}\n"
     ]
    }
   ],
   "source": [
    "#Intersection of two set using & operator\n",
    "\n",
    "vib_color = color_set & remaining_color\n",
    "print(vib_color)"
   ]
  },
  {
   "cell_type": "code",
   "execution_count": 45,
   "id": "c6da09f4",
   "metadata": {},
   "outputs": [
    {
     "name": "stdout",
     "output_type": "stream",
     "text": [
      "{'violet', 'red'}\n"
     ]
    }
   ],
   "source": [
    "#Intersection of two set using intersection() method\n",
    "vib_color = color_set & remaining_color\n",
    "print(vib_color)"
   ]
  },
  {
   "cell_type": "markdown",
   "id": "adefd428",
   "metadata": {},
   "source": [
    "DIFFERENCE"
   ]
  },
  {
   "cell_type": "code",
   "execution_count": 46,
   "id": "39854442",
   "metadata": {},
   "outputs": [],
   "source": [
    "color_set = {'red','orange','yellow','black','violet','indigo'}\n",
    "remaining_color = {'purple','grey','green','red','violet'}"
   ]
  },
  {
   "cell_type": "code",
   "execution_count": 47,
   "id": "d0c56c5b",
   "metadata": {},
   "outputs": [
    {
     "name": "stdout",
     "output_type": "stream",
     "text": [
      "{'orange', 'black', 'indigo', 'yellow'}\n"
     ]
    }
   ],
   "source": [
    "#difference using - operator\n",
    "vib_color = color_set - remaining_color\n",
    "print(vib_color)"
   ]
  },
  {
   "cell_type": "code",
   "execution_count": 48,
   "id": "7ce00ba5",
   "metadata": {},
   "outputs": [
    {
     "name": "stdout",
     "output_type": "stream",
     "text": [
      "{'orange', 'black', 'indigo', 'yellow'}\n"
     ]
    }
   ],
   "source": [
    "#Using difference() method\n",
    "vib_color = color_set.difference(remaining_color)\n",
    "print(vib_color)"
   ]
  },
  {
   "cell_type": "markdown",
   "id": "ddcd3e30",
   "metadata": {},
   "source": [
    "SYMMETRIC DIFFERENCE"
   ]
  },
  {
   "cell_type": "code",
   "execution_count": 49,
   "id": "204a71bd",
   "metadata": {},
   "outputs": [],
   "source": [
    "color_set = {'red','orange','yellow','black','violet','indigo'}\n",
    "remaining_color = {'purple','grey','green','red','violet'}"
   ]
  },
  {
   "cell_type": "code",
   "execution_count": 51,
   "id": "00c2f32f",
   "metadata": {},
   "outputs": [
    {
     "name": "stdout",
     "output_type": "stream",
     "text": [
      "{'grey', 'indigo', 'green', 'yellow', 'black', 'orange', 'purple'}\n"
     ]
    }
   ],
   "source": [
    "#Using ^ operator\n",
    "vib_color = color_set ^ remaining_color\n",
    "print(vib_color)"
   ]
  },
  {
   "cell_type": "code",
   "execution_count": 52,
   "id": "1b0d156a",
   "metadata": {},
   "outputs": [
    {
     "name": "stdout",
     "output_type": "stream",
     "text": [
      "{'grey', 'indigo', 'green', 'yellow', 'black', 'orange', 'purple'}\n"
     ]
    }
   ],
   "source": [
    "#Using symmetric_difference() method\n",
    "vib_color = color_set.symmetric_difference(remaining_color)\n",
    "print(vib_color)"
   ]
  },
  {
   "cell_type": "markdown",
   "id": "7e182a66",
   "metadata": {},
   "source": [
    "SUBSET"
   ]
  },
  {
   "cell_type": "code",
   "execution_count": 58,
   "id": "1d97919d",
   "metadata": {},
   "outputs": [],
   "source": [
    "color1 = {'red','orange','yellow','black','violet','indigo'}\n",
    "color2 = {'orange','red','violet'}"
   ]
  },
  {
   "cell_type": "code",
   "execution_count": 59,
   "id": "09b3dc0e",
   "metadata": {},
   "outputs": [
    {
     "name": "stdout",
     "output_type": "stream",
     "text": [
      "False\n",
      "True\n"
     ]
    }
   ],
   "source": [
    "#isSubset\n",
    "print(color1.issubset(color2))\n",
    "print(color2.issubset(color1))"
   ]
  },
  {
   "cell_type": "markdown",
   "id": "26f5baf6",
   "metadata": {},
   "source": [
    "ISDISJOINT"
   ]
  },
  {
   "cell_type": "code",
   "execution_count": 60,
   "id": "f71e6dc7",
   "metadata": {},
   "outputs": [],
   "source": [
    "color1 = {'violet','blue','yellow','red'}\n",
    "color2 = {'orange','red'}\n",
    "color3 = {'green','orange'}"
   ]
  },
  {
   "cell_type": "code",
   "execution_count": 61,
   "id": "66cc2f48",
   "metadata": {},
   "outputs": [
    {
     "name": "stdout",
     "output_type": "stream",
     "text": [
      "False\n",
      "True\n"
     ]
    }
   ],
   "source": [
    "#Disjoint\n",
    "print(color2.isdisjoint(color1))\n",
    "print(color3.isdisjoint(color1))"
   ]
  },
  {
   "cell_type": "code",
   "execution_count": 63,
   "id": "7f7713ac",
   "metadata": {},
   "outputs": [],
   "source": [
    "set1 = {1,2,3,4}\n",
    "set2 = {0,2,4,6,8}  #set with one false value\n",
    "set3 = {True,True} #set with all true\n",
    "set4 = {True,False}    #set with one false\n",
    "set5 = {False,0}       #set with both false values"
   ]
  },
  {
   "cell_type": "code",
   "execution_count": 64,
   "id": "beaa30b2",
   "metadata": {},
   "outputs": [
    {
     "name": "stdout",
     "output_type": "stream",
     "text": [
      "all() with all true values : True\n",
      "any() with all true values : True\n"
     ]
    }
   ],
   "source": [
    "print('all() with all true values :',all(set1))\n",
    "print('any() with all true values :',any(set1))"
   ]
  },
  {
   "cell_type": "code",
   "execution_count": 66,
   "id": "a9331c8a",
   "metadata": {},
   "outputs": [],
   "source": [
    "set1 = {2,4,6,8,15}\n",
    "set2 = {'ABC','abc'}"
   ]
  },
  {
   "cell_type": "code",
   "execution_count": 67,
   "id": "845a45a6",
   "metadata": {},
   "outputs": [
    {
     "name": "stdout",
     "output_type": "stream",
     "text": [
      "15\n"
     ]
    }
   ],
   "source": [
    "#max item from integer set\n",
    "print(max(set1))"
   ]
  },
  {
   "cell_type": "code",
   "execution_count": 68,
   "id": "2f8b864e",
   "metadata": {},
   "outputs": [
    {
     "name": "stdout",
     "output_type": "stream",
     "text": [
      "abc\n"
     ]
    }
   ],
   "source": [
    "#max item from string set\n",
    "print(max(set2))"
   ]
  },
  {
   "cell_type": "code",
   "execution_count": 69,
   "id": "7b238a6f",
   "metadata": {},
   "outputs": [
    {
     "name": "stdout",
     "output_type": "stream",
     "text": [
      "2\n"
     ]
    }
   ],
   "source": [
    "#min item from integer set\n",
    "print(min(set1))"
   ]
  },
  {
   "cell_type": "code",
   "execution_count": 70,
   "id": "3ee738ff",
   "metadata": {},
   "outputs": [
    {
     "name": "stdout",
     "output_type": "stream",
     "text": [
      "ABC\n"
     ]
    }
   ],
   "source": [
    "#min item from string set\n",
    "print(min(set2))"
   ]
  },
  {
   "cell_type": "code",
   "execution_count": null,
   "id": "b9f29d9d",
   "metadata": {},
   "outputs": [],
   "source": []
  }
 ],
 "metadata": {
  "kernelspec": {
   "display_name": "Python 3 (ipykernel)",
   "language": "python",
   "name": "python3"
  },
  "language_info": {
   "codemirror_mode": {
    "name": "ipython",
    "version": 3
   },
   "file_extension": ".py",
   "mimetype": "text/x-python",
   "name": "python",
   "nbconvert_exporter": "python",
   "pygments_lexer": "ipython3",
   "version": "3.9.7"
  }
 },
 "nbformat": 4,
 "nbformat_minor": 5
}
