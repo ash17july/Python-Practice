{
 "cells": [
  {
   "cell_type": "code",
   "execution_count": 1,
   "metadata": {},
   "outputs": [],
   "source": [
    "#set methods"
   ]
  },
  {
   "cell_type": "code",
   "execution_count": 4,
   "metadata": {},
   "outputs": [
    {
     "name": "stdout",
     "output_type": "stream",
     "text": [
      "{'fruits', 'grapes', 'papaya', 'apple', 'orange'}\n"
     ]
    }
   ],
   "source": [
    "#add\n",
    "set1 = {'fruits', 'grapes', 'apple', 'orange'}\n",
    "set1.add('papaya')\n",
    "print(set1)"
   ]
  },
  {
   "cell_type": "code",
   "execution_count": 5,
   "metadata": {},
   "outputs": [
    {
     "name": "stdout",
     "output_type": "stream",
     "text": [
      "set()\n"
     ]
    }
   ],
   "source": [
    "#clear\n",
    "lame = {'fruits', 'grapes', 'apple', 'orange'}\n",
    "lame.clear()\n",
    "print(lame)"
   ]
  },
  {
   "cell_type": "code",
   "execution_count": 15,
   "metadata": {},
   "outputs": [
    {
     "name": "stdout",
     "output_type": "stream",
     "text": [
      "{'apple', 'fruits', 'grapes', 'orange'}\n"
     ]
    }
   ],
   "source": [
    "#copy\n",
    "lame = {'fruits', 'grapes', 'apple', 'orange'}\n",
    "p=lame.copy()\n",
    "print(p)"
   ]
  },
  {
   "cell_type": "code",
   "execution_count": 20,
   "metadata": {},
   "outputs": [
    {
     "name": "stdout",
     "output_type": "stream",
     "text": [
      "{'kiwi', 'watermelon', 'banana', 'dragonfruit'}\n"
     ]
    }
   ],
   "source": [
    "#difference\n",
    "u = {'grapes', 'mango', 'orange', 'pineapple', 'jackfruit', 'chiku', 'lemon'}\n",
    "a = {'grapes', 'mango', 'dragonfruit', 'banana','kiwi', 'watermelon'}\n",
    "b = {'jackfruit', 'chiku'}\n",
    "print(a.difference(u))"
   ]
  },
  {
   "cell_type": "code",
   "execution_count": 21,
   "metadata": {},
   "outputs": [
    {
     "name": "stdout",
     "output_type": "stream",
     "text": [
      "{'mango', 'grapes'}\n"
     ]
    }
   ],
   "source": [
    "#intersection\n",
    "print(a.intersection(u))"
   ]
  },
  {
   "cell_type": "code",
   "execution_count": 22,
   "metadata": {},
   "outputs": [
    {
     "name": "stdout",
     "output_type": "stream",
     "text": [
      "{'lemon', 'banana', 'jackfruit', 'pineapple', 'dragonfruit', 'chiku', 'kiwi', 'watermelon', 'orange'}\n"
     ]
    }
   ],
   "source": [
    "#symmetric_difference\n",
    "print(a.symmetric_difference(u))"
   ]
  },
  {
   "cell_type": "code",
   "execution_count": 23,
   "metadata": {},
   "outputs": [
    {
     "name": "stdout",
     "output_type": "stream",
     "text": [
      "{'mango', 'banana', 'jackfruit', 'grapes', 'chiku', 'dragonfruit', 'kiwi', 'watermelon'}\n"
     ]
    }
   ],
   "source": [
    "#union\n",
    "print(b.union(a))"
   ]
  },
  {
   "cell_type": "code",
   "execution_count": null,
   "metadata": {},
   "outputs": [],
   "source": [
    "#discard\n",
    "c = discard()"
   ]
  }
 ],
 "metadata": {
  "kernelspec": {
   "display_name": "Python 3",
   "language": "python",
   "name": "python3"
  },
  "language_info": {
   "codemirror_mode": {
    "name": "ipython",
    "version": 3
   },
   "file_extension": ".py",
   "mimetype": "text/x-python",
   "name": "python",
   "nbconvert_exporter": "python",
   "pygments_lexer": "ipython3",
   "version": "3.7.4"
  }
 },
 "nbformat": 4,
 "nbformat_minor": 2
}
