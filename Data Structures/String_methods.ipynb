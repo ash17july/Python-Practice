{
 "cells": [
  {
   "cell_type": "code",
   "execution_count": 1,
   "metadata": {},
   "outputs": [],
   "source": [
    "#Strings method"
   ]
  },
  {
   "cell_type": "code",
   "execution_count": 2,
   "metadata": {},
   "outputs": [
    {
     "name": "stdout",
     "output_type": "stream",
     "text": [
      "Hello, welcome to nettech india\n"
     ]
    }
   ],
   "source": [
    "#capitalize\n",
    "txt = 'hello, welcome to nettech india'\n",
    "x = txt.capitalize()\n",
    "print(x)"
   ]
  },
  {
   "cell_type": "code",
   "execution_count": 3,
   "metadata": {},
   "outputs": [
    {
     "name": "stdout",
     "output_type": "stream",
     "text": [
      "delete the instructions\n"
     ]
    }
   ],
   "source": [
    "#casefold\n",
    "m = 'delete the instructions'\n",
    "n = m.casefold()\n",
    "print(n)"
   ]
  },
  {
   "cell_type": "code",
   "execution_count": 6,
   "metadata": {},
   "outputs": [
    {
     "name": "stdout",
     "output_type": "stream",
     "text": [
      "*******banana*******\n"
     ]
    }
   ],
   "source": [
    "#center\n",
    "txt = 'banana'\n",
    "x = txt.center(20,'*')\n",
    "print(x)"
   ]
  },
  {
   "cell_type": "code",
   "execution_count": 10,
   "metadata": {},
   "outputs": [
    {
     "name": "stdout",
     "output_type": "stream",
     "text": [
      "4\n"
     ]
    }
   ],
   "source": [
    "#count\n",
    "m = 'ashwini_nikhil_lembhe'\n",
    "n = m.count('i')\n",
    "print(n)"
   ]
  },
  {
   "cell_type": "code",
   "execution_count": 11,
   "metadata": {},
   "outputs": [
    {
     "name": "stdout",
     "output_type": "stream",
     "text": [
      "b'my name is khan'\n"
     ]
    }
   ],
   "source": [
    "#encode\n",
    "txt = 'my name is khan'\n",
    "c = txt.encode()\n",
    "print(c)"
   ]
  },
  {
   "cell_type": "code",
   "execution_count": 13,
   "metadata": {},
   "outputs": [
    {
     "name": "stdout",
     "output_type": "stream",
     "text": [
      "b'my 5645name is khan'\n"
     ]
    }
   ],
   "source": [
    "txt = 'my 5645name is khan'\n",
    "c = txt.encode(encoding='ascii', errors='backslashreplace')\n",
    "print(c)"
   ]
  },
  {
   "cell_type": "code",
   "execution_count": 14,
   "metadata": {},
   "outputs": [
    {
     "name": "stdout",
     "output_type": "stream",
     "text": [
      "True\n"
     ]
    }
   ],
   "source": [
    "#endswith\n",
    "txt = 'hello, welcome to my world'\n",
    "c = txt.endswith('d')\n",
    "print(c)"
   ]
  },
  {
   "cell_type": "code",
   "execution_count": 18,
   "metadata": {},
   "outputs": [
    {
     "name": "stdout",
     "output_type": "stream",
     "text": [
      "h\\e\\l\\l\\o\n"
     ]
    }
   ],
   "source": [
    "#expandtabs\n",
    "txt = 'h\\e\\l\\l\\o'\n",
    "m = txt.expandtabs(10)\n",
    "print(m)"
   ]
  },
  {
   "cell_type": "code",
   "execution_count": 21,
   "metadata": {},
   "outputs": [
    {
     "name": "stdout",
     "output_type": "stream",
     "text": [
      "7\n"
     ]
    }
   ],
   "source": [
    "#find\n",
    "txt = 'hello, welcome to my world'\n",
    "x = txt.find('welcome',5,19)\n",
    "print(x)"
   ]
  },
  {
   "cell_type": "code",
   "execution_count": 25,
   "metadata": {},
   "outputs": [
    {
     "name": "stdout",
     "output_type": "stream",
     "text": [
      "for only 49.000000 dollars\n",
      "for only 49 dollars\n",
      "for only 49 dollars\n"
     ]
    }
   ],
   "source": [
    "#format\n",
    "txt = 'for only {price:2f} dollars'\n",
    "print(txt.format(price = 49))\n",
    "txt1 = 'for only {0} dollars'.format(49)\n",
    "print(txt1)\n",
    "txt3 = 'for only {} dollars'.format(49)\n",
    "print(txt3)"
   ]
  },
  {
   "cell_type": "code",
   "execution_count": 26,
   "metadata": {},
   "outputs": [],
   "source": [
    "#format_map\n"
   ]
  },
  {
   "cell_type": "code",
   "execution_count": 28,
   "metadata": {},
   "outputs": [
    {
     "name": "stdout",
     "output_type": "stream",
     "text": [
      "15\n"
     ]
    }
   ],
   "source": [
    "#index\n",
    "txt = 'hello, welcome to my world'\n",
    "x=txt.index('to')\n",
    "print(x)"
   ]
  },
  {
   "cell_type": "code",
   "execution_count": 29,
   "metadata": {},
   "outputs": [
    {
     "name": "stdout",
     "output_type": "stream",
     "text": [
      "False\n"
     ]
    }
   ],
   "source": [
    "#isalnum\n",
    "txt = 'hello, welcome to my world'\n",
    "x = txt.isalnum()\n",
    "print(x)"
   ]
  },
  {
   "cell_type": "code",
   "execution_count": 31,
   "metadata": {},
   "outputs": [
    {
     "name": "stdout",
     "output_type": "stream",
     "text": [
      "False\n",
      "True\n"
     ]
    }
   ],
   "source": [
    "#isalpha\n",
    "txt = 'hello, welcome to my world'\n",
    "x = txt.isalpha()\n",
    "print(x)\n",
    "txt3 = 'world' #no space should be there\n",
    "m = txt3.isalpha()\n",
    "print(m)"
   ]
  },
  {
   "cell_type": "code",
   "execution_count": 32,
   "metadata": {},
   "outputs": [
    {
     "name": "stdout",
     "output_type": "stream",
     "text": [
      "True\n"
     ]
    }
   ],
   "source": [
    "#isascii\n",
    "txt = 'hello, welcome to my world'\n",
    "m = txt.isascii()\n",
    "print(m)"
   ]
  },
  {
   "cell_type": "code",
   "execution_count": 34,
   "metadata": {},
   "outputs": [
    {
     "name": "stdout",
     "output_type": "stream",
     "text": [
      "True\n"
     ]
    }
   ],
   "source": [
    "#isdecimal\n",
    "m = '250'\n",
    "n = m.isdecimal()\n",
    "print(n)"
   ]
  },
  {
   "cell_type": "code",
   "execution_count": 36,
   "metadata": {},
   "outputs": [
    {
     "name": "stdout",
     "output_type": "stream",
     "text": [
      "True\n",
      "False\n"
     ]
    }
   ],
   "source": [
    "#isdigit\n",
    "m = '5202'\n",
    "c = '2.25'\n",
    "n = m.isdigit()\n",
    "o = c.isdigit()\n",
    "print(n)\n",
    "print(o)"
   ]
  },
  {
   "cell_type": "code",
   "execution_count": 38,
   "metadata": {},
   "outputs": [
    {
     "name": "stdout",
     "output_type": "stream",
     "text": [
      "True\n",
      "False\n"
     ]
    }
   ],
   "source": [
    "#isidentifier\n",
    "txt = 'demo'\n",
    "txt1 = '2decomo'\n",
    "c = txt.isidentifier()#cannot start with number\n",
    "d = txt1.isidentifier()\n",
    "print(c)\n",
    "print(d)"
   ]
  },
  {
   "cell_type": "code",
   "execution_count": 39,
   "metadata": {},
   "outputs": [
    {
     "name": "stdout",
     "output_type": "stream",
     "text": [
      "False\n"
     ]
    }
   ],
   "source": [
    "#islower()\n",
    "txt = 'Juliet'\n",
    "c =txt.islower()\n",
    "print(c)"
   ]
  },
  {
   "cell_type": "code",
   "execution_count": 42,
   "metadata": {},
   "outputs": [
    {
     "name": "stdout",
     "output_type": "stream",
     "text": [
      "False\n",
      "True\n"
     ]
    }
   ],
   "source": [
    "#isnumeric\n",
    "c = '2.56'\n",
    "d = '2564'\n",
    "e=d.isnumeric()\n",
    "m = c.isnumeric()\n",
    "print(m)\n",
    "print(e)"
   ]
  },
  {
   "cell_type": "code",
   "execution_count": 45,
   "metadata": {},
   "outputs": [
    {
     "name": "stdout",
     "output_type": "stream",
     "text": [
      "True\n"
     ]
    }
   ],
   "source": [
    "#isprintable\n",
    "txt = 'hello, welCome to my world#?'\n",
    "x = txt.isprintable()\n",
    "print(x)"
   ]
  },
  {
   "cell_type": "code",
   "execution_count": 48,
   "metadata": {},
   "outputs": [
    {
     "name": "stdout",
     "output_type": "stream",
     "text": [
      "False\n",
      "True\n"
     ]
    }
   ],
   "source": [
    "#isspace\n",
    "txt = 'hello, welcome to my world'\n",
    "txt2 = ' '\n",
    "m = txt.isspace()\n",
    "m1 = txt2.isspace()\n",
    "print(m)\n",
    "print(m1)"
   ]
  },
  {
   "cell_type": "code",
   "execution_count": 55,
   "metadata": {},
   "outputs": [
    {
     "name": "stdout",
     "output_type": "stream",
     "text": [
      "False\n"
     ]
    }
   ],
   "source": [
    "#istitle\n",
    "txt = 'hello, welcome to my world'\n",
    "x = txt.istitle()\n",
    "print(x)"
   ]
  },
  {
   "cell_type": "code",
   "execution_count": 56,
   "metadata": {},
   "outputs": [
    {
     "name": "stdout",
     "output_type": "stream",
     "text": [
      "True\n"
     ]
    }
   ],
   "source": [
    "txt = 'Hello'\n",
    "c = txt.istitle()\n",
    "print(c)"
   ]
  },
  {
   "cell_type": "code",
   "execution_count": 59,
   "metadata": {},
   "outputs": [
    {
     "name": "stdout",
     "output_type": "stream",
     "text": [
      "False\n",
      "True\n"
     ]
    }
   ],
   "source": [
    "#isupper\n",
    "txt = 'hello, welcome to my world'\n",
    "txt1 = 'HELLO'\n",
    "m = txt.isupper()\n",
    "m1 = txt1.isupper()\n",
    "print(m)\n",
    "print(m1)"
   ]
  },
  {
   "cell_type": "code",
   "execution_count": 60,
   "metadata": {},
   "outputs": [
    {
     "name": "stdout",
     "output_type": "stream",
     "text": [
      "john#peter#vicky\n"
     ]
    }
   ],
   "source": [
    "#join\n",
    "mytuple = ('john','peter','vicky')\n",
    "x = '#'.join(mytuple)\n",
    "print(x)"
   ]
  },
  {
   "cell_type": "code",
   "execution_count": 61,
   "metadata": {},
   "outputs": [
    {
     "name": "stdout",
     "output_type": "stream",
     "text": [
      "banana               is my favorite fruit.\n"
     ]
    }
   ],
   "source": [
    "#ljust()\n",
    "txt = 'banana'\n",
    "x = txt.ljust(20)\n",
    "print(x,\"is my favorite fruit.\")"
   ]
  },
  {
   "cell_type": "code",
   "execution_count": 62,
   "metadata": {},
   "outputs": [
    {
     "name": "stdout",
     "output_type": "stream",
     "text": [
      "gab\n"
     ]
    }
   ],
   "source": [
    "#lower\n",
    "txt = 'GAB'\n",
    "m = txt.lower()\n",
    "print(m)"
   ]
  },
  {
   "cell_type": "code",
   "execution_count": 74,
   "metadata": {},
   "outputs": [
    {
     "name": "stdout",
     "output_type": "stream",
     "text": [
      "banana...djfdkdjg...\n"
     ]
    }
   ],
   "source": [
    "#lstrip\n",
    "txt = \",,,,,banana...djfdkdjg...\"\n",
    "m = txt.lstrip(\",\")\n",
    "print(m)"
   ]
  },
  {
   "cell_type": "code",
   "execution_count": 76,
   "metadata": {},
   "outputs": [
    {
     "name": "stdout",
     "output_type": "stream",
     "text": [
      "{115: 112}\n"
     ]
    }
   ],
   "source": [
    "#maketrans\n",
    "txt = 'hello sami!'\n",
    "n = txt.maketrans('s','p')#convert into mapping table\n",
    "print(n)"
   ]
  },
  {
   "cell_type": "code",
   "execution_count": 81,
   "metadata": {},
   "outputs": [
    {
     "name": "stdout",
     "output_type": "stream",
     "text": [
      "Hi Joe!\n"
     ]
    }
   ],
   "source": [
    "txt='Hi Sam!'\n",
    "x = 'mSa'\n",
    "y = 'eJo'\n",
    "m = txt.maketrans(x,y)\n",
    "print(txt.translate(m))"
   ]
  },
  {
   "cell_type": "code",
   "execution_count": 83,
   "metadata": {},
   "outputs": [
    {
     "name": "stdout",
     "output_type": "stream",
     "text": [
      "('i could eat ', 'banana', ' all day')\n"
     ]
    }
   ],
   "source": [
    "#partition\n",
    "txt = \"i could eat banana all day\"\n",
    "x = txt.partition('banana')\n",
    "print(x)"
   ]
  },
  {
   "cell_type": "code",
   "execution_count": 84,
   "metadata": {},
   "outputs": [
    {
     "name": "stdout",
     "output_type": "stream",
     "text": [
      "i like apples\n"
     ]
    }
   ],
   "source": [
    "#replace\n",
    "txt = 'i like bananas'\n",
    "m = txt.replace('bananas','apples')\n",
    "print(m)"
   ]
  },
  {
   "cell_type": "code",
   "execution_count": 85,
   "metadata": {},
   "outputs": [
    {
     "name": "stdout",
     "output_type": "stream",
     "text": [
      "12\n"
     ]
    }
   ],
   "source": [
    "#rfind\n",
    "txt = 'Mi casa, su casa'#position of a word\n",
    "x = txt.rfind('casa')\n",
    "print(x)"
   ]
  },
  {
   "cell_type": "code",
   "execution_count": 86,
   "metadata": {},
   "outputs": [
    {
     "name": "stdout",
     "output_type": "stream",
     "text": [
      "12\n"
     ]
    }
   ],
   "source": [
    "#rindex\n",
    "txt = 'Mi casa, su casa'\n",
    "m = txt.rindex('casa')\n",
    "print(m)"
   ]
  },
  {
   "cell_type": "code",
   "execution_count": 89,
   "metadata": {},
   "outputs": [
    {
     "name": "stdout",
     "output_type": "stream",
     "text": [
      "******************bananas\n"
     ]
    }
   ],
   "source": [
    "#rjust\n",
    "txt = 'bananas'\n",
    "m = txt.rjust(25,'*')\n",
    "print(m)"
   ]
  },
  {
   "cell_type": "code",
   "execution_count": 90,
   "metadata": {},
   "outputs": [
    {
     "name": "stdout",
     "output_type": "stream",
     "text": [
      "('i could eat bananas all day, ', 'bananas', ' are my favorite fruit')\n"
     ]
    }
   ],
   "source": [
    "#rpartition\n",
    "txt = 'i could eat bananas all day, bananas are my favorite fruit'\n",
    "m = txt.rpartition('bananas')\n",
    "print(m)"
   ]
  },
  {
   "cell_type": "code",
   "execution_count": 91,
   "metadata": {},
   "outputs": [
    {
     "name": "stdout",
     "output_type": "stream",
     "text": [
      "['apple', ' banana', ' grapes']\n"
     ]
    }
   ],
   "source": [
    "#rsplit\n",
    "txt = 'apple, banana, grapes'\n",
    "m = txt.split(\",\")\n",
    "print(m)"
   ]
  },
  {
   "cell_type": "code",
   "execution_count": 100,
   "metadata": {},
   "outputs": [
    {
     "name": "stdout",
     "output_type": "stream",
     "text": [
      "i like banana , banana ,is my favourite fruit\n"
     ]
    }
   ],
   "source": [
    "#rstrip\n",
    "txt = 'banana'\n",
    "x = txt.rstrip()\n",
    "print(\"i like\",x,\",\",x,\",is my favourite fruit\")"
   ]
  },
  {
   "cell_type": "code",
   "execution_count": 101,
   "metadata": {},
   "outputs": [
    {
     "name": "stdout",
     "output_type": "stream",
     "text": [
      "['welcome', 'to', 'the', 'jungle']\n"
     ]
    }
   ],
   "source": [
    "#split\n",
    "txt = 'welcome to the jungle'\n",
    "m = txt.split()\n",
    "print(m)"
   ]
  },
  {
   "cell_type": "code",
   "execution_count": 102,
   "metadata": {},
   "outputs": [
    {
     "name": "stdout",
     "output_type": "stream",
     "text": [
      "['thank you for the music', 'welcome to the jungle']\n"
     ]
    }
   ],
   "source": [
    "#splitlines\n",
    "txt = 'thank you for the music\\nwelcome to the jungle'\n",
    "x = txt.splitlines()\n",
    "print(x)"
   ]
  },
  {
   "cell_type": "code",
   "execution_count": 103,
   "metadata": {},
   "outputs": [
    {
     "name": "stdout",
     "output_type": "stream",
     "text": [
      "True\n"
     ]
    }
   ],
   "source": [
    "#startswith\n",
    "txt = 'hello, welcome to my world'\n",
    "m = txt.startswith('h')\n",
    "print(m)"
   ]
  },
  {
   "cell_type": "code",
   "execution_count": 105,
   "metadata": {},
   "outputs": [
    {
     "name": "stdout",
     "output_type": "stream",
     "text": [
      "of all fruits banana is my favorite fruit\n"
     ]
    }
   ],
   "source": [
    "#strip\n",
    "txt = \"   banana   \"\n",
    "n = txt.strip()\n",
    "print(\"of all fruits\",n,\"is my favorite fruit\")"
   ]
  },
  {
   "cell_type": "code",
   "execution_count": 106,
   "metadata": {},
   "outputs": [
    {
     "name": "stdout",
     "output_type": "stream",
     "text": [
      "hELLO mY nAME IS peter\n"
     ]
    }
   ],
   "source": [
    "#swapcase\n",
    "txt = 'Hello My Name is PETER'\n",
    "n = txt.swapcase()\n",
    "print(n)"
   ]
  },
  {
   "cell_type": "code",
   "execution_count": 107,
   "metadata": {},
   "outputs": [
    {
     "name": "stdout",
     "output_type": "stream",
     "text": [
      "Welcome To My World\n"
     ]
    }
   ],
   "source": [
    "#title\n",
    "txt = \"welcome to my world\"\n",
    "n = txt.title()\n",
    "print(n)"
   ]
  },
  {
   "cell_type": "code",
   "execution_count": 109,
   "metadata": {},
   "outputs": [
    {
     "name": "stdout",
     "output_type": "stream",
     "text": [
      "hello sam!\n"
     ]
    }
   ],
   "source": [
    "#translate\n",
    "mydict = {83:80}\n",
    "txt = 'hello sam!'\n",
    "print(txt.translate(mydict))"
   ]
  },
  {
   "cell_type": "code",
   "execution_count": 110,
   "metadata": {},
   "outputs": [
    {
     "name": "stdout",
     "output_type": "stream",
     "text": [
      "TEDDY_BEAR\n"
     ]
    }
   ],
   "source": [
    "#upper\n",
    "txt = \"teddy_bear\"\n",
    "m = txt.upper()\n",
    "print(m)"
   ]
  },
  {
   "cell_type": "code",
   "execution_count": 112,
   "metadata": {},
   "outputs": [
    {
     "name": "stdout",
     "output_type": "stream",
     "text": [
      "0000000050\n"
     ]
    }
   ],
   "source": [
    "#zfill\n",
    "txt = '50'\n",
    "m = txt.zfill(10)\n",
    "print(m)"
   ]
  },
  {
   "cell_type": "code",
   "execution_count": null,
   "metadata": {},
   "outputs": [],
   "source": []
  }
 ],
 "metadata": {
  "kernelspec": {
   "display_name": "Python 3",
   "language": "python",
   "name": "python3"
  },
  "language_info": {
   "codemirror_mode": {
    "name": "ipython",
    "version": 3
   },
   "file_extension": ".py",
   "mimetype": "text/x-python",
   "name": "python",
   "nbconvert_exporter": "python",
   "pygments_lexer": "ipython3",
   "version": "3.7.4"
  }
 },
 "nbformat": 4,
 "nbformat_minor": 2
}
