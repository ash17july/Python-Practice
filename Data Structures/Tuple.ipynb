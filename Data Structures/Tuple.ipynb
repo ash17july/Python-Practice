{
 "cells": [
  {
   "cell_type": "code",
   "execution_count": 2,
   "id": "4738e873",
   "metadata": {},
   "outputs": [],
   "source": [
    "#tuple are ordered collections of heterogenous data that are unchangeable\n",
    "#1.ordered\n",
    "#2. immutable\n",
    "#3. heterogenous\n",
    "#4. duplicates"
   ]
  },
  {
   "cell_type": "code",
   "execution_count": 3,
   "id": "2f9dcfa5",
   "metadata": {},
   "outputs": [],
   "source": [
    "#creating tuple\n",
    "#using paranthesis()\n",
    "#using tuple() constructor"
   ]
  },
  {
   "cell_type": "code",
   "execution_count": 4,
   "id": "a0a23925",
   "metadata": {},
   "outputs": [
    {
     "name": "stdout",
     "output_type": "stream",
     "text": [
      "(10, 20, 30, 40)\n"
     ]
    }
   ],
   "source": [
    "t = (10,20,30,40)\n",
    "print(t)"
   ]
  },
  {
   "cell_type": "code",
   "execution_count": 5,
   "id": "061da6a9",
   "metadata": {},
   "outputs": [
    {
     "data": {
      "text/plain": [
       "tuple"
      ]
     },
     "execution_count": 5,
     "metadata": {},
     "output_type": "execute_result"
    }
   ],
   "source": [
    "type(t)"
   ]
  },
  {
   "cell_type": "code",
   "execution_count": 6,
   "id": "b979d8b8",
   "metadata": {},
   "outputs": [],
   "source": [
    "s_t = (\"name\",30,23.5)"
   ]
  },
  {
   "cell_type": "code",
   "execution_count": 7,
   "id": "87954f88",
   "metadata": {},
   "outputs": [
    {
     "data": {
      "text/plain": [
       "('name', 30, 23.5)"
      ]
     },
     "execution_count": 7,
     "metadata": {},
     "output_type": "execute_result"
    }
   ],
   "source": [
    "s_t"
   ]
  },
  {
   "cell_type": "code",
   "execution_count": 12,
   "id": "9d55d1a6",
   "metadata": {},
   "outputs": [
    {
     "name": "stdout",
     "output_type": "stream",
     "text": [
      "(True, False, True)\n"
     ]
    }
   ],
   "source": [
    "tst = (True,False,True)\n",
    "print(tst)"
   ]
  },
  {
   "cell_type": "code",
   "execution_count": 13,
   "id": "67d8ca1f",
   "metadata": {},
   "outputs": [],
   "source": [
    "st = tuple(('Sam',55,66.3))"
   ]
  },
  {
   "cell_type": "code",
   "execution_count": 14,
   "id": "0ca8207d",
   "metadata": {},
   "outputs": [
    {
     "data": {
      "text/plain": [
       "('Sam', 55, 66.3)"
      ]
     },
     "execution_count": 14,
     "metadata": {},
     "output_type": "execute_result"
    }
   ],
   "source": [
    "st"
   ]
  },
  {
   "cell_type": "code",
   "execution_count": 16,
   "id": "3b5f369c",
   "metadata": {},
   "outputs": [
    {
     "name": "stdout",
     "output_type": "stream",
     "text": [
      "<class 'str'>\n"
     ]
    },
    {
     "data": {
      "text/plain": [
       "'Hello'"
      ]
     },
     "execution_count": 16,
     "metadata": {},
     "output_type": "execute_result"
    }
   ],
   "source": [
    "stc = (\"Hello\")\n",
    "print(type(stc))\n",
    "stc"
   ]
  },
  {
   "cell_type": "code",
   "execution_count": 17,
   "id": "8d18e1d4",
   "metadata": {},
   "outputs": [
    {
     "name": "stdout",
     "output_type": "stream",
     "text": [
      "<class 'tuple'>\n"
     ]
    },
    {
     "data": {
      "text/plain": [
       "('Hello',)"
      ]
     },
     "execution_count": 17,
     "metadata": {},
     "output_type": "execute_result"
    }
   ],
   "source": [
    "stc = (\"Hello\",)\n",
    "print(type(stc))\n",
    "stc"
   ]
  },
  {
   "cell_type": "code",
   "execution_count": 20,
   "id": "f1d3f582",
   "metadata": {},
   "outputs": [],
   "source": [
    "c = (\"mane\",\"red\",26,23,23,50,99)\n",
    "#duplicate values"
   ]
  },
  {
   "cell_type": "code",
   "execution_count": 19,
   "id": "2a04323a",
   "metadata": {},
   "outputs": [
    {
     "data": {
      "text/plain": [
       "('mane', 'red', 26, 23, 23, 50, 99)"
      ]
     },
     "execution_count": 19,
     "metadata": {},
     "output_type": "execute_result"
    }
   ],
   "source": [
    "c"
   ]
  },
  {
   "cell_type": "code",
   "execution_count": 21,
   "id": "f089f966",
   "metadata": {},
   "outputs": [
    {
     "name": "stdout",
     "output_type": "stream",
     "text": [
      "7\n"
     ]
    }
   ],
   "source": [
    "print(len(c))"
   ]
  },
  {
   "cell_type": "code",
   "execution_count": 22,
   "id": "d25c8c6e",
   "metadata": {},
   "outputs": [],
   "source": [
    "#access tuple items"
   ]
  },
  {
   "cell_type": "code",
   "execution_count": 23,
   "id": "3b86a7eb",
   "metadata": {},
   "outputs": [
    {
     "data": {
      "text/plain": [
       "('mane', 'red', 26, 23, 23, 50, 99)"
      ]
     },
     "execution_count": 23,
     "metadata": {},
     "output_type": "execute_result"
    }
   ],
   "source": [
    "c"
   ]
  },
  {
   "cell_type": "code",
   "execution_count": 24,
   "id": "5030a71d",
   "metadata": {},
   "outputs": [
    {
     "name": "stdout",
     "output_type": "stream",
     "text": [
      "red\n"
     ]
    }
   ],
   "source": [
    "print(c[1])"
   ]
  },
  {
   "cell_type": "code",
   "execution_count": 25,
   "id": "68ba09db",
   "metadata": {},
   "outputs": [
    {
     "name": "stdout",
     "output_type": "stream",
     "text": [
      "23\n"
     ]
    }
   ],
   "source": [
    "print(c[-3])"
   ]
  },
  {
   "cell_type": "code",
   "execution_count": 26,
   "id": "604998ef",
   "metadata": {},
   "outputs": [
    {
     "name": "stdout",
     "output_type": "stream",
     "text": [
      "(26, 23, 23)\n"
     ]
    }
   ],
   "source": [
    "#slicing\n",
    "print(c[2:5])"
   ]
  },
  {
   "cell_type": "code",
   "execution_count": 27,
   "id": "9ed0e537",
   "metadata": {},
   "outputs": [
    {
     "name": "stdout",
     "output_type": "stream",
     "text": [
      "3\n"
     ]
    }
   ],
   "source": [
    "#indexing\n",
    "print(c.index(23))"
   ]
  },
  {
   "cell_type": "code",
   "execution_count": 28,
   "id": "0e7a185c",
   "metadata": {},
   "outputs": [
    {
     "name": "stdout",
     "output_type": "stream",
     "text": [
      "True\n"
     ]
    }
   ],
   "source": [
    "#membership operators\n",
    "print(26 in c)"
   ]
  },
  {
   "cell_type": "code",
   "execution_count": 29,
   "id": "8dc8a520",
   "metadata": {},
   "outputs": [
    {
     "data": {
      "text/plain": [
       "('mane', 'red', 26, 23, 23, 50, 99)"
      ]
     },
     "execution_count": 29,
     "metadata": {},
     "output_type": "execute_result"
    }
   ],
   "source": [
    "#tuple methods and function used with tuple\n",
    "c"
   ]
  },
  {
   "cell_type": "code",
   "execution_count": 30,
   "id": "eef96347",
   "metadata": {},
   "outputs": [],
   "source": [
    "c1 = list(c)"
   ]
  },
  {
   "cell_type": "code",
   "execution_count": 32,
   "id": "c9fb211e",
   "metadata": {},
   "outputs": [
    {
     "data": {
      "text/plain": [
       "['mane', 'red', 26, 23, 23, 50, 99]"
      ]
     },
     "execution_count": 32,
     "metadata": {},
     "output_type": "execute_result"
    }
   ],
   "source": [
    "c1"
   ]
  },
  {
   "cell_type": "code",
   "execution_count": 33,
   "id": "e94ffe85",
   "metadata": {},
   "outputs": [],
   "source": [
    "c1.append(55)"
   ]
  },
  {
   "cell_type": "code",
   "execution_count": 34,
   "id": "3ebd9172",
   "metadata": {},
   "outputs": [
    {
     "data": {
      "text/plain": [
       "['mane', 'red', 26, 23, 23, 50, 99, 55]"
      ]
     },
     "execution_count": 34,
     "metadata": {},
     "output_type": "execute_result"
    }
   ],
   "source": [
    "c1"
   ]
  },
  {
   "cell_type": "code",
   "execution_count": 35,
   "id": "5cc6dcf8",
   "metadata": {},
   "outputs": [],
   "source": [
    "c = tuple(c1)"
   ]
  },
  {
   "cell_type": "code",
   "execution_count": 36,
   "id": "67652544",
   "metadata": {},
   "outputs": [
    {
     "data": {
      "text/plain": [
       "('mane', 'red', 26, 23, 23, 50, 99, 55)"
      ]
     },
     "execution_count": 36,
     "metadata": {},
     "output_type": "execute_result"
    }
   ],
   "source": [
    "c"
   ]
  },
  {
   "cell_type": "code",
   "execution_count": 37,
   "id": "7db44763",
   "metadata": {},
   "outputs": [],
   "source": [
    "a = [1,2,3,4]\n",
    "a.sort(reverse=True)"
   ]
  },
  {
   "cell_type": "code",
   "execution_count": 38,
   "id": "69f6dad5",
   "metadata": {},
   "outputs": [
    {
     "data": {
      "text/plain": [
       "[4, 3, 2, 1]"
      ]
     },
     "execution_count": 38,
     "metadata": {},
     "output_type": "execute_result"
    }
   ],
   "source": [
    "a"
   ]
  },
  {
   "cell_type": "code",
   "execution_count": 39,
   "id": "4e70c62d",
   "metadata": {},
   "outputs": [],
   "source": [
    "#list in a tuple can modify\n",
    "cm = (10,20,[30,40,50])"
   ]
  },
  {
   "cell_type": "code",
   "execution_count": 40,
   "id": "7342934f",
   "metadata": {},
   "outputs": [
    {
     "data": {
      "text/plain": [
       "(10, 20, [30, 40, 50])"
      ]
     },
     "execution_count": 40,
     "metadata": {},
     "output_type": "execute_result"
    }
   ],
   "source": [
    "cm"
   ]
  },
  {
   "cell_type": "code",
   "execution_count": 43,
   "id": "3b959213",
   "metadata": {},
   "outputs": [],
   "source": [
    "cm[2][0]=250"
   ]
  },
  {
   "cell_type": "code",
   "execution_count": 44,
   "id": "e78be9c5",
   "metadata": {},
   "outputs": [
    {
     "data": {
      "text/plain": [
       "(10, 20, [250, 40, 50])"
      ]
     },
     "execution_count": 44,
     "metadata": {},
     "output_type": "execute_result"
    }
   ],
   "source": [
    "cm"
   ]
  },
  {
   "cell_type": "code",
   "execution_count": 45,
   "id": "aa556fbe",
   "metadata": {},
   "outputs": [],
   "source": [
    "#removing items from a tuple\n",
    "del a"
   ]
  },
  {
   "cell_type": "code",
   "execution_count": 47,
   "id": "1a54d4c5",
   "metadata": {},
   "outputs": [],
   "source": [
    "cv = list(cm)"
   ]
  },
  {
   "cell_type": "code",
   "execution_count": 48,
   "id": "17bac27f",
   "metadata": {},
   "outputs": [
    {
     "data": {
      "text/plain": [
       "[10, 20, [250, 40, 50]]"
      ]
     },
     "execution_count": 48,
     "metadata": {},
     "output_type": "execute_result"
    }
   ],
   "source": [
    "cv"
   ]
  },
  {
   "cell_type": "code",
   "execution_count": 53,
   "id": "72d69378",
   "metadata": {},
   "outputs": [],
   "source": [
    "cv.remove(10)"
   ]
  },
  {
   "cell_type": "raw",
   "id": "6fec6738",
   "metadata": {},
   "source": []
  },
  {
   "cell_type": "code",
   "execution_count": 54,
   "id": "5cf2c298",
   "metadata": {},
   "outputs": [
    {
     "data": {
      "text/plain": [
       "[[250, 40, 50]]"
      ]
     },
     "execution_count": 54,
     "metadata": {},
     "output_type": "execute_result"
    }
   ],
   "source": [
    "cv"
   ]
  },
  {
   "cell_type": "code",
   "execution_count": 55,
   "id": "c2b14ec2",
   "metadata": {},
   "outputs": [
    {
     "data": {
      "text/plain": [
       "0"
      ]
     },
     "execution_count": 55,
     "metadata": {},
     "output_type": "execute_result"
    }
   ],
   "source": [
    "cv.count(0)"
   ]
  },
  {
   "cell_type": "code",
   "execution_count": 56,
   "id": "2990172f",
   "metadata": {},
   "outputs": [],
   "source": [
    "t1 = (10,20,30)"
   ]
  },
  {
   "cell_type": "code",
   "execution_count": 57,
   "id": "57f5a7f9",
   "metadata": {},
   "outputs": [],
   "source": [
    "t2 = (40,50,60)"
   ]
  },
  {
   "cell_type": "code",
   "execution_count": 58,
   "id": "8f962f84",
   "metadata": {},
   "outputs": [],
   "source": [
    "t3 = t1 + t2"
   ]
  },
  {
   "cell_type": "code",
   "execution_count": 59,
   "id": "ea149e7c",
   "metadata": {},
   "outputs": [
    {
     "data": {
      "text/plain": [
       "(10, 20, 30, 40, 50, 60)"
      ]
     },
     "execution_count": 59,
     "metadata": {},
     "output_type": "execute_result"
    }
   ],
   "source": [
    "t3"
   ]
  },
  {
   "cell_type": "code",
   "execution_count": 60,
   "id": "ec70973d",
   "metadata": {},
   "outputs": [],
   "source": [
    "t3 = sum((t1,t2),())"
   ]
  },
  {
   "cell_type": "code",
   "execution_count": 61,
   "id": "9a7a45de",
   "metadata": {},
   "outputs": [
    {
     "data": {
      "text/plain": [
       "(10, 20, 30, 40, 50, 60)"
      ]
     },
     "execution_count": 61,
     "metadata": {},
     "output_type": "execute_result"
    }
   ],
   "source": [
    "t3"
   ]
  },
  {
   "cell_type": "code",
   "execution_count": 62,
   "id": "80c585be",
   "metadata": {},
   "outputs": [
    {
     "name": "stdout",
     "output_type": "stream",
     "text": [
      "60\n"
     ]
    }
   ],
   "source": [
    "print(max(t3))"
   ]
  },
  {
   "cell_type": "code",
   "execution_count": 63,
   "id": "9130f699",
   "metadata": {},
   "outputs": [
    {
     "name": "stdout",
     "output_type": "stream",
     "text": [
      "10\n"
     ]
    }
   ],
   "source": [
    "print(min(t3))"
   ]
  },
  {
   "cell_type": "code",
   "execution_count": 64,
   "id": "6f8e1222",
   "metadata": {},
   "outputs": [],
   "source": [
    "t6 =('a','e','i',10,20)"
   ]
  },
  {
   "cell_type": "code",
   "execution_count": 65,
   "id": "ccaa42ac",
   "metadata": {},
   "outputs": [
    {
     "ename": "TypeError",
     "evalue": "'>' not supported between instances of 'int' and 'str'",
     "output_type": "error",
     "traceback": [
      "\u001b[1;31m---------------------------------------------------------------------------\u001b[0m",
      "\u001b[1;31mTypeError\u001b[0m                                 Traceback (most recent call last)",
      "\u001b[1;32mC:\\Users\\ADMINI~1\\AppData\\Local\\Temp/ipykernel_7776/1758063198.py\u001b[0m in \u001b[0;36m<module>\u001b[1;34m\u001b[0m\n\u001b[1;32m----> 1\u001b[1;33m \u001b[0mprint\u001b[0m\u001b[1;33m(\u001b[0m\u001b[0mmax\u001b[0m\u001b[1;33m(\u001b[0m\u001b[0mt6\u001b[0m\u001b[1;33m)\u001b[0m\u001b[1;33m)\u001b[0m\u001b[1;33m\u001b[0m\u001b[1;33m\u001b[0m\u001b[0m\n\u001b[0m",
      "\u001b[1;31mTypeError\u001b[0m: '>' not supported between instances of 'int' and 'str'"
     ]
    }
   ],
   "source": [
    "print(max(t6))"
   ]
  },
  {
   "cell_type": "code",
   "execution_count": 1,
   "id": "e1926347",
   "metadata": {},
   "outputs": [
    {
     "data": {
      "text/plain": [
       "'there are no appen() or extend()\\nto add items and similarly no remove()or pop\\nas they are immutable they can be used as a key for the dictiona\\nries while list cannot be used for this purpose\\nhere the search operation is much faster than the \\nlist this is because the id of the items remains constant'"
      ]
     },
     "execution_count": 1,
     "metadata": {},
     "output_type": "execute_result"
    }
   ],
   "source": [
    "\"\"\"there are no appen() or extend()\n",
    "to add items and similarly no remove()or pop\n",
    "as they are immutable they can be used as a key for the dictiona\n",
    "ries while list cannot be used for this purpose\n",
    "here the search operation is much faster than the \n",
    "list this is because the id of the items remains constant\"\"\""
   ]
  },
  {
   "cell_type": "code",
   "execution_count": null,
   "id": "3981fc85",
   "metadata": {},
   "outputs": [],
   "source": []
  }
 ],
 "metadata": {
  "kernelspec": {
   "display_name": "Python 3 (ipykernel)",
   "language": "python",
   "name": "python3"
  },
  "language_info": {
   "codemirror_mode": {
    "name": "ipython",
    "version": 3
   },
   "file_extension": ".py",
   "mimetype": "text/x-python",
   "name": "python",
   "nbconvert_exporter": "python",
   "pygments_lexer": "ipython3",
   "version": "3.9.7"
  }
 },
 "nbformat": 4,
 "nbformat_minor": 5
}
