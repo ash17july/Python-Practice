{
 "cells": [
  {
   "cell_type": "code",
   "execution_count": 3,
   "metadata": {},
   "outputs": [
    {
     "name": "stdout",
     "output_type": "stream",
     "text": [
      "{}\n"
     ]
    }
   ],
   "source": [
    "#clear\n",
    "car ={'brand':'ford',\n",
    "    'model':'mustang',\n",
    "    'year':1964\n",
    "     }\n",
    "car.clear()\n",
    "print(car)"
   ]
  },
  {
   "cell_type": "code",
   "execution_count": 4,
   "metadata": {},
   "outputs": [
    {
     "name": "stdout",
     "output_type": "stream",
     "text": [
      "{'brand': 'ford', 'model': 'mustang', 'year': 1964}\n"
     ]
    }
   ],
   "source": [
    "#copy\n",
    "car ={'brand':'ford',\n",
    "    'model':'mustang',\n",
    "    'year':1964\n",
    "     }\n",
    "x = car.copy()\n",
    "print(x)"
   ]
  },
  {
   "cell_type": "code",
   "execution_count": 5,
   "metadata": {},
   "outputs": [
    {
     "name": "stdout",
     "output_type": "stream",
     "text": [
      "{'key1': 0, 'key2': 0, 'key3': 0}\n"
     ]
    }
   ],
   "source": [
    "#fromkeys\n",
    "x=('key1', 'key2', 'key3')\n",
    "y=0\n",
    "thisdict=dict.fromkeys(x,y)\n",
    "print(thisdict)"
   ]
  },
  {
   "cell_type": "code",
   "execution_count": 7,
   "metadata": {},
   "outputs": [
    {
     "name": "stdout",
     "output_type": "stream",
     "text": [
      "mustang\n"
     ]
    }
   ],
   "source": [
    "#get()\n",
    "car ={'brand':'ford',\n",
    "    'model':'mustang',\n",
    "    'year':1964\n",
    "     }\n",
    "x = car.get('model')\n",
    "print(x)"
   ]
  },
  {
   "cell_type": "code",
   "execution_count": 8,
   "metadata": {},
   "outputs": [
    {
     "name": "stdout",
     "output_type": "stream",
     "text": [
      "dict_items([('brand', 'ford'), ('model', 'mustang'), ('year', 1964)])\n"
     ]
    }
   ],
   "source": [
    "#items\n",
    "car ={'brand':'ford',\n",
    "    'model':'mustang',\n",
    "    'year':1964\n",
    "     }\n",
    "x =car.items()\n",
    "print(x)"
   ]
  },
  {
   "cell_type": "code",
   "execution_count": 9,
   "metadata": {},
   "outputs": [
    {
     "name": "stdout",
     "output_type": "stream",
     "text": [
      "dict_keys(['brand', 'model', 'year'])\n"
     ]
    }
   ],
   "source": [
    "#keys\n",
    "car ={'brand':'ford',\n",
    "    'model':'mustang',\n",
    "    'year':1964\n",
    "     }\n",
    "x = car.keys()\n",
    "print(x)"
   ]
  },
  {
   "cell_type": "code",
   "execution_count": 11,
   "metadata": {},
   "outputs": [
    {
     "name": "stdout",
     "output_type": "stream",
     "text": [
      "1964\n"
     ]
    }
   ],
   "source": [
    "#pop\n",
    "car ={'brand':'ford',\n",
    "    'model':'mustang',\n",
    "    'year':1964\n",
    "     }\n",
    "x = car.pop('year')\n",
    "print(x)"
   ]
  },
  {
   "cell_type": "code",
   "execution_count": 12,
   "metadata": {},
   "outputs": [
    {
     "name": "stdout",
     "output_type": "stream",
     "text": [
      "('year', 1964)\n"
     ]
    }
   ],
   "source": [
    "#popitem\n",
    "car ={'brand':'ford',\n",
    "    'model':'mustang',\n",
    "    'year':1964\n",
    "     }\n",
    "x = car.popitem()\n",
    "print(x)"
   ]
  },
  {
   "cell_type": "code",
   "execution_count": 13,
   "metadata": {},
   "outputs": [
    {
     "name": "stdout",
     "output_type": "stream",
     "text": [
      "mustang\n"
     ]
    }
   ],
   "source": [
    "#setdefault\n",
    "car ={'brand':'ford',\n",
    "    'model':'mustang',\n",
    "    'year':1964\n",
    "     }\n",
    "x = car.setdefault('model','bronco')\n",
    "print(x)"
   ]
  },
  {
   "cell_type": "code",
   "execution_count": 16,
   "metadata": {},
   "outputs": [
    {
     "name": "stdout",
     "output_type": "stream",
     "text": [
      "{'brand': 'ford', 'model': 'mustang', 'year': 1964, 'color': 'white'}\n"
     ]
    }
   ],
   "source": [
    "#update\n",
    "car ={'brand':'ford',\n",
    "    'model':'mustang',\n",
    "    'year':1964\n",
    "     }\n",
    "car.update({'color':'white'})\n",
    "print(car)"
   ]
  },
  {
   "cell_type": "code",
   "execution_count": 17,
   "metadata": {},
   "outputs": [
    {
     "name": "stdout",
     "output_type": "stream",
     "text": [
      "dict_values(['ford', 'mustang', 1964])\n"
     ]
    }
   ],
   "source": [
    "#values\n",
    "car ={'brand':'ford',\n",
    "    'model':'mustang',\n",
    "    'year':1964\n",
    "     }\n",
    "x = car.values()\n",
    "print(x)"
   ]
  },
  {
   "cell_type": "code",
   "execution_count": null,
   "metadata": {},
   "outputs": [],
   "source": []
  }
 ],
 "metadata": {
  "kernelspec": {
   "display_name": "Python 3",
   "language": "python",
   "name": "python3"
  },
  "language_info": {
   "codemirror_mode": {
    "name": "ipython",
    "version": 3
   },
   "file_extension": ".py",
   "mimetype": "text/x-python",
   "name": "python",
   "nbconvert_exporter": "python",
   "pygments_lexer": "ipython3",
   "version": "3.7.4"
  }
 },
 "nbformat": 4,
 "nbformat_minor": 2
}
