{
 "cells": [
  {
   "cell_type": "code",
   "execution_count": 4,
   "id": "d7ed7d33",
   "metadata": {},
   "outputs": [],
   "source": [
    "#Add a matrix of 2*2 using nested loop and list comprehension"
   ]
  },
  {
   "cell_type": "code",
   "execution_count": 5,
   "id": "5aed6567",
   "metadata": {},
   "outputs": [
    {
     "name": "stdout",
     "output_type": "stream",
     "text": [
      "[5, 5]\n",
      "[11, 8]\n"
     ]
    }
   ],
   "source": [
    "X = [[2, 4],\n",
    "     [5, 6]]\n",
    "\n",
    "Y = [[3, 1],\n",
    "     [6, 2]]\n",
    "\n",
    "\n",
    "result = [[X[i][j] + Y[i][j] for j in range(len(X[0]))] for i in range(len(X))] #[[ X[i][j] + Y[i][j]  for j in range(len(X[0])] for i in range(len(A))]\n",
    "                                            \n",
    "for r in result:\n",
    "    print(r)"
   ]
  },
  {
   "cell_type": "code",
   "execution_count": 6,
   "id": "db518d83",
   "metadata": {},
   "outputs": [],
   "source": [
    "#Program to substract matrix of 4*4 using loop and list comprehension"
   ]
  },
  {
   "cell_type": "code",
   "execution_count": 7,
   "id": "389abfb7",
   "metadata": {},
   "outputs": [
    {
     "name": "stdout",
     "output_type": "stream",
     "text": [
      "[-8, -6, -4, -2]\n",
      "[-6, -4, -2, 0]\n",
      "[-4, -2, 0, 2]\n",
      "[-2, 0, 2, 4]\n"
     ]
    }
   ],
   "source": [
    "X = [[9, 8, 7, 6],\n",
    "     [8, 7, 6, 5],\n",
    "     [7, 6, 5, 4],\n",
    "     [6, 5, 4, 3]]\n",
    "\n",
    "Y = [[1, 2, 3, 4],\n",
    "     [2, 3, 4, 5],\n",
    "     [3, 4, 5, 6],\n",
    "     [4, 5, 6, 7]]\n",
    "\n",
    "result = [[ Y[i][j] - X[i][j] for j in range(len(X[0]))] for i in range(len(X))]\n",
    "\n",
    "for r in result:\n",
    "    print(r)"
   ]
  },
  {
   "cell_type": "code",
   "execution_count": 8,
   "id": "a9ae00b7",
   "metadata": {},
   "outputs": [],
   "source": [
    "#Program to find the transpose of a matrix:"
   ]
  },
  {
   "cell_type": "code",
   "execution_count": 19,
   "id": "6d4dac50",
   "metadata": {},
   "outputs": [
    {
     "name": "stdout",
     "output_type": "stream",
     "text": [
      "[1, 2]\n",
      "[2, 3]\n",
      "[3, 4]\n"
     ]
    }
   ],
   "source": [
    "X =[[1, 2, 3],\n",
    "    [2, 3, 4]]\n",
    "\n",
    "result = [[0, 0],\n",
    "          [0, 0],\n",
    "          [0, 0]]\n",
    "\n",
    "for i in range(len(X)):\n",
    "    for j in range(len(X[0])):\n",
    "        result[j][i] = X[i][j]\n",
    "\n",
    "for r in result:\n",
    "    print(r)"
   ]
  },
  {
   "cell_type": "code",
   "execution_count": 96,
   "id": "1afac90e",
   "metadata": {},
   "outputs": [
    {
     "name": "stdout",
     "output_type": "stream",
     "text": [
      "[9, 8, 7, 6]\n",
      "[8, 7, 6, 5]\n",
      "[7, 6, 5, 4]\n",
      "[6, 5, 4, 3]\n"
     ]
    }
   ],
   "source": [
    "Y = [[2, 3, 4, 5],\n",
    "     [4, 5, 6, 7],\n",
    "     [6, 7, 8, 9]]\n",
    "\n",
    "result = [[X[j][i] for j in range(len(X[0]))] for i in range(len(X))]\n",
    "\n",
    "for r in result:\n",
    "    print(r)"
   ]
  },
  {
   "cell_type": "code",
   "execution_count": 78,
   "id": "f3b4ba09",
   "metadata": {},
   "outputs": [
    {
     "name": "stdout",
     "output_type": "stream",
     "text": [
      "[70, 100, 130, 160]\n",
      "[60, 86, 112, 138]\n",
      "[50, 72, 94, 116]\n",
      "[40, 58, 76, 94]\n"
     ]
    }
   ],
   "source": [
    "X = [[9, 8, 7, 6],\n",
    "     [8, 7, 6, 5],\n",
    "     [7, 6, 5, 4],\n",
    "     [6, 5, 4, 3]]\n",
    "\n",
    "Y = [[1, 2, 3, 4],\n",
    "     [2, 3, 4, 5],\n",
    "     [3, 4, 5, 6],\n",
    "     [4, 5, 6, 7]]\n",
    "\n",
    "result = [[0, 0, 0, 0],\n",
    "          [0, 0, 0, 0],\n",
    "          [0, 0, 0, 0],\n",
    "          [0, 0, 0, 0]]\n",
    "\n",
    "for i in range(len(X)):\n",
    "    for j in range(len(Y[0])):\n",
    "        for k in range(len(Y)):\n",
    "            result[i][j] += X[i][k]*Y[k][j]\n",
    "\n",
    "for r in result:\n",
    "    print(r)"
   ]
  },
  {
   "cell_type": "code",
   "execution_count": null,
   "id": "f18edb6c",
   "metadata": {},
   "outputs": [],
   "source": []
  }
 ],
 "metadata": {
  "kernelspec": {
   "display_name": "Python 3 (ipykernel)",
   "language": "python",
   "name": "python3"
  },
  "language_info": {
   "codemirror_mode": {
    "name": "ipython",
    "version": 3
   },
   "file_extension": ".py",
   "mimetype": "text/x-python",
   "name": "python",
   "nbconvert_exporter": "python",
   "pygments_lexer": "ipython3",
   "version": "3.9.7"
  }
 },
 "nbformat": 4,
 "nbformat_minor": 5
}
