{
 "cells": [
  {
   "cell_type": "code",
   "execution_count": 15,
   "metadata": {},
   "outputs": [
    {
     "name": "stdout",
     "output_type": "stream",
     "text": [
      "15\n"
     ]
    }
   ],
   "source": [
    "# Write a python program to calculate the sum of a list of number:\n",
    "def sum(l):\n",
    "    if len(l)==1:\n",
    "        return l[0]\n",
    "    else:\n",
    "        return l[0] + sum(l[1:])\n",
    "\n",
    "print(sum([1,2,3,4,5]))"
   ]
  },
  {
   "cell_type": "code",
   "execution_count": 16,
   "metadata": {},
   "outputs": [
    {
     "data": {
      "text/plain": [
       "14"
      ]
     },
     "execution_count": 16,
     "metadata": {},
     "output_type": "execute_result"
    }
   ],
   "source": [
    "#Write a python program to solve the fibonacci sequence using recursion\n",
    "\n",
    "def recursion(m):\n",
    "    if m<=1:\n",
    "        return 0\n",
    "    else:\n",
    "        return m + recursion(m-1)\n",
    "    print(\"The Fibonacci sequence is:\",recursion(m))\n",
    "    \n",
    "recursion(5)"
   ]
  },
  {
   "cell_type": "code",
   "execution_count": 34,
   "metadata": {},
   "outputs": [
    {
     "name": "stdout",
     "output_type": "stream",
     "text": [
      "it is a palindrome\n"
     ]
    }
   ],
   "source": [
    "#A recursive python program to check whether a given number is palindrome or not\n",
    "def palin(num):\n",
    "    temp = num\n",
    "    rev = 0\n",
    "    while temp>0:\n",
    "        remainder = temp % 10\n",
    "        rev = (rev *10)+ remainder\n",
    "        temp= temp//10\n",
    "    if num== rev:\n",
    "        print(\"it is a palindrome\")\n",
    "    else:\n",
    "        print(\"It is not a palindrome\")\n",
    "        \n",
    "palin(151)"
   ]
  },
  {
   "cell_type": "code",
   "execution_count": 55,
   "metadata": {},
   "outputs": [
    {
     "name": "stdout",
     "output_type": "stream",
     "text": [
      "The natural numbers are:"
     ]
    },
    {
     "data": {
      "text/plain": [
       "1"
      ]
     },
     "execution_count": 55,
     "metadata": {},
     "output_type": "execute_result"
    }
   ],
   "source": [
    "# Write a recursive function that takes a natural number and returns the sum of all the numbers\n",
    "#from 0 to 10\n",
    "\n",
    "def recursive(n):\n",
    "    for i in range(1,10):\n",
    "        if n <= 10:\n",
    "            return 1\n",
    "        else:\n",
    "            return i + recursive(n+1)\n",
    "print(\"The natural numbers are:\", end=\"\")\n",
    "\n",
    "recursive(2)"
   ]
  },
  {
   "cell_type": "code",
   "execution_count": null,
   "metadata": {},
   "outputs": [],
   "source": []
  }
 ],
 "metadata": {
  "kernelspec": {
   "display_name": "Python 3",
   "language": "python",
   "name": "python3"
  },
  "language_info": {
   "codemirror_mode": {
    "name": "ipython",
    "version": 3
   },
   "file_extension": ".py",
   "mimetype": "text/x-python",
   "name": "python",
   "nbconvert_exporter": "python",
   "pygments_lexer": "ipython3",
   "version": "3.7.4"
  }
 },
 "nbformat": 4,
 "nbformat_minor": 2
}
