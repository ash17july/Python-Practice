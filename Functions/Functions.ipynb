{
 "cells": [
  {
   "cell_type": "code",
   "execution_count": 2,
   "metadata": {},
   "outputs": [
    {
     "name": "stdout",
     "output_type": "stream",
     "text": [
      "My full name is ashwini lembhe\n"
     ]
    }
   ],
   "source": [
    "def ash(n, l):\n",
    "    print(\"My full name is\",n +\" \"+l)\n",
    "ash('ashwini','lembhe')"
   ]
  },
  {
   "cell_type": "code",
   "execution_count": 5,
   "metadata": {},
   "outputs": [
    {
     "name": "stdout",
     "output_type": "stream",
     "text": [
      "Hello Vaishnavi\n",
      "Bye Vaishnavi\n"
     ]
    }
   ],
   "source": [
    "def call(name):\n",
    "    print(\"Hello \"+ name)\n",
    "    print(\"Bye\",name)\n",
    "call('Vaishnavi')"
   ]
  },
  {
   "cell_type": "code",
   "execution_count": 6,
   "metadata": {},
   "outputs": [
    {
     "data": {
      "text/plain": [
       "76"
      ]
     },
     "execution_count": 6,
     "metadata": {},
     "output_type": "execute_result"
    }
   ],
   "source": [
    "def add(a, b):\n",
    "    return a+b\n",
    "add(20, 56)"
   ]
  },
  {
   "cell_type": "code",
   "execution_count": 9,
   "metadata": {},
   "outputs": [
    {
     "name": "stdout",
     "output_type": "stream",
     "text": [
      "Hello Ashwini Welcome in our premises\n",
      "You have applied for Python\n",
      "And the amount you paid for Python course is 12000\n",
      "Thank you Ashwini for confirmation\n",
      "Have a good day Ashwini\n"
     ]
    }
   ],
   "source": [
    "def course_info(name, sub, amt):\n",
    "    print(\"Hello\",name,\"Welcome in our premises\")\n",
    "    print(\"You have applied for \"+sub)\n",
    "    print(\"And the amount you paid for \"+sub+\" course is \"+amt)\n",
    "    print(\"Thank you\",name,\"for confirmation\")\n",
    "    print(\"Have a good day\",name)\n",
    "    \n",
    "course_info(\"Ashwini\",\"Python\",'12000')"
   ]
  },
  {
   "cell_type": "code",
   "execution_count": 13,
   "metadata": {},
   "outputs": [
    {
     "name": "stdout",
     "output_type": "stream",
     "text": [
      "My name is Ashwini Lembhe\n"
     ]
    }
   ],
   "source": [
    "def info(name,lname):\n",
    "    print(\"My name is\",name,lname)\n",
    "    \n",
    "info(\"Ashwini\",\"Lembhe\")"
   ]
  },
  {
   "cell_type": "code",
   "execution_count": 16,
   "metadata": {},
   "outputs": [
    {
     "name": "stdout",
     "output_type": "stream",
     "text": [
      "I have three children. a b c\n",
      "Amoung them eldest is  a second is b and last but not the list is our small child c\n"
     ]
    }
   ],
   "source": [
    "def child(*keys):\n",
    "    print(\"I have three children.\",keys[0],keys[1],keys[2])\n",
    "    print(\"Amoung them eldest is \",keys[0],\"second is\",keys[1],\"and last but not the list is our small child\",keys[2])\n",
    "    \n",
    "child(\"a\",\"b\",\"c\")"
   ]
  },
  {
   "cell_type": "code",
   "execution_count": 17,
   "metadata": {},
   "outputs": [
    {
     "name": "stdout",
     "output_type": "stream",
     "text": [
      "Her last name is Lembhe\n"
     ]
    }
   ],
   "source": [
    "def check(**keys):\n",
    "    print(\"Her last name is \"+keys[\"lname\"])\n",
    "    \n",
    "check(fname = \"Ashwini\",lname = \"Lembhe\")"
   ]
  },
  {
   "cell_type": "code",
   "execution_count": 20,
   "metadata": {},
   "outputs": [
    {
     "name": "stdout",
     "output_type": "stream",
     "text": [
      "My country name is India\n",
      "My country name is Norway\n",
      "My country name is Russia\n"
     ]
    }
   ],
   "source": [
    "def mycountry(count = \"Norway\"):\n",
    "    print(\"My country name is\",count)\n",
    "    \n",
    "mycountry(\"India\")\n",
    "mycountry()\n",
    "mycountry(\"Russia\")"
   ]
  },
  {
   "cell_type": "code",
   "execution_count": 26,
   "metadata": {},
   "outputs": [
    {
     "name": "stdout",
     "output_type": "stream",
     "text": [
      "apple\n",
      "banana\n",
      "jackfruit\n"
     ]
    }
   ],
   "source": [
    "def myfun(food):\n",
    "    for x in fruits:\n",
    "        print(x)\n",
    "        \n",
    "fruits = ['apple','banana','jackfruit']\n",
    "\n",
    "myfun(fruits)"
   ]
  },
  {
   "cell_type": "code",
   "execution_count": 32,
   "metadata": {},
   "outputs": [
    {
     "data": {
      "text/plain": [
       "4"
      ]
     },
     "execution_count": 32,
     "metadata": {},
     "output_type": "execute_result"
    }
   ],
   "source": [
    "def math(b, c):\n",
    "    return b - c\n",
    "    return b * 3\n",
    "\n",
    "math(60, 30)\n",
    "math(7, 3)"
   ]
  },
  {
   "cell_type": "code",
   "execution_count": 35,
   "metadata": {},
   "outputs": [
    {
     "name": "stdout",
     "output_type": "stream",
     "text": [
      "114\n"
     ]
    }
   ],
   "source": [
    "def calculator(a, b):\n",
    "    add = a + b\n",
    "    return add\n",
    "\n",
    "res = calculator(20, calculator(50, 44))\n",
    "print(res)\n"
   ]
  },
  {
   "cell_type": "code",
   "execution_count": 36,
   "metadata": {},
   "outputs": [
    {
     "name": "stdout",
     "output_type": "stream",
     "text": [
      "Addition is: 107\n",
      "Substraction is: 47\n",
      "Multiplication is: 2310\n",
      "Division is: 2.566666666666667\n"
     ]
    }
   ],
   "source": [
    "def arithematic(n1, n2):\n",
    "    add = n1 + n2\n",
    "    sub = n2 - n1\n",
    "    multi = n1 * n2\n",
    "    div = n2 / n1\n",
    "    return add, sub, multi, div\n",
    "a, b, c, d = arithematic(30,77)\n",
    "\n",
    "print(\"Addition is:\",a)\n",
    "print(\"Substraction is:\",b)\n",
    "print(\"Multiplication is:\",c)\n",
    "print(\"Division is:\",d)\n"
   ]
  },
  {
   "cell_type": "code",
   "execution_count": null,
   "metadata": {},
   "outputs": [],
   "source": []
  }
 ],
 "metadata": {
  "kernelspec": {
   "display_name": "Python 3",
   "language": "python",
   "name": "python3"
  },
  "language_info": {
   "codemirror_mode": {
    "name": "ipython",
    "version": 3
   },
   "file_extension": ".py",
   "mimetype": "text/x-python",
   "name": "python",
   "nbconvert_exporter": "python",
   "pygments_lexer": "ipython3",
   "version": "3.8.5"
  }
 },
 "nbformat": 4,
 "nbformat_minor": 4
}
