{
 "cells": [
  {
   "cell_type": "code",
   "execution_count": 1,
   "metadata": {},
   "outputs": [
    {
     "name": "stdout",
     "output_type": "stream",
     "text": [
      "The value for given variable is: 5\n"
     ]
    }
   ],
   "source": [
    "x = 5\n",
    "def lam():\n",
    "    print(\"The value for given variable is:\",x)\n",
    "    \n",
    "lam()"
   ]
  },
  {
   "cell_type": "code",
   "execution_count": 2,
   "metadata": {},
   "outputs": [
    {
     "name": "stdout",
     "output_type": "stream",
     "text": [
      "Changed variable value is: 5\n",
      "Original variable value is: 10\n"
     ]
    }
   ],
   "source": [
    "x = 5\n",
    "def man():\n",
    "    x = 10\n",
    "    print(\"Original variable value is:\",x)\n",
    "    \n",
    "print(\"Changed variable value is:\",x)\n",
    "    \n",
    "man()"
   ]
  },
  {
   "cell_type": "code",
   "execution_count": 3,
   "metadata": {},
   "outputs": [
    {
     "name": "stdout",
     "output_type": "stream",
     "text": [
      "15\n"
     ]
    }
   ],
   "source": [
    "m = 15\n",
    "def add():\n",
    "    print(\"Given number is valued as:\",m)\n",
    "    \n",
    "#print(\"The given global value is :\",c)\n",
    "\n",
    "print(m)   "
   ]
  },
  {
   "cell_type": "code",
   "execution_count": 4,
   "metadata": {},
   "outputs": [
    {
     "name": "stdout",
     "output_type": "stream",
     "text": [
      "The factorial of  2 is : 1\n",
      "The factorial of  2 is : 2\n"
     ]
    }
   ],
   "source": [
    "def fac(m):\n",
    "    if i==0 and i==1:\n",
    "        f = 7\n",
    "    f = f * i\n",
    "        print(\"The factorial of \",m, \"is :\",f)\n",
    "\n",
    "fac(2)"
   ]
  },
  {
   "cell_type": "code",
   "execution_count": 11,
   "metadata": {},
   "outputs": [
    {
     "name": "stdout",
     "output_type": "stream",
     "text": [
      "The Factorial of  5 is: 1\n",
      "The Factorial of  5 is: 2\n",
      "The Factorial of  5 is: 6\n",
      "The Factorial of  5 is: 24\n",
      "The Factorial of  5 is: 120\n"
     ]
    }
   ],
   "source": [
    "def fac(n):\n",
    "    c = 1\n",
    "    for i in range(1,n+1):\n",
    "        c=c*i\n",
    "        print(\"The Factorial of \",n,\"is:\",c)\n",
    "        \n",
    "fac(5)"
   ]
  },
  {
   "cell_type": "code",
   "execution_count": 16,
   "metadata": {},
   "outputs": [
    {
     "name": "stdout",
     "output_type": "stream",
     "text": [
      "The factorial of  10  is: 1\n",
      "The factorial of  10  is: 2\n",
      "The factorial of  10  is: 6\n",
      "The factorial of  10  is: 24\n",
      "The factorial of  10  is: 120\n",
      "The factorial of  10  is: 720\n",
      "The factorial of  10  is: 5040\n",
      "The factorial of  10  is: 40320\n",
      "The factorial of  10  is: 362880\n",
      "The factorial of  10  is: 3628800\n"
     ]
    }
   ],
   "source": [
    "def cal(n):\n",
    "    f = 1\n",
    "    for i in range(1,n+1):\n",
    "            f = f * i\n",
    "            print(\"The factorial of \",n,\" is:\",f)\n",
    "            \n",
    "cal(10)"
   ]
  },
  {
   "cell_type": "code",
   "execution_count": 20,
   "metadata": {},
   "outputs": [
    {
     "data": {
      "text/plain": [
       "40320"
      ]
     },
     "execution_count": 20,
     "metadata": {},
     "output_type": "execute_result"
    }
   ],
   "source": [
    "def rec(n):\n",
    "    if n == 0:\n",
    "        return 1\n",
    "    else:\n",
    "        return n * rec(n - 1)\n",
    "    print(\"The factorial of \",n,\"is:\",rec)\n",
    "    \n",
    "rec(8)"
   ]
  },
  {
   "cell_type": "code",
   "execution_count": null,
   "metadata": {},
   "outputs": [],
   "source": []
  }
 ],
 "metadata": {
  "kernelspec": {
   "display_name": "Python 3",
   "language": "python",
   "name": "python3"
  },
  "language_info": {
   "codemirror_mode": {
    "name": "ipython",
    "version": 3
   },
   "file_extension": ".py",
   "mimetype": "text/x-python",
   "name": "python",
   "nbconvert_exporter": "python",
   "pygments_lexer": "ipython3",
   "version": "3.7.4"
  }
 },
 "nbformat": 4,
 "nbformat_minor": 2
}
