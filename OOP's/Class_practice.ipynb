{
 "cells": [
  {
   "cell_type": "code",
   "execution_count": 15,
   "metadata": {},
   "outputs": [
    {
     "name": "stdout",
     "output_type": "stream",
     "text": [
      "Name of a dog is druv and its color is brown and he is currently grooming himself\n"
     ]
    }
   ],
   "source": [
    "class Animal:\n",
    "    def __init__(self,name,color):\n",
    "        self.name=name\n",
    "        self.color=color\n",
    "    def animal2(self,action):\n",
    "        return f\"Name of a dog is {self.name} and its color is {self.color} and he is currently {action} himself\"\n",
    "obj1=Animal('druv','brown')\n",
    "print(obj1.animal2('grooming'))\n"
   ]
  },
  {
   "cell_type": "code",
   "execution_count": 20,
   "metadata": {},
   "outputs": [
    {
     "name": "stdout",
     "output_type": "stream",
     "text": [
      "its a parent class\n",
      "its a child class\n"
     ]
    }
   ],
   "source": [
    "class A:\n",
    "    print(\"its a parent class\")\n",
    "class B(A):\n",
    "    print(\"its a child class\")\n",
    "    \n",
    "obj= B()"
   ]
  },
  {
   "cell_type": "code",
   "execution_count": 22,
   "metadata": {},
   "outputs": [
    {
     "name": "stdout",
     "output_type": "stream",
     "text": [
      "calculate square of numbers\n",
      "Square : 4\n",
      "Square : 9\n",
      "Square : 64\n",
      "Square : 81\n",
      "Calculate cube of numbers\n",
      "cube: 8\n",
      "cube: 27\n",
      "cube: 512\n",
      "cube: 729\n",
      "hah... i am done with all my work now!\n"
     ]
    }
   ],
   "source": [
    "import time\n",
    "def calc_square(numbers):\n",
    "    print(\"calculate square of numbers\")\n",
    "    for n in numbers:\n",
    "        print(\"Square :\",n*n)\n",
    "def calc_cube(numbers):\n",
    "    print(\"Calculate cube of numbers\")\n",
    "    for n in numbers:\n",
    "        print(\"cube:\",n*n*n)\n",
    "        \n",
    "arr=[2,3,8,9]\n",
    "calc_square(arr)\n",
    "calc_cube(arr)\n",
    "print(\"hah... i am done with all my work now!\")"
   ]
  },
  {
   "cell_type": "code",
   "execution_count": 25,
   "metadata": {},
   "outputs": [
    {
     "name": "stdout",
     "output_type": "stream",
     "text": [
      "Calculate square of numbers\n",
      "square of  2  is : 4\n",
      "square of  7  is : 49\n",
      "square of  5  is : 25\n",
      "square of  6  is : 36\n",
      "Calculate cube of numbers\n",
      "Cube of  2  is: 8\n",
      "Cube of  7  is: 343\n",
      "Cube of  5  is: 125\n",
      "Cube of  6  is: 216\n"
     ]
    }
   ],
   "source": [
    "import time\n",
    "def calc_square(numbers):\n",
    "    print(\"Calculate square of numbers\")\n",
    "    for n in numbers:\n",
    "        print(\"square of \",n,\" is :\",n*n)\n",
    "def calc_cube(numbers):\n",
    "    print(\"Calculate cube of numbers\")\n",
    "    for n in numbers:\n",
    "        print(\"Cube of \",n,\" is:\",n*n*n)\n",
    "arr=[2,7,5,6]\n",
    "calc_square(arr)\n",
    "calc_cube(arr)"
   ]
  },
  {
   "cell_type": "code",
   "execution_count": 28,
   "metadata": {},
   "outputs": [
    {
     "name": "stdout",
     "output_type": "stream",
     "text": [
      "Calculate square of numbers\n",
      "Calculate cube of numbers\n",
      "square: 25\n",
      "Cube: 125\n",
      "square: 36\n",
      "Cube: 216\n",
      "square: 49\n",
      "Cube: 343\n",
      "square: 64\n",
      "Cube: 512\n",
      "done in 4.105254173278809\n",
      "Hah.. i am done with all my work now!\n"
     ]
    }
   ],
   "source": [
    "import time\n",
    "import threading\n",
    "def calc_square(numbers):\n",
    "    print(\"Calculate square of numbers\")\n",
    "    for n in numbers:\n",
    "        time.sleep(1)\n",
    "        print(\"square:\",n*n)\n",
    "def calc_cube(numbers):\n",
    "    print(\"Calculate cube of numbers\")\n",
    "    for n in numbers:\n",
    "        time.sleep(1)\n",
    "        print(\"Cube:\",n*n*n)\n",
    "        \n",
    "arr=[5,6,7,8]\n",
    "t = time.time()\n",
    "t1 = threading.Thread(target = calc_square, args = (arr,))\n",
    "t2 = threading.Thread(target = calc_cube, args = (arr,))\n",
    "t1.start()\n",
    "t2.start()\n",
    "\n",
    "t1.join()\n",
    "t2.join()\n",
    "print(\"done in\",time.time()-t)\n",
    "print(\"Hah.. i am done with all my work now!\")"
   ]
  },
  {
   "cell_type": "code",
   "execution_count": null,
   "metadata": {},
   "outputs": [],
   "source": []
  }
 ],
 "metadata": {
  "kernelspec": {
   "display_name": "Python 3",
   "language": "python",
   "name": "python3"
  },
  "language_info": {
   "codemirror_mode": {
    "name": "ipython",
    "version": 3
   },
   "file_extension": ".py",
   "mimetype": "text/x-python",
   "name": "python",
   "nbconvert_exporter": "python",
   "pygments_lexer": "ipython3",
   "version": "3.7.4"
  }
 },
 "nbformat": 4,
 "nbformat_minor": 2
}
