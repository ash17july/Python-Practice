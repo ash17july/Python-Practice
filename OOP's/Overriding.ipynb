{
 "cells": [
  {
   "cell_type": "code",
   "execution_count": 1,
   "metadata": {},
   "outputs": [],
   "source": [
    "#method overriding in python:\n",
    "#Method overriding is an ability of any object-oriented programming language that\n",
    "#allows a subclass or child class to provide a specific implementation of a method \n",
    "#that is already provided by one of its super-classes or parent classes. \n",
    "#When a method in a subclass has the same name, same parameters or\n",
    "#signature and same return type(or sub-type) as a method in its super-class,\n",
    "#then the method in the subclass is said to override the method in the super-class."
   ]
  },
  {
   "cell_type": "code",
   "execution_count": 2,
   "metadata": {},
   "outputs": [
    {
     "name": "stdout",
     "output_type": "stream",
     "text": [
      "inside parent\n",
      "inside child\n"
     ]
    }
   ],
   "source": [
    "class parent():\n",
    "    def __init__(self, ):\n",
    "        self.value = \"inside parent\"        \n",
    "    def show(self):\n",
    "        print(self.value)\n",
    "class child(parent):\n",
    "    def __init__(self):\n",
    "        self.value = \"inside child\"\n",
    "    def show(self):\n",
    "        print(self.value)\n",
    "obj1 = parent()\n",
    "obj2 = child()\n",
    "    \n",
    "obj1.show()\n",
    "obj2.show()"
   ]
  },
  {
   "cell_type": "code",
   "execution_count": 4,
   "metadata": {},
   "outputs": [],
   "source": [
    "#method overloading with multiple and multilevel inheritance\n",
    "#overriding in multiple inheritance"
   ]
  },
  {
   "cell_type": "code",
   "execution_count": 5,
   "metadata": {},
   "outputs": [
    {
     "name": "stdout",
     "output_type": "stream",
     "text": [
      "both merged one\n",
      "inside parent1\n",
      "Inside parent2\n"
     ]
    }
   ],
   "source": [
    "class parent1():\n",
    "    def show1(self):\n",
    "        print(\"inside parent1\")\n",
    "class parent2():\n",
    "    def show2(self):\n",
    "        print(\"Inside parent2\")\n",
    "class child(parent1, parent2):\n",
    "    def show(self):\n",
    "        print(\"both merged one\")\n",
    "    \n",
    "obj = child()\n",
    "obj.show()\n",
    "obj.show1()\n",
    "obj.show2()"
   ]
  },
  {
   "cell_type": "code",
   "execution_count": 6,
   "metadata": {},
   "outputs": [
    {
     "name": "stdout",
     "output_type": "stream",
     "text": [
      "Inside child class\n",
      "inside parent1\n",
      "Inside parent2 class\n"
     ]
    }
   ],
   "source": [
    "#overriding in multilevel inheritance\n",
    "class parent():\n",
    "    def show1(self):\n",
    "        print(\"Inside parent class\")\n",
    "class parent2(parent1):\n",
    "    def show2(self):\n",
    "        print(\"Inside parent2 class\")\n",
    "class child(parent2):\n",
    "    def show(self):\n",
    "        print(\"Inside child class\")\n",
    "obj = child()\n",
    "obj.show()\n",
    "obj.show1()\n",
    "obj.show2()"
   ]
  },
  {
   "cell_type": "code",
   "execution_count": 7,
   "metadata": {},
   "outputs": [
    {
     "name": "stdout",
     "output_type": "stream",
     "text": [
      "Parent class\n",
      "inside child class\n"
     ]
    }
   ],
   "source": [
    "#calling the parent class inside the overriden method\n",
    "class parent():\n",
    "    def show(self):\n",
    "        print(\"Parent class\")\n",
    "class child(parent):\n",
    "    def show(self):\n",
    "        parent.show(self)\n",
    "        print(\"inside child class\")\n",
    "obj = child()\n",
    "obj.show()"
   ]
  },
  {
   "cell_type": "code",
   "execution_count": null,
   "metadata": {},
   "outputs": [],
   "source": [
    "#using super() to call parent class explicitly which is inside the overriden class\n",
    "class parent():\n",
    "    def show(self):\n",
    "        print(\"Inside parent\")\n",
    "class child(parent):\n",
    "    def show(self):\n",
    "        super().show()\n",
    "        print(\"child class\")\n",
    "obj = child()\n",
    "obj.show()"
   ]
  }
 ],
 "metadata": {
  "kernelspec": {
   "display_name": "Python 3",
   "language": "python",
   "name": "python3"
  },
  "language_info": {
   "codemirror_mode": {
    "name": "ipython",
    "version": 3
   },
   "file_extension": ".py",
   "mimetype": "text/x-python",
   "name": "python",
   "nbconvert_exporter": "python",
   "pygments_lexer": "ipython3",
   "version": "3.7.4"
  }
 },
 "nbformat": 4,
 "nbformat_minor": 2
}
