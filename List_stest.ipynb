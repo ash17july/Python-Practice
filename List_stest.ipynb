{
 "cells": [
  {
   "cell_type": "code",
   "execution_count": 1,
   "id": "8e004f7c",
   "metadata": {},
   "outputs": [],
   "source": [
    "#1 Create a list of your name,age,field,location using[] and list constructor."
   ]
  },
  {
   "cell_type": "code",
   "execution_count": 2,
   "id": "128535a5",
   "metadata": {},
   "outputs": [],
   "source": [
    "l = [\"Ashwini\",'26.3','Science','Vikhroli']"
   ]
  },
  {
   "cell_type": "code",
   "execution_count": 3,
   "id": "5e2e38ca",
   "metadata": {},
   "outputs": [
    {
     "data": {
      "text/plain": [
       "['Ashwini', '26.3', 'Science', 'Vikhroli']"
      ]
     },
     "execution_count": 3,
     "metadata": {},
     "output_type": "execute_result"
    }
   ],
   "source": [
    "l"
   ]
  },
  {
   "cell_type": "code",
   "execution_count": 5,
   "id": "9297f78d",
   "metadata": {},
   "outputs": [],
   "source": [
    "l2 =list(('Ashwini','26.3','Science','Vikhroli'))"
   ]
  },
  {
   "cell_type": "code",
   "execution_count": 6,
   "id": "f27848d8",
   "metadata": {},
   "outputs": [
    {
     "data": {
      "text/plain": [
       "['Ashwini', '26.3', 'Science', 'Vikhroli']"
      ]
     },
     "execution_count": 6,
     "metadata": {},
     "output_type": "execute_result"
    }
   ],
   "source": [
    "l2"
   ]
  },
  {
   "cell_type": "code",
   "execution_count": 7,
   "id": "b6ffbca6",
   "metadata": {},
   "outputs": [],
   "source": [
    "#2 Print only your field using index method"
   ]
  },
  {
   "cell_type": "code",
   "execution_count": 8,
   "id": "ef5b19ef",
   "metadata": {},
   "outputs": [
    {
     "name": "stdout",
     "output_type": "stream",
     "text": [
      "Science\n"
     ]
    }
   ],
   "source": [
    "print(l[2])"
   ]
  },
  {
   "cell_type": "code",
   "execution_count": 9,
   "id": "120e46d4",
   "metadata": {},
   "outputs": [],
   "source": [
    "#3 Print the position of location element"
   ]
  },
  {
   "cell_type": "code",
   "execution_count": 10,
   "id": "969b01b9",
   "metadata": {},
   "outputs": [],
   "source": [
    "l = [\"Ashwini\",'26.3','Science','Vikhroli']"
   ]
  },
  {
   "cell_type": "code",
   "execution_count": 11,
   "id": "ca1462cc",
   "metadata": {},
   "outputs": [],
   "source": [
    "x = l.index('Vikhroli')"
   ]
  },
  {
   "cell_type": "code",
   "execution_count": 12,
   "id": "c6f60bac",
   "metadata": {},
   "outputs": [
    {
     "name": "stdout",
     "output_type": "stream",
     "text": [
      "3\n"
     ]
    }
   ],
   "source": [
    "print(x)"
   ]
  },
  {
   "cell_type": "code",
   "execution_count": 13,
   "id": "ce999686",
   "metadata": {},
   "outputs": [],
   "source": [
    "#4 Print element between age and location using forward and backword indexing"
   ]
  },
  {
   "cell_type": "code",
   "execution_count": 14,
   "id": "9c0bd956",
   "metadata": {},
   "outputs": [],
   "source": [
    "l = [\"Ashwini\",'26.3','Science','Vikhroli']"
   ]
  },
  {
   "cell_type": "code",
   "execution_count": 15,
   "id": "12f7100a",
   "metadata": {},
   "outputs": [
    {
     "data": {
      "text/plain": [
       "['26.3', 'Science', 'Vikhroli']"
      ]
     },
     "execution_count": 15,
     "metadata": {},
     "output_type": "execute_result"
    }
   ],
   "source": [
    "l[1:4]"
   ]
  },
  {
   "cell_type": "code",
   "execution_count": 16,
   "id": "89fb0a94",
   "metadata": {},
   "outputs": [
    {
     "data": {
      "text/plain": [
       "['Vikhroli', 'Science', '26.3']"
      ]
     },
     "execution_count": 16,
     "metadata": {},
     "output_type": "execute_result"
    }
   ],
   "source": [
    "l[-1:-4:-1]"
   ]
  },
  {
   "cell_type": "code",
   "execution_count": 18,
   "id": "be4e606e",
   "metadata": {},
   "outputs": [],
   "source": [
    "#5 Replace the element of name with surname"
   ]
  },
  {
   "cell_type": "code",
   "execution_count": 166,
   "id": "ef92d83f",
   "metadata": {},
   "outputs": [],
   "source": [
    "l = [\"Ashwini\",'26.3','Science','Vikhroli']"
   ]
  },
  {
   "cell_type": "code",
   "execution_count": 167,
   "id": "126d8d9b",
   "metadata": {},
   "outputs": [],
   "source": [
    "l[0] = \"Lembhe\""
   ]
  },
  {
   "cell_type": "code",
   "execution_count": 168,
   "id": "5f04f686",
   "metadata": {},
   "outputs": [
    {
     "data": {
      "text/plain": [
       "['Lembhe', '26.3', 'Science', 'Vikhroli']"
      ]
     },
     "execution_count": 168,
     "metadata": {},
     "output_type": "execute_result"
    }
   ],
   "source": [
    "l"
   ]
  },
  {
   "cell_type": "code",
   "execution_count": 24,
   "id": "8c9715df",
   "metadata": {},
   "outputs": [],
   "source": [
    "#6 Replace the element of name ,age and field"
   ]
  },
  {
   "cell_type": "code",
   "execution_count": 25,
   "id": "4925ba05",
   "metadata": {},
   "outputs": [],
   "source": [
    "l = [\"Ashwini\",'26.3','Science','Vikhroli']"
   ]
  },
  {
   "cell_type": "code",
   "execution_count": 26,
   "id": "5997ddeb",
   "metadata": {},
   "outputs": [],
   "source": [
    "l[0:3]=(('Kiran','29.6','Commerce'))"
   ]
  },
  {
   "cell_type": "code",
   "execution_count": 27,
   "id": "0c8eb2a3",
   "metadata": {},
   "outputs": [
    {
     "data": {
      "text/plain": [
       "['Kiran', '29.6', 'Commerce', 'Vikhroli']"
      ]
     },
     "execution_count": 27,
     "metadata": {},
     "output_type": "execute_result"
    }
   ],
   "source": [
    "l"
   ]
  },
  {
   "cell_type": "code",
   "execution_count": 28,
   "id": "c88e794e",
   "metadata": {},
   "outputs": [],
   "source": [
    "#7 replace the element of name ,age with only surname"
   ]
  },
  {
   "cell_type": "code",
   "execution_count": 49,
   "id": "1b7fd05c",
   "metadata": {},
   "outputs": [],
   "source": [
    "l = [\"Ashwini\",'26.3','Science','Vikhroli']"
   ]
  },
  {
   "cell_type": "code",
   "execution_count": 50,
   "id": "948eb629",
   "metadata": {},
   "outputs": [],
   "source": [
    "l[0:2]=[\"Pawar\"]"
   ]
  },
  {
   "cell_type": "code",
   "execution_count": 51,
   "id": "dee6e706",
   "metadata": {},
   "outputs": [
    {
     "name": "stdout",
     "output_type": "stream",
     "text": [
      "['Pawar', 'Science', 'Vikhroli']\n"
     ]
    }
   ],
   "source": [
    "print(l)"
   ]
  },
  {
   "cell_type": "code",
   "execution_count": 37,
   "id": "223ca708",
   "metadata": {},
   "outputs": [],
   "source": [
    "#8 replace the element of name with your"
   ]
  },
  {
   "cell_type": "code",
   "execution_count": 38,
   "id": "2ed10f3d",
   "metadata": {},
   "outputs": [],
   "source": [
    "l = [\"Ashwini\",'26.3','Science','Vikhroli']"
   ]
  },
  {
   "cell_type": "code",
   "execution_count": 39,
   "id": "c2f2b968",
   "metadata": {},
   "outputs": [],
   "source": [
    "l[0:1]=((\"Ashu\",\"Pawar\"))"
   ]
  },
  {
   "cell_type": "code",
   "execution_count": 40,
   "id": "3aea8e1e",
   "metadata": {},
   "outputs": [
    {
     "name": "stdout",
     "output_type": "stream",
     "text": [
      "['Ashu', 'Pawar', '26.3', 'Science', 'Vikhroli']\n"
     ]
    }
   ],
   "source": [
    "print(l)"
   ]
  },
  {
   "cell_type": "code",
   "execution_count": 53,
   "id": "8c6597fd",
   "metadata": {},
   "outputs": [],
   "source": [
    "#9 Add your surname in the list after your first name"
   ]
  },
  {
   "cell_type": "code",
   "execution_count": 62,
   "id": "e221d1b5",
   "metadata": {},
   "outputs": [],
   "source": [
    "l = [\"Ashwini\",'26.3','Science','Vikhroli']"
   ]
  },
  {
   "cell_type": "code",
   "execution_count": 63,
   "id": "dafdb383",
   "metadata": {},
   "outputs": [],
   "source": [
    "l.insert(1,\"Lembhe\")"
   ]
  },
  {
   "cell_type": "code",
   "execution_count": 64,
   "id": "a281f724",
   "metadata": {},
   "outputs": [
    {
     "name": "stdout",
     "output_type": "stream",
     "text": [
      "['Ashwini', 'Lembhe', '26.3', 'Science', 'Vikhroli']\n"
     ]
    }
   ],
   "source": [
    "print(l)"
   ]
  },
  {
   "cell_type": "code",
   "execution_count": 65,
   "id": "9ea086f9",
   "metadata": {},
   "outputs": [],
   "source": [
    "#10 add your only one hobby at the end of the list"
   ]
  },
  {
   "cell_type": "code",
   "execution_count": 66,
   "id": "36e5ebbe",
   "metadata": {},
   "outputs": [],
   "source": [
    "l = [\"Ashwini\",'26.3','Science','Vikhroli']"
   ]
  },
  {
   "cell_type": "code",
   "execution_count": 67,
   "id": "e0089cb5",
   "metadata": {},
   "outputs": [],
   "source": [
    "l.append(\"Reading_Novels\")"
   ]
  },
  {
   "cell_type": "code",
   "execution_count": 68,
   "id": "3c5bc631",
   "metadata": {},
   "outputs": [
    {
     "name": "stdout",
     "output_type": "stream",
     "text": [
      "['Ashwini', '26.3', 'Science', 'Vikhroli', 'Reading_Novels']\n"
     ]
    }
   ],
   "source": [
    "print(l)"
   ]
  },
  {
   "cell_type": "code",
   "execution_count": 69,
   "id": "083bb959",
   "metadata": {},
   "outputs": [],
   "source": [
    "#11 add your n-numbers of hobby at the end of the list"
   ]
  },
  {
   "cell_type": "code",
   "execution_count": 75,
   "id": "79ea4f61",
   "metadata": {},
   "outputs": [],
   "source": [
    "l = [\"Ashwini\",'26.3','Science','Vikhroli']"
   ]
  },
  {
   "cell_type": "code",
   "execution_count": 76,
   "id": "b22f95f8",
   "metadata": {},
   "outputs": [],
   "source": [
    "l.extend([\"Internet_Surfing\",\"Drawing\",\"Listening_Songs\",'Reading_Novels'])"
   ]
  },
  {
   "cell_type": "code",
   "execution_count": 77,
   "id": "154fe1d9",
   "metadata": {},
   "outputs": [
    {
     "name": "stdout",
     "output_type": "stream",
     "text": [
      "['Ashwini', '26.3', 'Science', 'Vikhroli', 'Internet_Surfing', 'Drawing', 'Listening_Songs', 'Reading_Novels']\n"
     ]
    }
   ],
   "source": [
    "print(l)"
   ]
  },
  {
   "cell_type": "code",
   "execution_count": 79,
   "id": "6b4c154b",
   "metadata": {},
   "outputs": [],
   "source": [
    "#12 remove your location from list"
   ]
  },
  {
   "cell_type": "code",
   "execution_count": 80,
   "id": "3bdc3e17",
   "metadata": {},
   "outputs": [],
   "source": [
    "l = [\"Ashwini\",'26.3','Science','Vikhroli']"
   ]
  },
  {
   "cell_type": "code",
   "execution_count": 81,
   "id": "c832f564",
   "metadata": {},
   "outputs": [],
   "source": [
    "l.remove(\"Vikhroli\")"
   ]
  },
  {
   "cell_type": "code",
   "execution_count": 82,
   "id": "9327bbef",
   "metadata": {},
   "outputs": [
    {
     "name": "stdout",
     "output_type": "stream",
     "text": [
      "['Ashwini', '26.3', 'Science']\n"
     ]
    }
   ],
   "source": [
    "print(l)"
   ]
  },
  {
   "cell_type": "code",
   "execution_count": 83,
   "id": "0841eb4a",
   "metadata": {},
   "outputs": [],
   "source": [
    "#13 Remove your age from list [using 2 methods]"
   ]
  },
  {
   "cell_type": "code",
   "execution_count": 84,
   "id": "76438d12",
   "metadata": {},
   "outputs": [],
   "source": [
    "l = [\"Ashwini\",'26.3','Science','Vikhroli']"
   ]
  },
  {
   "cell_type": "code",
   "execution_count": 85,
   "id": "78e1b57f",
   "metadata": {},
   "outputs": [
    {
     "data": {
      "text/plain": [
       "'26.3'"
      ]
     },
     "execution_count": 85,
     "metadata": {},
     "output_type": "execute_result"
    }
   ],
   "source": [
    "l.pop(1)"
   ]
  },
  {
   "cell_type": "code",
   "execution_count": 86,
   "id": "70733e10",
   "metadata": {},
   "outputs": [],
   "source": [
    "l = [\"Ashwini\",'26.3','Science','Vikhroli']"
   ]
  },
  {
   "cell_type": "code",
   "execution_count": 87,
   "id": "95248871",
   "metadata": {},
   "outputs": [],
   "source": [
    "del l[1]"
   ]
  },
  {
   "cell_type": "code",
   "execution_count": 88,
   "id": "b1015934",
   "metadata": {},
   "outputs": [
    {
     "name": "stdout",
     "output_type": "stream",
     "text": [
      "['Ashwini', 'Science', 'Vikhroli']\n"
     ]
    }
   ],
   "source": [
    "print(l)"
   ]
  },
  {
   "cell_type": "code",
   "execution_count": 89,
   "id": "a2ecce8c",
   "metadata": {},
   "outputs": [],
   "source": [
    "#14 remove last element from the list"
   ]
  },
  {
   "cell_type": "code",
   "execution_count": 90,
   "id": "8f105ce3",
   "metadata": {},
   "outputs": [],
   "source": [
    "l = [\"Ashwini\",'26.3','Science','Vikhroli']"
   ]
  },
  {
   "cell_type": "code",
   "execution_count": 91,
   "id": "54bbc0cf",
   "metadata": {},
   "outputs": [
    {
     "data": {
      "text/plain": [
       "'Vikhroli'"
      ]
     },
     "execution_count": 91,
     "metadata": {},
     "output_type": "execute_result"
    }
   ],
   "source": [
    "l.pop()"
   ]
  },
  {
   "cell_type": "code",
   "execution_count": 92,
   "id": "954fc443",
   "metadata": {},
   "outputs": [],
   "source": [
    "#15 remove all element from the list(empty)"
   ]
  },
  {
   "cell_type": "code",
   "execution_count": 93,
   "id": "fbde074d",
   "metadata": {},
   "outputs": [],
   "source": [
    "l = [\"Ashwini\",'26.3','Science','Vikhroli']"
   ]
  },
  {
   "cell_type": "code",
   "execution_count": 94,
   "id": "9fbd8968",
   "metadata": {},
   "outputs": [],
   "source": [
    "l.clear()"
   ]
  },
  {
   "cell_type": "code",
   "execution_count": 95,
   "id": "4d589cc1",
   "metadata": {},
   "outputs": [
    {
     "name": "stdout",
     "output_type": "stream",
     "text": [
      "[]\n"
     ]
    }
   ],
   "source": [
    "print(l)"
   ]
  },
  {
   "cell_type": "code",
   "execution_count": 96,
   "id": "350a33b8",
   "metadata": {},
   "outputs": [],
   "source": [
    "#16 delete the list"
   ]
  },
  {
   "cell_type": "code",
   "execution_count": 97,
   "id": "764a4f34",
   "metadata": {},
   "outputs": [],
   "source": [
    "l = [\"Ashwini\",'26.3','Science','Vikhroli']"
   ]
  },
  {
   "cell_type": "code",
   "execution_count": 98,
   "id": "7a0be092",
   "metadata": {},
   "outputs": [],
   "source": [
    "del l"
   ]
  },
  {
   "cell_type": "code",
   "execution_count": 99,
   "id": "2d3e6098",
   "metadata": {},
   "outputs": [
    {
     "ename": "NameError",
     "evalue": "name 'l' is not defined",
     "output_type": "error",
     "traceback": [
      "\u001b[1;31m---------------------------------------------------------------------------\u001b[0m",
      "\u001b[1;31mNameError\u001b[0m                                 Traceback (most recent call last)",
      "\u001b[1;32mC:\\Users\\ADMINI~1\\AppData\\Local\\Temp/ipykernel_4000/3958778477.py\u001b[0m in \u001b[0;36m<module>\u001b[1;34m\u001b[0m\n\u001b[1;32m----> 1\u001b[1;33m \u001b[0mprint\u001b[0m\u001b[1;33m(\u001b[0m\u001b[0ml\u001b[0m\u001b[1;33m)\u001b[0m\u001b[1;33m\u001b[0m\u001b[1;33m\u001b[0m\u001b[0m\n\u001b[0m",
      "\u001b[1;31mNameError\u001b[0m: name 'l' is not defined"
     ]
    }
   ],
   "source": [
    "print(l)"
   ]
  },
  {
   "cell_type": "code",
   "execution_count": 100,
   "id": "baf618e8",
   "metadata": {},
   "outputs": [],
   "source": [
    "#17 create a list of prime numbers till 20 and find the length of it"
   ]
  },
  {
   "cell_type": "code",
   "execution_count": 102,
   "id": "995e6d31",
   "metadata": {},
   "outputs": [],
   "source": [
    "prime = [2,5,7,11,13,17,19]"
   ]
  },
  {
   "cell_type": "code",
   "execution_count": 103,
   "id": "0715386c",
   "metadata": {},
   "outputs": [
    {
     "name": "stdout",
     "output_type": "stream",
     "text": [
      "7\n"
     ]
    }
   ],
   "source": [
    "print(len(prime))"
   ]
  },
  {
   "cell_type": "code",
   "execution_count": 104,
   "id": "6d1603f1",
   "metadata": {},
   "outputs": [],
   "source": [
    "#18 create a list of 5,2,18,7,12 and orint in ascendng and descending order"
   ]
  },
  {
   "cell_type": "code",
   "execution_count": 105,
   "id": "7da6df38",
   "metadata": {},
   "outputs": [],
   "source": [
    "m = [5,2,18,7,12]"
   ]
  },
  {
   "cell_type": "code",
   "execution_count": 106,
   "id": "8d9e8bf4",
   "metadata": {},
   "outputs": [],
   "source": [
    "m.sort()"
   ]
  },
  {
   "cell_type": "code",
   "execution_count": 107,
   "id": "88a54535",
   "metadata": {},
   "outputs": [
    {
     "name": "stdout",
     "output_type": "stream",
     "text": [
      "[2, 5, 7, 12, 18]\n"
     ]
    }
   ],
   "source": [
    "print(m)"
   ]
  },
  {
   "cell_type": "code",
   "execution_count": 108,
   "id": "84e47e09",
   "metadata": {},
   "outputs": [],
   "source": [
    "m.reverse()"
   ]
  },
  {
   "cell_type": "code",
   "execution_count": 109,
   "id": "11458033",
   "metadata": {},
   "outputs": [
    {
     "name": "stdout",
     "output_type": "stream",
     "text": [
      "[18, 12, 7, 5, 2]\n"
     ]
    }
   ],
   "source": [
    "print(m)"
   ]
  },
  {
   "cell_type": "code",
   "execution_count": 111,
   "id": "ceeefd45",
   "metadata": {},
   "outputs": [],
   "source": [
    "#19 merge two list"
   ]
  },
  {
   "cell_type": "code",
   "execution_count": 112,
   "id": "0548cef7",
   "metadata": {},
   "outputs": [],
   "source": [
    "c = [1,2,3,4,5]"
   ]
  },
  {
   "cell_type": "code",
   "execution_count": 113,
   "id": "0532f071",
   "metadata": {},
   "outputs": [],
   "source": [
    "d = [6,7,8,9,10,11]"
   ]
  },
  {
   "cell_type": "code",
   "execution_count": 114,
   "id": "059a2a83",
   "metadata": {},
   "outputs": [],
   "source": [
    "e = c + d"
   ]
  },
  {
   "cell_type": "code",
   "execution_count": 115,
   "id": "f9640060",
   "metadata": {},
   "outputs": [
    {
     "name": "stdout",
     "output_type": "stream",
     "text": [
      "[1, 2, 3, 4, 5, 6, 7, 8, 9, 10, 11]\n"
     ]
    }
   ],
   "source": [
    "print(e)"
   ]
  },
  {
   "cell_type": "code",
   "execution_count": 116,
   "id": "603e5c81",
   "metadata": {},
   "outputs": [],
   "source": [
    "#20 make a deep copy of list and check whether it is copying deeply or not"
   ]
  },
  {
   "cell_type": "code",
   "execution_count": 117,
   "id": "ef7e84d1",
   "metadata": {},
   "outputs": [],
   "source": [
    "c = [1,2,3]"
   ]
  },
  {
   "cell_type": "code",
   "execution_count": 118,
   "id": "406823d6",
   "metadata": {},
   "outputs": [],
   "source": [
    "d = c"
   ]
  },
  {
   "cell_type": "code",
   "execution_count": 119,
   "id": "2fe70f6a",
   "metadata": {},
   "outputs": [
    {
     "name": "stdout",
     "output_type": "stream",
     "text": [
      "[1, 2, 3]\n"
     ]
    }
   ],
   "source": [
    "print(d)"
   ]
  },
  {
   "cell_type": "code",
   "execution_count": 120,
   "id": "19be0057",
   "metadata": {},
   "outputs": [],
   "source": [
    "c.append(4)"
   ]
  },
  {
   "cell_type": "code",
   "execution_count": 121,
   "id": "89765ddf",
   "metadata": {},
   "outputs": [
    {
     "name": "stdout",
     "output_type": "stream",
     "text": [
      "[1, 2, 3, 4]\n",
      "[1, 2, 3, 4]\n"
     ]
    }
   ],
   "source": [
    "print(c)\n",
    "print(d)"
   ]
  },
  {
   "cell_type": "code",
   "execution_count": 122,
   "id": "810eee91",
   "metadata": {},
   "outputs": [],
   "source": [
    "#21 make a copy of list in that way making changes in one list will not affect to the another list"
   ]
  },
  {
   "cell_type": "code",
   "execution_count": 123,
   "id": "8374b926",
   "metadata": {},
   "outputs": [],
   "source": [
    "a = ['Rahul','Rohan','Raj']"
   ]
  },
  {
   "cell_type": "code",
   "execution_count": 125,
   "id": "d6d4d00c",
   "metadata": {},
   "outputs": [],
   "source": [
    "c = a.copy()"
   ]
  },
  {
   "cell_type": "code",
   "execution_count": 126,
   "id": "58e575e0",
   "metadata": {},
   "outputs": [
    {
     "name": "stdout",
     "output_type": "stream",
     "text": [
      "['Rahul', 'Rohan', 'Raj']\n"
     ]
    }
   ],
   "source": [
    "print(c)"
   ]
  },
  {
   "cell_type": "code",
   "execution_count": 127,
   "id": "9a5c0a45",
   "metadata": {},
   "outputs": [],
   "source": [
    "a.append(\"Rajkumar\")"
   ]
  },
  {
   "cell_type": "code",
   "execution_count": 129,
   "id": "a74c2949",
   "metadata": {},
   "outputs": [
    {
     "name": "stdout",
     "output_type": "stream",
     "text": [
      "['Rahul', 'Rohan', 'Raj', 'Rajkumar']\n",
      "['Rahul', 'Rohan', 'Raj']\n"
     ]
    }
   ],
   "source": [
    "print(a)\n",
    "print(c)"
   ]
  },
  {
   "cell_type": "code",
   "execution_count": 130,
   "id": "c9a4cd34",
   "metadata": {},
   "outputs": [],
   "source": [
    "#22 take any example to explain stack and queue"
   ]
  },
  {
   "cell_type": "code",
   "execution_count": 131,
   "id": "d46272a1",
   "metadata": {},
   "outputs": [],
   "source": [
    "stack = [\"Ram\",\"Rohan\",\"Rahul\"]"
   ]
  },
  {
   "cell_type": "code",
   "execution_count": 132,
   "id": "7dea2282",
   "metadata": {},
   "outputs": [],
   "source": [
    "stack.append(\"Mohan\")"
   ]
  },
  {
   "cell_type": "code",
   "execution_count": 133,
   "id": "903b4d7d",
   "metadata": {},
   "outputs": [],
   "source": [
    "stack.append(\"Mohini\")"
   ]
  },
  {
   "cell_type": "code",
   "execution_count": 134,
   "id": "b9c3d937",
   "metadata": {},
   "outputs": [
    {
     "name": "stdout",
     "output_type": "stream",
     "text": [
      "['Ram', 'Rohan', 'Rahul', 'Mohan', 'Mohini']\n"
     ]
    }
   ],
   "source": [
    "print(stack)"
   ]
  },
  {
   "cell_type": "code",
   "execution_count": 135,
   "id": "b1c78f7c",
   "metadata": {},
   "outputs": [
    {
     "data": {
      "text/plain": [
       "'Mohini'"
      ]
     },
     "execution_count": 135,
     "metadata": {},
     "output_type": "execute_result"
    }
   ],
   "source": [
    "stack.pop()"
   ]
  },
  {
   "cell_type": "code",
   "execution_count": 136,
   "id": "409e75f8",
   "metadata": {},
   "outputs": [
    {
     "data": {
      "text/plain": [
       "'Mohan'"
      ]
     },
     "execution_count": 136,
     "metadata": {},
     "output_type": "execute_result"
    }
   ],
   "source": [
    "stack.pop()"
   ]
  },
  {
   "cell_type": "code",
   "execution_count": 137,
   "id": "803d1aa8",
   "metadata": {},
   "outputs": [
    {
     "name": "stdout",
     "output_type": "stream",
     "text": [
      "['Ram', 'Rohan', 'Rahul']\n"
     ]
    }
   ],
   "source": [
    "print(stack)"
   ]
  },
  {
   "cell_type": "code",
   "execution_count": 138,
   "id": "64c1a5b3",
   "metadata": {},
   "outputs": [],
   "source": [
    "#Queue"
   ]
  },
  {
   "cell_type": "code",
   "execution_count": 139,
   "id": "e52e50dc",
   "metadata": {},
   "outputs": [],
   "source": [
    "queue = [\"Name\",\"Age\",\"Surname\"]"
   ]
  },
  {
   "cell_type": "code",
   "execution_count": 140,
   "id": "68bf015d",
   "metadata": {},
   "outputs": [],
   "source": [
    "queue.append(\"Address\")"
   ]
  },
  {
   "cell_type": "code",
   "execution_count": 141,
   "id": "b1ba818a",
   "metadata": {},
   "outputs": [],
   "source": [
    "queue.append(\"Nationality\")"
   ]
  },
  {
   "cell_type": "code",
   "execution_count": 142,
   "id": "a178daba",
   "metadata": {},
   "outputs": [
    {
     "name": "stdout",
     "output_type": "stream",
     "text": [
      "['Name', 'Age', 'Surname', 'Address', 'Nationality']\n"
     ]
    }
   ],
   "source": [
    "print(queue)"
   ]
  },
  {
   "cell_type": "code",
   "execution_count": 143,
   "id": "5f18d209",
   "metadata": {},
   "outputs": [
    {
     "data": {
      "text/plain": [
       "'Name'"
      ]
     },
     "execution_count": 143,
     "metadata": {},
     "output_type": "execute_result"
    }
   ],
   "source": [
    "queue.pop(0)"
   ]
  },
  {
   "cell_type": "code",
   "execution_count": 144,
   "id": "49f58925",
   "metadata": {},
   "outputs": [
    {
     "data": {
      "text/plain": [
       "'Age'"
      ]
     },
     "execution_count": 144,
     "metadata": {},
     "output_type": "execute_result"
    }
   ],
   "source": [
    "queue.pop(0)"
   ]
  },
  {
   "cell_type": "code",
   "execution_count": 145,
   "id": "07749335",
   "metadata": {},
   "outputs": [
    {
     "name": "stdout",
     "output_type": "stream",
     "text": [
      "['Surname', 'Address', 'Nationality']\n"
     ]
    }
   ],
   "source": [
    "print(queue)"
   ]
  },
  {
   "cell_type": "code",
   "execution_count": 146,
   "id": "da028a1c",
   "metadata": {},
   "outputs": [],
   "source": [
    "#23 zip four list contain with natural number our name.age.rollno"
   ]
  },
  {
   "cell_type": "code",
   "execution_count": null,
   "id": "7eba9f37",
   "metadata": {},
   "outputs": [],
   "source": [
    "#zip"
   ]
  },
  {
   "cell_type": "code",
   "execution_count": 147,
   "id": "742dc219",
   "metadata": {},
   "outputs": [],
   "source": [
    "name = [\"Sheetal\",\"Krishna\",\"Radha\"]"
   ]
  },
  {
   "cell_type": "code",
   "execution_count": 157,
   "id": "c7dbfbd1",
   "metadata": {},
   "outputs": [],
   "source": [
    "age = ['25','19','22']"
   ]
  },
  {
   "cell_type": "code",
   "execution_count": 158,
   "id": "520841f5",
   "metadata": {},
   "outputs": [],
   "source": [
    "roll_no = ['5','2','1']"
   ]
  },
  {
   "cell_type": "code",
   "execution_count": 159,
   "id": "a678d293",
   "metadata": {},
   "outputs": [],
   "source": [
    "id1 = ['101','102','103']"
   ]
  },
  {
   "cell_type": "code",
   "execution_count": 160,
   "id": "0200f5c9",
   "metadata": {},
   "outputs": [],
   "source": [
    "mapped = zip(name,age,roll_no,id1)"
   ]
  },
  {
   "cell_type": "code",
   "execution_count": 161,
   "id": "b048a0e2",
   "metadata": {},
   "outputs": [],
   "source": [
    "mapped = list(mapped)"
   ]
  },
  {
   "cell_type": "code",
   "execution_count": 162,
   "id": "67e4a574",
   "metadata": {},
   "outputs": [
    {
     "name": "stdout",
     "output_type": "stream",
     "text": [
      "[('Sheetal', '25', '5', '101'), ('Krishna', '19', '2', '102'), ('Radha', '22', '1', '103')]\n"
     ]
    }
   ],
   "source": [
    "print(mapped)"
   ]
  },
  {
   "cell_type": "code",
   "execution_count": 163,
   "id": "51df59c1",
   "metadata": {},
   "outputs": [],
   "source": [
    "#24 unzip the above list"
   ]
  },
  {
   "cell_type": "code",
   "execution_count": 164,
   "id": "d61bd777",
   "metadata": {},
   "outputs": [],
   "source": [
    "namez,agez,roll_noz,id1 = zip(*mapped)"
   ]
  },
  {
   "cell_type": "code",
   "execution_count": 165,
   "id": "dfb469d8",
   "metadata": {},
   "outputs": [
    {
     "name": "stdout",
     "output_type": "stream",
     "text": [
      "('Sheetal', 'Krishna', 'Radha')\n",
      "('25', '19', '22')\n",
      "('5', '2', '1')\n",
      "('101', '102', '103')\n"
     ]
    }
   ],
   "source": [
    "print(namez)\n",
    "print(agez)\n",
    "print(roll_noz)\n",
    "print(id1)"
   ]
  },
  {
   "cell_type": "code",
   "execution_count": null,
   "id": "7e6954d9",
   "metadata": {},
   "outputs": [],
   "source": []
  }
 ],
 "metadata": {
  "kernelspec": {
   "display_name": "Python 3 (ipykernel)",
   "language": "python",
   "name": "python3"
  },
  "language_info": {
   "codemirror_mode": {
    "name": "ipython",
    "version": 3
   },
   "file_extension": ".py",
   "mimetype": "text/x-python",
   "name": "python",
   "nbconvert_exporter": "python",
   "pygments_lexer": "ipython3",
   "version": "3.9.7"
  }
 },
 "nbformat": 4,
 "nbformat_minor": 5
}
