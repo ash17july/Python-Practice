{
 "cells": [
  {
   "cell_type": "code",
   "execution_count": 11,
   "id": "80bde11b",
   "metadata": {},
   "outputs": [
    {
     "name": "stdout",
     "output_type": "stream",
     "text": [
      "a is greater\n"
     ]
    }
   ],
   "source": [
    "a = 10\n",
    "if a < 20:\n",
    "    print('a is greater')\n",
    "else:\n",
    "        print('a is smaller')"
   ]
  },
  {
   "cell_type": "code",
   "execution_count": 10,
   "id": "069f8f8d",
   "metadata": {},
   "outputs": [
    {
     "name": "stdout",
     "output_type": "stream",
     "text": [
      "a is not divisble by 7\n"
     ]
    }
   ],
   "source": [
    "a = 58\n",
    "if a%7==0:\n",
    "    print('a is divisble by 7')\n",
    "else:\n",
    "    print('a is not divisble by 7')\n"
   ]
  },
  {
   "cell_type": "code",
   "execution_count": null,
   "id": "65c701d1",
   "metadata": {},
   "outputs": [],
   "source": []
  },
  {
   "cell_type": "code",
   "execution_count": 9,
   "id": "b02c451f",
   "metadata": {},
   "outputs": [
    {
     "name": "stdout",
     "output_type": "stream",
     "text": [
      "Enter the given number :3\n",
      "number is not divisible by 2.\n"
     ]
    }
   ],
   "source": [
    "c = int(input(\"Enter the given number :\"))\n",
    "if c%2==0:\n",
    "    print('number is divisible by 2.')\n",
    "else:\n",
    "    print(\"number is not divisible by 2.\")"
   ]
  },
  {
   "cell_type": "code",
   "execution_count": 11,
   "id": "e6ca8731",
   "metadata": {},
   "outputs": [
    {
     "name": "stdout",
     "output_type": "stream",
     "text": [
      "Enter the numbers :8\n",
      "not divisible by 3\n"
     ]
    }
   ],
   "source": [
    "d = int(input(\"Enter the numbers :\"))\n",
    "if d%3==0:\n",
    "    print(\"Divisible by 3.\")\n",
    "else:\n",
    "    print(\"not divisible by 3\")"
   ]
  },
  {
   "cell_type": "code",
   "execution_count": 1,
   "id": "001a23b5",
   "metadata": {},
   "outputs": [
    {
     "name": "stdout",
     "output_type": "stream",
     "text": [
      "Enter your number:-7\n",
      "number is negative\n"
     ]
    }
   ],
   "source": [
    "e = float(input(\"Enter your number:\"))\n",
    "if e>0:\n",
    "    print('Number is positive')\n",
    "elif e==0:\n",
    "    print(\"given number is 0\")\n",
    "else:\n",
    "    print('number is negative')"
   ]
  },
  {
   "cell_type": "code",
   "execution_count": 2,
   "id": "f91f84c7",
   "metadata": {},
   "outputs": [
    {
     "name": "stdout",
     "output_type": "stream",
     "text": [
      "List content is filled\n"
     ]
    }
   ],
   "source": [
    "l = [1,6,8,7,9,4]\n",
    "if len(l)==0:\n",
    "    print(\"list content is empty\")\n",
    "else:\n",
    "    print(\"List content is filled\")"
   ]
  },
  {
   "cell_type": "code",
   "execution_count": 4,
   "id": "346a94b3",
   "metadata": {},
   "outputs": [
    {
     "name": "stdout",
     "output_type": "stream",
     "text": [
      "N is in python\n"
     ]
    }
   ],
   "source": [
    "#if n in python\n",
    "s = 'Python'\n",
    "if 'n' in s:\n",
    "    print('N is in python')\n",
    "else:\n",
    "    print('n is not in python')"
   ]
  },
  {
   "cell_type": "code",
   "execution_count": 9,
   "id": "c02e5459",
   "metadata": {},
   "outputs": [
    {
     "name": "stdout",
     "output_type": "stream",
     "text": [
      "this is Sanvee\n"
     ]
    }
   ],
   "source": [
    "name = 'Sanvee'\n",
    "if name =='Vaishnavi':\n",
    "    print('she is Vaishnavi')\n",
    "elif name == 'Ashwini':\n",
    "    print('this is Ashwini')\n",
    "else:\n",
    "    print('this is Sanvee')"
   ]
  },
  {
   "cell_type": "code",
   "execution_count": 1,
   "id": "eaf66067",
   "metadata": {},
   "outputs": [
    {
     "name": "stdout",
     "output_type": "stream",
     "text": [
      "Enter the value of a:5\n",
      "Enter the value of b:6\n",
      "Enter the value of c:8\n",
      "c is greater than a and b\n"
     ]
    }
   ],
   "source": [
    "#find the largest number among three input numbers\n",
    "a = float(input(\"Enter the value of a:\"))\n",
    "b = float(input(\"Enter the value of b:\"))\n",
    "c = float(input(\"Enter the value of c:\"))\n",
    "if a > b and a > c:\n",
    "    print(\"a is greater than b and c\")\n",
    "elif b > c and b > a:\n",
    "    print('b is greater than c and a')\n",
    "elif c > b and c > a:\n",
    "    print('c is greater than a and b')\n",
    "    "
   ]
  },
  {
   "cell_type": "markdown",
   "id": "52b122de",
   "metadata": {},
   "source": [
    "=================================================================================="
   ]
  },
  {
   "cell_type": "code",
   "execution_count": 6,
   "id": "4490ed4e",
   "metadata": {},
   "outputs": [
    {
     "name": "stdout",
     "output_type": "stream",
     "text": [
      "Enter your marks:88\n",
      "Enter the total marks:100\n",
      "78.0\n",
      "Candidate is eligible to give exam.\n"
     ]
    }
   ],
   "source": [
    "#Accept the following from the user and check whether he/she is eligible to sit in the exam\n",
    "a =int(input(\"Enter your marks:\"))\n",
    "b = int(input(\"Enter the total marks:\"))\n",
    "print(z)\n",
    "z = a*100//b\n",
    "if z >= 60:\n",
    "    print(\"Candidate is eligible to give exam.\")\n",
    "else:\n",
    "    print(\"Candidate is not eligible to give exam\")"
   ]
  },
  {
   "cell_type": "code",
   "execution_count": 31,
   "id": "1f9ccdda",
   "metadata": {},
   "outputs": [
    {
     "name": "stdout",
     "output_type": "stream",
     "text": [
      "Enter the value:e\n",
      "it is a vowel\n"
     ]
    }
   ],
   "source": [
    "#find whether is a vowel or not\n",
    "vow = ['a','e','i','o','u']\n",
    "c = input(\"Enter the value:\")\n",
    "if c in vow:\n",
    "    print(\"it is a vowel\")\n",
    "else:\n",
    "    print(\"it is not a vowel\")"
   ]
  },
  {
   "cell_type": "code",
   "execution_count": null,
   "id": "756510f8",
   "metadata": {},
   "outputs": [],
   "source": [
    "cal = (input(\"Enter the operator:\"))\n",
    "if cal=='+':\n",
    "    a = int(input(\"Enter first number:\"))\n",
    "    b = int(input(\"Enter second number :\"))\n",
    "    c = a + b\n",
    "    print(\"addition of a and b is :\",c)\n",
    "elif cal=='*':\n",
    "    a = int(input(\"Enter first number:\"))\n",
    "    b = int(input(\"Enter second number:\"))\n",
    "    c = a * b\n",
    "    print(\"Multiplication of a and b is:\",c)\n",
    "elif cal=='/':\n",
    "    a = int(input(\"Enter first number:\"))\n",
    "    b = int(input(\"Enter second number:\"))\n",
    "    c = a/b\n",
    "    print(\"Division of a and b is:\",c)\n",
    "elif cal == '-':\n",
    "    a = int(input(\"Enter first number:\"))\n",
    "    b = int(input(\"Enter second number:\"))\n",
    "    c = a - b\n",
    "    print(\"Substraction of a and b is:\",c)\n",
    "else:\n",
    "    print(\"Invalid syntax.\")"
   ]
  },
  {
   "cell_type": "code",
   "execution_count": 38,
   "id": "d3877ee0",
   "metadata": {},
   "outputs": [
    {
     "name": "stdout",
     "output_type": "stream",
     "text": [
      "Enter the number1\n",
      "Sunday\n"
     ]
    }
   ],
   "source": [
    "#days input and output\n",
    "c = int(input(\"Enter the number\"))\n",
    "if c == 1:\n",
    "    print('Sunday')\n",
    "elif c == 2:\n",
    "    print('Monday')\n",
    "elif c == 3:\n",
    "    print('Tuesday')\n",
    "elif c == 4:\n",
    "    print('wednesday')\n",
    "elif c == 5:\n",
    "    print('Thursday')\n",
    "elif c == 6:\n",
    "    print('Friday')\n",
    "elif c == 7:\n",
    "    print('Saturday')\n",
    "else:\n",
    "    print(\"Default syntax\")"
   ]
  },
  {
   "cell_type": "code",
   "execution_count": 37,
   "id": "8558dd81",
   "metadata": {},
   "outputs": [
    {
     "name": "stdout",
     "output_type": "stream",
     "text": [
      "Enter your age:19\n",
      "Candidate is eligible to vote.\n"
     ]
    }
   ],
   "source": [
    "a =int(input(\"Enter your age:\"))\n",
    "if a>=18:\n",
    "    print(\"Candidate is eligible to vote.\")\n",
    "else:\n",
    "    print(\"Candidate is not eligible to vote\")"
   ]
  },
  {
   "cell_type": "code",
   "execution_count": 41,
   "id": "761c8c65",
   "metadata": {},
   "outputs": [
    {
     "data": {
      "text/plain": [
       "5.01"
      ]
     },
     "execution_count": 41,
     "metadata": {},
     "output_type": "execute_result"
    }
   ],
   "source": [
    "2004/400"
   ]
  },
  {
   "cell_type": "code",
   "execution_count": 42,
   "id": "21702069",
   "metadata": {},
   "outputs": [
    {
     "data": {
      "text/plain": [
       "20.04"
      ]
     },
     "execution_count": 42,
     "metadata": {},
     "output_type": "execute_result"
    }
   ],
   "source": [
    "2004/100\n"
   ]
  },
  {
   "cell_type": "code",
   "execution_count": 16,
   "id": "6631009a",
   "metadata": {},
   "outputs": [
    {
     "name": "stdout",
     "output_type": "stream",
     "text": [
      "Enter the leap year:2004\n",
      "This is a leap year\n"
     ]
    }
   ],
   "source": [
    "#Check whether the year is leap year or not\n",
    "a = int(input(\"Enter the leap year:\"))\n",
    "if a%400==0 and a%100==0:\n",
    "    print(\"This is a leap year\")\n",
    "elif a%4==0 and a%100!=0:\n",
    "    print(\"This is a leap year\")\n",
    "else:\n",
    "    print(\"it is not a leap year\")"
   ]
  },
  {
   "cell_type": "code",
   "execution_count": 14,
   "id": "0f7458af",
   "metadata": {},
   "outputs": [
    {
     "name": "stdout",
     "output_type": "stream",
     "text": [
      "Enter the number of working days :250\n",
      "Enter the number of days of present :210\n",
      "84.0 is a percentage of a student\n",
      "Student will be able to sit in exam\n"
     ]
    }
   ],
   "source": [
    "#Accept the following from the user and calculate the percentage of class attended:\n",
    "#total no of working days\n",
    "#total no of days of present\n",
    "#after calculating the percentage show that if the percentage is less than 75\n",
    "#than student will not be able to sit in exam\n",
    "\n",
    "a = int(input(\"Enter the number of working days :\"))\n",
    "b = int(input(\"Enter the number of days of present :\"))\n",
    "c = (b*100)/a\n",
    "print(\"{} is a percentage of a student\".format(c))\n",
    "if c < 75:\n",
    "    print(\"Student will not be able to sit in exam\")\n",
    "else:\n",
    "    print(\"Student will be able to sit in exam\")"
   ]
  },
  {
   "cell_type": "code",
   "execution_count": 1,
   "id": "8b4e6212",
   "metadata": {},
   "outputs": [
    {
     "name": "stdout",
     "output_type": "stream",
     "text": [
      "City:- Delhi,Agra,Jaipur\n",
      "Enter the city name from above:delhi\n",
      "Red fort is a monument of Delhi.\n"
     ]
    }
   ],
   "source": [
    "#Accept any city from the user and display monument of that city:\n",
    "print(\"City:- Delhi,Agra,Jaipur\")\n",
    "c = input(\"Enter the city name from above:\")\n",
    "if c == 'delhi':\n",
    "    print(\"Red fort is a monument of Delhi.\")\n",
    "elif c == 'Agra':\n",
    "    print(\"Taj Mahal is a monument of Agra\")\n",
    "elif c == 'Jaipur':\n",
    "    print(\"Jal Mahal is a monument of Jaipur\")\n",
    "else:\n",
    "    print(\"Invalid city entered\")"
   ]
  },
  {
   "cell_type": "code",
   "execution_count": null,
   "id": "b0bccfea",
   "metadata": {},
   "outputs": [],
   "source": []
  },
  {
   "cell_type": "code",
   "execution_count": null,
   "id": "a3c75c64",
   "metadata": {},
   "outputs": [],
   "source": []
  }
 ],
 "metadata": {
  "kernelspec": {
   "display_name": "Python 3 (ipykernel)",
   "language": "python",
   "name": "python3"
  },
  "language_info": {
   "codemirror_mode": {
    "name": "ipython",
    "version": 3
   },
   "file_extension": ".py",
   "mimetype": "text/x-python",
   "name": "python",
   "nbconvert_exporter": "python",
   "pygments_lexer": "ipython3",
   "version": "3.9.7"
  }
 },
 "nbformat": 4,
 "nbformat_minor": 5
}
