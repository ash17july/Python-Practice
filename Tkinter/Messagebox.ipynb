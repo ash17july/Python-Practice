{
 "cells": [
  {
   "cell_type": "code",
   "execution_count": 4,
   "id": "ba61b7e9",
   "metadata": {},
   "outputs": [],
   "source": [
    "from tkinter import *\n",
    "import tkinter.messagebox as tmsg\n",
    "rt=Tk()\n",
    "rt.geometry('400x300')\n",
    "rt.title(\"Pycharm\")\n",
    "def myfunc():\n",
    "    print(\"this is an alert box\")\n",
    "def help():\n",
    "    print(\"i will help you\")\n",
    "    tmsg.showinfo(\"help\",\"sanvee will help you with this gui\")\n",
    "def rate():\n",
    "    print(\"rate us\")\n",
    "    value=tmsg.askquestion(\"was your experience good?\",\"you used this gui.. was your experience good?\")\n",
    "    if value=='Yes':\n",
    "        msg=\"Great, rate us on appstore please\"\n",
    "    else:\n",
    "        msg=\"Tell us what went wrong. he will call you soon\"\n",
    "        tmsg.showinfo(\"Experience\",msg)\n",
    "def divya():\n",
    "    ans=tmsg.askretrycancel(\"be friend with divya\",\"sorry divya will not be your friend\")\n",
    "    if ans:\n",
    "        print(\"after retry no output\")\n",
    "    else:\n",
    "        print(\"so good friend i have cancelled the thing\")\n",
    "mainmenu=Menu(rt)\n",
    "m1=Menu(mainmenu,tearoff=0)\n",
    "m1.add_command(label=\"new project\",command=myfunc)\n",
    "m1.add_command(label=\"save\",command=myfunc)\n",
    "m1.add_separator()\n",
    "m1.add_command(label=\"save as\",command=myfunc)\n",
    "m1.add_command(label=\"print\",command=myfunc)\n",
    "rt.config(menu=mainmenu)\n",
    "mainmenu.add_cascade(label=\"file\",menu=m1)\n",
    "\n",
    "m2=Menu(mainmenu,tearoff=0)\n",
    "m2.add_command(label=\"cut\",command=myfunc)\n",
    "m2.add_command(label=\"copy\",command=myfunc)\n",
    "m2.add_separator()\n",
    "m2.add_command(label=\"paste\",command=myfunc)\n",
    "m2.add_command(label=\"find\",command=myfunc)\n",
    "rt.config(menu=mainmenu)\n",
    "mainmenu.add_cascade(label=\"edit\",menu=m2)\n",
    "\n",
    "m3=Menu(mainmenu,tearoff=0)\n",
    "m3.add_command(label=\"help\",command=help)\n",
    "m3.add_command(label=\"rate us\",command=rate)\n",
    "m3.add_separator()\n",
    "m3.add_command(label=\"befriend divya\",command=divya)\n",
    "rt.config(menu=mainmenu)\n",
    "mainmenu.add_cascade(label=\"help\",menu=m3)\n",
    "rt.mainloop()"
   ]
  },
  {
   "cell_type": "code",
   "execution_count": null,
   "id": "3c718c4a",
   "metadata": {},
   "outputs": [],
   "source": []
  }
 ],
 "metadata": {
  "kernelspec": {
   "display_name": "Python 3 (ipykernel)",
   "language": "python",
   "name": "python3"
  },
  "language_info": {
   "codemirror_mode": {
    "name": "ipython",
    "version": 3
   },
   "file_extension": ".py",
   "mimetype": "text/x-python",
   "name": "python",
   "nbconvert_exporter": "python",
   "pygments_lexer": "ipython3",
   "version": "3.9.7"
  }
 },
 "nbformat": 4,
 "nbformat_minor": 5
}
