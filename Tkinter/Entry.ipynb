{
 "cells": [
  {
   "cell_type": "code",
   "execution_count": 1,
   "metadata": {},
   "outputs": [],
   "source": [
    "#Entry\n",
    "#it is use to provide the single line text-box to the user to accept a value\n",
    "#from the user\n",
    "#we can use entry widget to accept the text strings from the user"
   ]
  },
  {
   "cell_type": "code",
   "execution_count": 2,
   "metadata": {},
   "outputs": [],
   "source": [
    "#\n",
    "#bg\n",
    "#bd\n",
    "#cursor\n",
    "#exportselection\n",
    "#fg\n",
    "#font\n",
    "#highlightbackground\n",
    "#highlightcolor\n",
    "#highlightthickness\n",
    "#insertbackground\n",
    "#insertborderwidth\n",
    "#insertofftime\n",
    "#insertontime\n",
    "#insertwidth\n",
    "#justify\n",
    "#relief\n",
    "#selectbackground\n",
    "#selectborderwidth\n",
    "#selectforeground\n",
    "#show\n",
    "#textvariable\n",
    "#xscrollcommand"
   ]
  },
  {
   "cell_type": "code",
   "execution_count": 6,
   "metadata": {},
   "outputs": [],
   "source": [
    "from tkinter import *\n",
    "top = Tk()\n",
    "top.geometry('500x400')\n",
    "name=Label(top,text='Name').place(x=30, y=50)\n",
    "Email_id=Label(top,text='Email').place(x=30, y=90)\n",
    "Password=Label(top,text='password').place(x=30, y=130)\n",
    "submitbtn=Button(top,text='Submit', activebackground='pink', activeforeground='blue').place(x = 30,y=170)\n",
    "e = Entry(top).place(x=80, y=50)\n",
    "e1 = Entry(top).place(x=80, y=90)\n",
    "e2 = Entry(top).place(x=95, y=130)\n",
    "top.mainloop()"
   ]
  },
  {
   "cell_type": "code",
   "execution_count": 7,
   "metadata": {},
   "outputs": [],
   "source": [
    "#Entry widget methods\n",
    "\n",
    "#delete(first,last=none)\n",
    "#get()\n",
    "#icursor(index)\n",
    "#index(index)\n",
    "#insert(index,s)\n",
    "#select_adjust(index)\n",
    "#select_clear()\n",
    "#select_form(index)\n",
    "#select_present()\n",
    "#select_range(start,end)\n",
    "#select_to(index)\n",
    "#xview(index)\n",
    "#xview_scroll(number, what)"
   ]
  },
  {
   "cell_type": "code",
   "execution_count": null,
   "metadata": {},
   "outputs": [],
   "source": [
    "#a simple calculator\n",
    "import tkinter as tk\n",
    "from functools import *\n",
    "def call_result(label_result,n1,n2):\n",
    "    num1 = (n1.get())\n",
    "    num2 = (n2.get())\n",
    "    result = int(num1)+int(num2)\n",
    "    label_result.config(text='Result =%d'%result)\n",
    "    return\n",
    "root = tk.Tk()\n",
    "root.geometry('400x200+100+200')\n",
    "root.title('Calculator')\n",
    "number1 = tk.StringVar()\n",
    "number2 = tk.StringVar()\n",
    "labelnum1 = tk.Label(root, text='A').grid(row=1, column=0)\n",
    "labelnum2 = tk.Label(root, text ='B').grid(row=2, column=0)\n",
    "labelresult = tk.Label(root)\n",
    "labelresult.grid(row=7, column=2)\n",
    "entrynum2=tk.Entry(root, textvariable=number1).grid(row = 1, column=2)\n",
    "entrynum1=tk.Entry(root, textvariable=number2).grid(row = 2, column=2)\n",
    "call_result=partial(call_result, labelresult,number1,number2)\n",
    "buttonCal=tk.Button(root,text='Calculate',command=call_result).grid(row=3, column=0)\n",
    "root.mainloop()"
   ]
  },
  {
   "cell_type": "code",
   "execution_count": null,
   "metadata": {},
   "outputs": [],
   "source": []
  }
 ],
 "metadata": {
  "kernelspec": {
   "display_name": "Python 3",
   "language": "python",
   "name": "python3"
  },
  "language_info": {
   "codemirror_mode": {
    "name": "ipython",
    "version": 3
   },
   "file_extension": ".py",
   "mimetype": "text/x-python",
   "name": "python",
   "nbconvert_exporter": "python",
   "pygments_lexer": "ipython3",
   "version": "3.7.4"
  }
 },
 "nbformat": 4,
 "nbformat_minor": 2
}
