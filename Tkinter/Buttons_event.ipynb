{
 "cells": [
  {
   "cell_type": "code",
   "execution_count": null,
   "id": "3c02bca4",
   "metadata": {},
   "outputs": [],
   "source": [
    "from tkinter import *\n",
    "def harry(event):\n",
    "    print(f\"you click on the button at {event.x} , {event.y}\")\n",
    "rt=Tk()\n",
    "rt.geometry('400x300')\n",
    "wid=Button(rt,text=\"click me\")\n",
    "wid.pack()\n",
    "wid.bind('')\n",
    "rt.mainloop()"
   ]
  }
 ],
 "metadata": {
  "kernelspec": {
   "display_name": "Python 3 (ipykernel)",
   "language": "python",
   "name": "python3"
  },
  "language_info": {
   "codemirror_mode": {
    "name": "ipython",
    "version": 3
   },
   "file_extension": ".py",
   "mimetype": "text/x-python",
   "name": "python",
   "nbconvert_exporter": "python",
   "pygments_lexer": "ipython3",
   "version": "3.9.7"
  }
 },
 "nbformat": 4,
 "nbformat_minor": 5
}
