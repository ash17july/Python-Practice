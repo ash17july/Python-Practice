{
 "cells": [
  {
   "cell_type": "code",
   "execution_count": 1,
   "id": "cd29bed1",
   "metadata": {},
   "outputs": [],
   "source": [
    "from tkinter import *\n",
    "def myfunc():\n",
    "    print(\"hi there\")\n",
    "rt=Tk()\n",
    "rt.title(\"notepad\")\n",
    "mainmenu=Menu(rt)\n",
    "m1=Menu(mainmenu,tearoff=0)\n",
    "m1.add_command(label=\"new project\",command=myfunc)\n",
    "m1.add_command(label=\"save\",command=myfunc)\n",
    "m1.add_separator()\n",
    "m1.add_command(label=\"save as\",command=myfunc)\n",
    "m1.add_command(label=\"print\",command=myfunc)\n",
    "rt.config(menu=mainmenu)\n",
    "mainmenu.add_cascade(label='file', menu=m1)\n",
    "\n",
    "m2=Menu(mainmenu,tearoff=0)\n",
    "m2.add_command(label=\"cut\",command=myfunc)\n",
    "m2.add_command(label=\"copy\",command=myfunc)\n",
    "m2.add_separator()\n",
    "m2.add_command(label=\"paste\",command=myfunc)\n",
    "m2.add_command(label=\"find\",command=myfunc)\n",
    "rt.config(menu=mainmenu)\n",
    "mainmenu.add_cascade(label='edit', menu=m1)\n",
    "rt.geometry('400x300')\n",
    "rt.mainloop()"
   ]
  },
  {
   "cell_type": "code",
   "execution_count": null,
   "id": "bed56bf5",
   "metadata": {},
   "outputs": [],
   "source": []
  }
 ],
 "metadata": {
  "kernelspec": {
   "display_name": "Python 3 (ipykernel)",
   "language": "python",
   "name": "python3"
  },
  "language_info": {
   "codemirror_mode": {
    "name": "ipython",
    "version": 3
   },
   "file_extension": ".py",
   "mimetype": "text/x-python",
   "name": "python",
   "nbconvert_exporter": "python",
   "pygments_lexer": "ipython3",
   "version": "3.9.7"
  }
 },
 "nbformat": 4,
 "nbformat_minor": 5
}
