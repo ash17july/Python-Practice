{
 "cells": [
  {
   "cell_type": "code",
   "execution_count": 1,
   "metadata": {},
   "outputs": [],
   "source": [
    "#helps to add structure graphics to the python applications\n",
    "#it helps to draw graphs\n",
    "#bd\n",
    "#bg\n",
    "#confine\n",
    "#cursor\n",
    "#height\n",
    "#highlightcolor\n",
    "#relief\n",
    "#scrollregion\n",
    "#width\n",
    "#xscrollincrement\n",
    "#xscrollcommand\n",
    "#yscrollincrement\n",
    "#yscrollcommand"
   ]
  },
  {
   "cell_type": "code",
   "execution_count": 2,
   "metadata": {},
   "outputs": [],
   "source": [
    "from tkinter import *\n",
    "root = Tk()\n",
    "root.geometry('400x300')\n",
    "c = Canvas(root, bg='pink',height=\"200\")\n",
    "c.pack()\n",
    "root.mainloop()"
   ]
  },
  {
   "cell_type": "code",
   "execution_count": 3,
   "metadata": {},
   "outputs": [],
   "source": [
    "from tkinter import *\n",
    "top = Tk()\n",
    "top.geometry('400x300')\n",
    "c= Canvas(top,bg='yellow', height=\"300\", width=\"200\")\n",
    "arc=c.create_arc((5,10,150,200),start=0, extent=150, fill=\"white\")\n",
    "c.pack()\n",
    "top.mainloop()"
   ]
  },
  {
   "cell_type": "code",
   "execution_count": null,
   "metadata": {},
   "outputs": [],
   "source": []
  }
 ],
 "metadata": {
  "kernelspec": {
   "display_name": "Python 3",
   "language": "python",
   "name": "python3"
  },
  "language_info": {
   "codemirror_mode": {
    "name": "ipython",
    "version": 3
   },
   "file_extension": ".py",
   "mimetype": "text/x-python",
   "name": "python",
   "nbconvert_exporter": "python",
   "pygments_lexer": "ipython3",
   "version": "3.7.4"
  }
 },
 "nbformat": 4,
 "nbformat_minor": 2
}
