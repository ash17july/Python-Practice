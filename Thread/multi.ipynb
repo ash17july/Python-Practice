{
 "cells": [
  {
   "cell_type": "code",
   "execution_count": 2,
   "metadata": {},
   "outputs": [
    {
     "name": "stdout",
     "output_type": "stream",
     "text": [
      "single thread\n"
     ]
    }
   ],
   "source": [
    "import threading\n",
    "def th():\n",
    "    print(\"single thread\")\n",
    "arr = th()\n",
    "t = threading.Thread(target = th ,args = (arr,))"
   ]
  },
  {
   "cell_type": "code",
   "execution_count": 24,
   "metadata": {},
   "outputs": [
    {
     "name": "stdout",
     "output_type": "stream",
     "text": [
      "its a mad mad world gonna maken escape suppose ,when you go on the way\n",
      "hi\n",
      "Time taken by thread 3.02095627784729\n",
      "done\n"
     ]
    }
   ],
   "source": [
    "import time\n",
    "import threading\n",
    "def guru(m,t,u):\n",
    "    time.sleep(3)\n",
    "    print('its a {} mad world {} maken escape {} ,when you go on the way'.format(m,t,u))\n",
    "    print(\"hi\")\n",
    "t = time.time()\n",
    "th = threading.Thread(target = guru, args = ('mad','gonna','suppose',))\n",
    "th.start()\n",
    "th.join()\n",
    "print(\"Time taken by thread\",time.time()-t)\n",
    "print(\"done\")"
   ]
  },
  {
   "cell_type": "code",
   "execution_count": 26,
   "metadata": {},
   "outputs": [
    {
     "name": "stdout",
     "output_type": "stream",
     "text": [
      "task1 assigned to thread: t1\n",
      "id of process running task1 :\n",
      "task2 assigned to thread: t2\n",
      "id of process running task2 :\n"
     ]
    }
   ],
   "source": [
    "import threading\n",
    "import os\n",
    "def task():\n",
    "    print('task1 assigned to thread: {}'.format(threading.current_thread().name))\n",
    "    print('id of process running task1 :'.format(os.getpid()))\n",
    "def task2():\n",
    "    print('task2 assigned to thread: {}'.format(threading.current_thread().name))\n",
    "    print('id of process running task2 :'.format(os.getpid()))\n",
    "    \n",
    "if __name__=='main':\n",
    "    print('id of process running main program'.format(os.getpid()))\n",
    "    print('Main thread name: {}'.format(threading.current_thread().name))\n",
    "    \n",
    "th = threading.Thread(target = task, name = 't1')\n",
    "th1 = threading.Thread(target = task2 ,name = 't2')\n",
    "th.start()\n",
    "th1.start()\n",
    "th.join()\n",
    "th1.join()"
   ]
  },
  {
   "cell_type": "code",
   "execution_count": null,
   "metadata": {},
   "outputs": [],
   "source": []
  }
 ],
 "metadata": {
  "kernelspec": {
   "display_name": "Python 3",
   "language": "python",
   "name": "python3"
  },
  "language_info": {
   "codemirror_mode": {
    "name": "ipython",
    "version": 3
   },
   "file_extension": ".py",
   "mimetype": "text/x-python",
   "name": "python",
   "nbconvert_exporter": "python",
   "pygments_lexer": "ipython3",
   "version": "3.7.4"
  }
 },
 "nbformat": 4,
 "nbformat_minor": 2
}
