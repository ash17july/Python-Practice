{
 "cells": [
  {
   "cell_type": "code",
   "execution_count": 1,
   "metadata": {},
   "outputs": [],
   "source": [
    "#Multithreading is a threading technique in Python programming\n",
    "# to run multiple threads concurrently by rapidly switching between threads with a CPU help\n",
    "#Multithreading aims to perform multiple tasks simultaneously,\n",
    "# which increases performance, speed and improves the rendering of the application."
   ]
  },
  {
   "cell_type": "code",
   "execution_count": 13,
   "metadata": {},
   "outputs": [
    {
     "name": "stdout",
     "output_type": "stream",
     "text": [
      "calculate the square\n",
      "Square of  2 is  4\n",
      "Square of  3 is  9\n",
      "Square of  4 is  16\n",
      "Square of  5 is  25\n",
      "calculate the cube\n",
      "Cube of  2 is  8\n",
      "Cube of  3 is  27\n",
      "Cube of  4 is  64\n",
      "Cube of  5 is  125\n",
      "The threading is calculated as : 2.447636127471924\n"
     ]
    }
   ],
   "source": [
    "from threading import *\n",
    "import time\n",
    "def cal_sqr(num):\n",
    "    print(\"calculate the square\")\n",
    "    for n in num:\n",
    "        time.sleep(0.3)\n",
    "        print(\"Square of \",n,\"is \",n*n)\n",
    "def cal_cube(num):\n",
    "    print(\"calculate the cube\")\n",
    "    for n in num:\n",
    "        time.sleep(0.3)\n",
    "        print(\"Cube of \",n,\"is \",n*n*n)\n",
    "t = time.time()\n",
    "obj = [2,3,4,5]\n",
    "cal_sqr(obj)\n",
    "cal_cube(obj)\n",
    "print(\"The threading is calculated as :\",time.time()-t)"
   ]
  },
  {
   "cell_type": "code",
   "execution_count": 18,
   "metadata": {},
   "outputs": [
    {
     "name": "stdout",
     "output_type": "stream",
     "text": [
      "How old are you 5\n",
      "How old are you 8\n"
     ]
    }
   ],
   "source": [
    "from threading import *\n",
    "def hi(n):\n",
    "    print(\"How old are you\",n)\n",
    "t = threading.Thread(target = hi, args=(5,))\n",
    "t1 = threading.Thread(target = hi, args=(8,))\n",
    "t.start()\n",
    "t1.start()"
   ]
  },
  {
   "cell_type": "code",
   "execution_count": 20,
   "metadata": {},
   "outputs": [
    {
     "name": "stdout",
     "output_type": "stream",
     "text": [
      "how old are you 10\n",
      "Thanking you\n"
     ]
    }
   ],
   "source": [
    "import threading\n",
    "def hi(n):\n",
    "    print(\"how old are you\",n)\n",
    "t = threading.Thread(target = hi ,args = (10,))\n",
    "t.start()\n",
    "t.join()\n",
    "print(\"Thanking you\")"
   ]
  },
  {
   "cell_type": "code",
   "execution_count": 23,
   "metadata": {},
   "outputs": [
    {
     "name": "stdout",
     "output_type": "stream",
     "text": [
      "calculate the square of numbers\n",
      "calculate the cube of numbers\n",
      "Square of 2 is 4\n",
      "cube of 2 is 8\n",
      "Square of 4 is 16\n",
      "cube of 4 is 64\n",
      "Square of 5 is 25\n",
      "cube of 5 is 125\n",
      "The time taken by threading is  9.057474613189697\n",
      "Again executing the main thread\n",
      "Thread1 and Thread2 has finished their execution\n"
     ]
    }
   ],
   "source": [
    "import time\n",
    "import threading\n",
    "def cal_sq(num):\n",
    "    print(\"calculate the square of numbers\")\n",
    "    for n in num:\n",
    "        time.sleep(3)\n",
    "        print(\"Square of\",n,\"is\",n*n)\n",
    "def cal_cube(num):\n",
    "    print(\"calculate the cube of numbers\")\n",
    "    for n in num:\n",
    "        time.sleep(3)\n",
    "        print(\"cube of\",n,\"is\",n*n*n)\n",
    "\n",
    "arr = [2,4,5]\n",
    "#cal_sq(arr)\n",
    "#cal_cube(arr)\n",
    "t = time.time()\n",
    "th1 = threading.Thread(target = cal_sq, args = (arr,))\n",
    "th2 = threading.Thread(target = cal_cube, args = (arr,))\n",
    "th1.start()\n",
    "th2.start()\n",
    "th1.join()\n",
    "th2.join()\n",
    "print(\"The time taken by threading is \",time.time()-t)\n",
    "print(\"Again executing the main thread\")\n",
    "print(\"Thread1 and Thread2 has finished their execution\")        "
   ]
  },
  {
   "cell_type": "code",
   "execution_count": null,
   "metadata": {},
   "outputs": [],
   "source": []
  }
 ],
 "metadata": {
  "kernelspec": {
   "display_name": "Python 3",
   "language": "python",
   "name": "python3"
  },
  "language_info": {
   "codemirror_mode": {
    "name": "ipython",
    "version": 3
   },
   "file_extension": ".py",
   "mimetype": "text/x-python",
   "name": "python",
   "nbconvert_exporter": "python",
   "pygments_lexer": "ipython3",
   "version": "3.7.4"
  }
 },
 "nbformat": 4,
 "nbformat_minor": 2
}
