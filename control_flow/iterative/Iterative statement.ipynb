{
 "cells": [
  {
   "cell_type": "markdown",
   "id": "26ace820",
   "metadata": {},
   "source": [
    "Break Statement"
   ]
  },
  {
   "cell_type": "code",
   "execution_count": 1,
   "id": "dbd7ecee",
   "metadata": {},
   "outputs": [],
   "source": [
    "#Break statement:  Python break statement brings control out of the loop. if it matches the condition\n",
    "# then it will end the loop instantly."
   ]
  },
  {
   "cell_type": "code",
   "execution_count": 4,
   "id": "8f691b6a",
   "metadata": {},
   "outputs": [
    {
     "name": "stdout",
     "output_type": "stream",
     "text": [
      "1\n",
      "2\n",
      "3\n"
     ]
    }
   ],
   "source": [
    "#For loop with break statement:\n",
    "list1 = [1,2,3,4]\n",
    "for x in list1:\n",
    "    if x == 4:\n",
    "        break\n",
    "    print(x)"
   ]
  },
  {
   "cell_type": "code",
   "execution_count": 5,
   "id": "c9763668",
   "metadata": {},
   "outputs": [
    {
     "name": "stdout",
     "output_type": "stream",
     "text": [
      "0\n",
      "1\n",
      "2\n",
      "3\n",
      "4\n",
      "5\n"
     ]
    }
   ],
   "source": [
    "for num in range(10):\n",
    "    if num>5:\n",
    "        break\n",
    "    print(num)"
   ]
  },
  {
   "cell_type": "markdown",
   "id": "3ad8d1b0",
   "metadata": {},
   "source": [
    "Continue statement: Python continue statement returns the control to the beginning of the loop. if it matches the condition then skip that value and continue the loop"
   ]
  },
  {
   "cell_type": "markdown",
   "id": "07bd5803",
   "metadata": {},
   "source": [
    "#For loop with continue statement\n",
    "for l in \"NetTechIndia\":\n",
    "    if l == 'e':\n",
    "        continue\n",
    "    print(\"Current Letter:\",l)"
   ]
  },
  {
   "cell_type": "code",
   "execution_count": 7,
   "id": "c106ee40",
   "metadata": {},
   "outputs": [
    {
     "name": "stdout",
     "output_type": "stream",
     "text": [
      "N t T c h I n d i a "
     ]
    }
   ],
   "source": [
    "for l in \"NetTechIndia\":\n",
    "    if l == 'e':\n",
    "        continue\n",
    "    print(l, end = \" \")"
   ]
  },
  {
   "cell_type": "code",
   "execution_count": 8,
   "id": "06a633e3",
   "metadata": {},
   "outputs": [
    {
     "name": "stdout",
     "output_type": "stream",
     "text": [
      "3\n",
      "4\n",
      "6\n",
      "7\n"
     ]
    }
   ],
   "source": [
    "for num in range(3,8):\n",
    "    if num == 5:\n",
    "        continue\n",
    "    else:\n",
    "        print(num)"
   ]
  },
  {
   "cell_type": "markdown",
   "id": "8025425f",
   "metadata": {},
   "source": [
    "Pass statement: In Python, pass is a null statement.the interpreter does not ignore a pass statement, but nothing happened and statement result into no operation"
   ]
  },
  {
   "cell_type": "code",
   "execution_count": 13,
   "id": "9ebaffbb",
   "metadata": {},
   "outputs": [
    {
     "name": "stdout",
     "output_type": "stream",
     "text": [
      "['January', 'February', 'March', 'April', 'June']\n"
     ]
    }
   ],
   "source": [
    "#For loop with pass statement\n",
    "m = ['January','February','March','April','June']\n",
    "for m1 in m:\n",
    "    pass\n",
    "print(m)"
   ]
  },
  {
   "cell_type": "code",
   "execution_count": 21,
   "id": "c51c6ad1",
   "metadata": {},
   "outputs": [
    {
     "name": "stdout",
     "output_type": "stream",
     "text": [
      "bye\n"
     ]
    }
   ],
   "source": [
    "a = 3\n",
    "b = 200\n",
    "if b<a:\n",
    "    pass\n",
    "print('bye')"
   ]
  },
  {
   "cell_type": "code",
   "execution_count": 33,
   "id": "4bbbad19",
   "metadata": {},
   "outputs": [
    {
     "name": "stdout",
     "output_type": "stream",
     "text": [
      "1\n",
      "2\n",
      "3\n"
     ]
    }
   ],
   "source": [
    "#While loop with break statement:\n",
    "i = 1\n",
    "while i<6:\n",
    "    print(i)\n",
    "    if i == 3:\n",
    "        break\n",
    "    i += 1"
   ]
  },
  {
   "cell_type": "code",
   "execution_count": 3,
   "id": "9dc2ba4e",
   "metadata": {},
   "outputs": [
    {
     "name": "stdout",
     "output_type": "stream",
     "text": [
      "1\n",
      "2\n",
      "4\n",
      "5\n",
      "6\n"
     ]
    }
   ],
   "source": [
    "i = 0\n",
    "while i < 6:\n",
    "    i += 1\n",
    "    if i == 3:\n",
    "        continue\n",
    "    print(i)"
   ]
  },
  {
   "cell_type": "code",
   "execution_count": 5,
   "id": "4593e9ef",
   "metadata": {},
   "outputs": [
    {
     "name": "stdout",
     "output_type": "stream",
     "text": [
      "3\n",
      "2\n",
      "1\n",
      "0\n"
     ]
    }
   ],
   "source": [
    "#While loop with pass statement:\n",
    "n = 4\n",
    "while n > 0:\n",
    "    n = n - 1\n",
    "    pass\n",
    "    print(n)"
   ]
  },
  {
   "cell_type": "code",
   "execution_count": 6,
   "id": "ffbc7384",
   "metadata": {},
   "outputs": [
    {
     "name": "stdout",
     "output_type": "stream",
     "text": [
      "1\n",
      "2\n",
      "3\n",
      "4\n",
      "No break\n"
     ]
    }
   ],
   "source": [
    "#For loop with else\n",
    "for i in range(1, 5):\n",
    "    print(i)\n",
    "else:\n",
    "    print('No break')"
   ]
  },
  {
   "cell_type": "code",
   "execution_count": 7,
   "id": "cb41afbe",
   "metadata": {},
   "outputs": [
    {
     "name": "stdout",
     "output_type": "stream",
     "text": [
      "1\n",
      "2\n",
      "3\n",
      "4\n",
      "5\n",
      "6 is no longer less than 6\n"
     ]
    }
   ],
   "source": [
    "#While loop with else\n",
    "i = 1\n",
    "while i < 6:\n",
    "    print(i)\n",
    "    i += 1\n",
    "else:\n",
    "    print(i,\"is no longer less than 6\")"
   ]
  },
  {
   "cell_type": "code",
   "execution_count": 10,
   "id": "e8646cb8",
   "metadata": {},
   "outputs": [
    {
     "name": "stdout",
     "output_type": "stream",
     "text": [
      "1 2 3 4 5 6 7 8 9 10 \n",
      "2 4 6 8 10 12 14 16 18 20 \n",
      "3 6 9 12 15 18 21 24 27 30 \n",
      "4 8 12 16 20 24 28 32 36 40 \n",
      "5 10 15 20 25 30 35 40 45 50 \n",
      "6 12 18 24 30 36 42 48 54 60 \n",
      "7 14 21 28 35 42 49 56 63 70 \n",
      "8 16 24 32 40 48 56 64 72 80 \n",
      "9 18 27 36 45 54 63 72 81 90 \n",
      "10 20 30 40 50 60 70 80 90 100 \n"
     ]
    }
   ],
   "source": [
    "#Nested for loop\n",
    "#write a nested for loop program to print multiplication table in python\n",
    "#outer loop\n",
    "for i in range(1, 11):\n",
    "    #nested loop\n",
    "    #to iterate from 1 to 10\n",
    "    for j in range(1, 11):\n",
    "        #print multiplication\n",
    "        print(i * j, end = \" \")\n",
    "    print()"
   ]
  },
  {
   "cell_type": "code",
   "execution_count": 11,
   "id": "cc2faf16",
   "metadata": {},
   "outputs": [
    {
     "name": "stdout",
     "output_type": "stream",
     "text": [
      "* \n",
      "* * \n",
      "* * * \n",
      "* * * * \n",
      "* * * * * \n"
     ]
    }
   ],
   "source": [
    "#Another most common use of nested loop is to print various star add number patterns:\n",
    "rows = 5\n",
    "#outer loop\n",
    "for i in range(1, rows + 1):\n",
    "    #inner loop\n",
    "    for j in range(1, i + 1):\n",
    "        print(\"*\", end = \" \")\n",
    "    print()"
   ]
  },
  {
   "cell_type": "code",
   "execution_count": 12,
   "id": "b843aaca",
   "metadata": {},
   "outputs": [
    {
     "name": "stdout",
     "output_type": "stream",
     "text": [
      "apple apple apple apple apple \n",
      "banana banana banana banana banana \n",
      "cherry cherry cherry cherry cherry \n"
     ]
    }
   ],
   "source": [
    "#Nested while loop\n",
    "fruits = ['apple','banana','cherry']\n",
    "#outer loop\n",
    "for x in fruits:\n",
    "    #inner while loop\n",
    "    count = 0\n",
    "    while count < 5:\n",
    "        print(x, end = \" \")\n",
    "        #increment counter\n",
    "        count = count +1\n",
    "    print()"
   ]
  },
  {
   "cell_type": "code",
   "execution_count": null,
   "id": "257e25f7",
   "metadata": {},
   "outputs": [],
   "source": []
  }
 ],
 "metadata": {
  "kernelspec": {
   "display_name": "Python 3 (ipykernel)",
   "language": "python",
   "name": "python3"
  },
  "language_info": {
   "codemirror_mode": {
    "name": "ipython",
    "version": 3
   },
   "file_extension": ".py",
   "mimetype": "text/x-python",
   "name": "python",
   "nbconvert_exporter": "python",
   "pygments_lexer": "ipython3",
   "version": "3.9.7"
  }
 },
 "nbformat": 4,
 "nbformat_minor": 5
}
