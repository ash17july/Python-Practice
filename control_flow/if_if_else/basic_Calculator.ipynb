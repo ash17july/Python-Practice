{
 "cells": [
  {
   "cell_type": "code",
   "execution_count": 1,
   "id": "2ff5086c",
   "metadata": {},
   "outputs": [
    {
     "name": "stdout",
     "output_type": "stream",
     "text": [
      "Enter the first value:4\n",
      "Enter the second value:6\n",
      "Enter the operator:*\n",
      "The Multiplication of the value is: 24.0\n"
     ]
    }
   ],
   "source": [
    "a = float(input(\"Enter the first value:\"))\n",
    "b = float(input(\"Enter the second value:\"))\n",
    "c = input(\"Enter the operator:\")\n",
    "if c == '+':\n",
    "    print(\"The Addition of the value is:\",a+b)\n",
    "elif c == '-':\n",
    "    print(\"The Substraction of the value is :\",a-b)   \n",
    "elif c == '*':\n",
    "    print(\"The Multiplication of the value is:\",a*b)\n",
    "elif c == '/':\n",
    "    print(\"The Division of the value is :\",a/b)\n",
    "else:\n",
    "    print(\"Syntax is invalid\")"
   ]
  },
  {
   "cell_type": "code",
   "execution_count": null,
   "id": "73b01403",
   "metadata": {},
   "outputs": [],
   "source": []
  }
 ],
 "metadata": {
  "kernelspec": {
   "display_name": "Python 3 (ipykernel)",
   "language": "python",
   "name": "python3"
  },
  "language_info": {
   "codemirror_mode": {
    "name": "ipython",
    "version": 3
   },
   "file_extension": ".py",
   "mimetype": "text/x-python",
   "name": "python",
   "nbconvert_exporter": "python",
   "pygments_lexer": "ipython3",
   "version": "3.9.7"
  }
 },
 "nbformat": 4,
 "nbformat_minor": 5
}
