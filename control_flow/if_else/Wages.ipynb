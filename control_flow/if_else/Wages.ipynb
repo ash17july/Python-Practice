{
 "cells": [
  {
   "cell_type": "code",
   "execution_count": null,
   "id": "62b46c55",
   "metadata": {},
   "outputs": [],
   "source": [
    "#Accept the age,sex('M'or 'F') number of days and display the wages accordingly:\n",
    "age = float(input(\"Enter your age:\"))\n",
    "g = input(\"Enter your gender:\")\n",
    "if age>=18 and age<30 and g.upper()=='M':\n",
    "    print(\"The wages for male are:\",age*700)\n",
    "elif age >= 18 and age < 30 and g.upper()=='F':\n",
    "    print(\"The wages for female are:\",age*750)\n",
    "elif age>=30 and age<=40 and g.upper()=='M':\n",
    "    print(\"The wages for old male are:\",age*800)\n",
    "elif age >= 30 and age <= 40 and g.upper()=='F':\n",
    "    print(\"The wages for old female are:\",age*850)\n",
    "else:\n",
    "    print(\"Enter appropriate age.\")"
   ]
  }
 ],
 "metadata": {
  "kernelspec": {
   "display_name": "Python 3 (ipykernel)",
   "language": "python",
   "name": "python3"
  },
  "language_info": {
   "codemirror_mode": {
    "name": "ipython",
    "version": 3
   },
   "file_extension": ".py",
   "mimetype": "text/x-python",
   "name": "python",
   "nbconvert_exporter": "python",
   "pygments_lexer": "ipython3",
   "version": "3.9.7"
  }
 },
 "nbformat": 4,
 "nbformat_minor": 5
}
