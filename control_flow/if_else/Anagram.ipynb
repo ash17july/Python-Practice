{
 "cells": [
  {
   "cell_type": "code",
   "execution_count": null,
   "id": "39a21d44",
   "metadata": {},
   "outputs": [],
   "source": [
    "#Check if two strings are anagram or not:\n",
    "a = input(\"Enter the name:\")\n",
    "b = input(\"Enter the second name:\")\n",
    "m = a.casefold()\n",
    "n = b.casefold()\n",
    "d = sorted(m)\n",
    "e = sorted(n)\n",
    "print(d)\n",
    "print(e)\n",
    "if d == e:\n",
    "    print(\"The above name is an anagram.\")\n",
    "else:\n",
    "    print(\"The above name is not an anagram.\")"
   ]
  }
 ],
 "metadata": {
  "kernelspec": {
   "display_name": "Python 3 (ipykernel)",
   "language": "python",
   "name": "python3"
  },
  "language_info": {
   "codemirror_mode": {
    "name": "ipython",
    "version": 3
   },
   "file_extension": ".py",
   "mimetype": "text/x-python",
   "name": "python",
   "nbconvert_exporter": "python",
   "pygments_lexer": "ipython3",
   "version": "3.9.7"
  }
 },
 "nbformat": 4,
 "nbformat_minor": 5
}
