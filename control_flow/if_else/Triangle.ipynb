{
 "cells": [
  {
   "cell_type": "code",
   "execution_count": 1,
   "id": "398ec117",
   "metadata": {},
   "outputs": [
    {
     "name": "stdout",
     "output_type": "stream",
     "text": [
      "Enter the 1st value:6\n",
      "Enter the 2nd value:8\n",
      "Enter the 3rd value:2\n",
      "It is a Scalene Triangle.\n"
     ]
    }
   ],
   "source": [
    "#Accept three sides of a triangle and check whether it is an equilateral,isosceles or scalene triangle\n",
    "s1 = float(input(\"Enter the 1st value:\"))\n",
    "s2 = float(input(\"Enter the 2nd value:\"))\n",
    "s3 = float(input(\"Enter the 3rd value:\"))\n",
    "if s1==s2 and s2==s3 and s1==s3:\n",
    "    print(\"It is an Equilateral Triangle.\")\n",
    "elif s1!=s2 and s2!=s3 and s1!=s3:\n",
    "    print(\"It is a Scalene Triangle.\")\n",
    "elif s1==s2 or s2==s3 or s1==s3:\n",
    "    print(\"It is an Isosceles Triangle.\")\n",
    "else:\n",
    "    print(\"It is not a Triangle\")"
   ]
  },
  {
   "cell_type": "code",
   "execution_count": 3,
   "id": "c16bc102",
   "metadata": {},
   "outputs": [
    {
     "name": "stdout",
     "output_type": "stream",
     "text": [
      "Enter the first value:5\n",
      "Enter the second value:6\n",
      "Enter the third value:4\n",
      "Triangle is possible\n"
     ]
    }
   ],
   "source": [
    "#Accept three sides of a triangle and check whether the triangle is possible or not\n",
    "s1 = float(input(\"Enter the first value:\"))\n",
    "s2 = float(input(\"Enter the second value:\"))\n",
    "s3 = float(input(\"Enter the third value:\"))\n",
    "if s1+s2==s3 or s1+s3==s2 or s2+s3==s1:\n",
    "    print(\"Triangle is not possible\")\n",
    "else:\n",
    "    print(\"Triangle is possible\")"
   ]
  },
  {
   "cell_type": "code",
   "execution_count": null,
   "id": "ee2fbd7b",
   "metadata": {},
   "outputs": [],
   "source": []
  }
 ],
 "metadata": {
  "kernelspec": {
   "display_name": "Python 3 (ipykernel)",
   "language": "python",
   "name": "python3"
  },
  "language_info": {
   "codemirror_mode": {
    "name": "ipython",
    "version": 3
   },
   "file_extension": ".py",
   "mimetype": "text/x-python",
   "name": "python",
   "nbconvert_exporter": "python",
   "pygments_lexer": "ipython3",
   "version": "3.9.7"
  }
 },
 "nbformat": 4,
 "nbformat_minor": 5
}
