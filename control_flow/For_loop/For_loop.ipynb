{
 "cells": [
  {
   "cell_type": "code",
   "execution_count": 3,
   "id": "5694e314",
   "metadata": {},
   "outputs": [
    {
     "name": "stdout",
     "output_type": "stream",
     "text": [
      "2 4 6 8 10 "
     ]
    }
   ],
   "source": [
    "#Write a program to print first 10 even numbers:\n",
    "i = 1\n",
    "for i in range(2,11,2):\n",
    "    print(i, end = \" \")"
   ]
  },
  {
   "cell_type": "code",
   "execution_count": 4,
   "id": "bc446e60",
   "metadata": {},
   "outputs": [
    {
     "name": "stdout",
     "output_type": "stream",
     "text": [
      "1 3 5 7 9 "
     ]
    }
   ],
   "source": [
    "#Write a program to print first 10 odd numbers:\n",
    "i = 1\n",
    "for i in range(1,11,2):\n",
    "    print(i, end = \" \")"
   ]
  },
  {
   "cell_type": "code",
   "execution_count": 7,
   "id": "f319bddc",
   "metadata": {},
   "outputs": [
    {
     "name": "stdout",
     "output_type": "stream",
     "text": [
      "Enter the number:5\n",
      "The factorial of 5 is 120\n"
     ]
    }
   ],
   "source": [
    "#To find a factorial:\n",
    "n = int(input(\"Enter the number:\"))   \n",
    "f = 1    \n",
    "if n == 0:    \n",
    "    print(\"The factorial of 0 is 1\")    \n",
    "else:\n",
    "    for i in range(1,n+1):\n",
    "        f = f*i    \n",
    "print(\"The factorial of\",n,\"is\",f)"
   ]
  },
  {
   "cell_type": "code",
   "execution_count": 9,
   "id": "241eda72",
   "metadata": {},
   "outputs": [
    {
     "name": "stdout",
     "output_type": "stream",
     "text": [
      "Enter the number:6\n",
      "5 is not a prime number.\n"
     ]
    }
   ],
   "source": [
    "#To check whether a number is prime or not:\n",
    "   \n",
    "num = int(input(\"Enter the number:\"))\n",
    "for i in range(2,num):\n",
    "        if num%i==0:\n",
    "            f=1\n",
    "if f==1:\n",
    "    print(i,\"is not a prime number.\")\n",
    "else:\n",
    "    print(i, \"is a prime number\")"
   ]
  },
  {
   "cell_type": "code",
   "execution_count": 11,
   "id": "f68873fe",
   "metadata": {},
   "outputs": [
    {
     "name": "stdout",
     "output_type": "stream",
     "text": [
      "1 5 7 11 13 17 19 "
     ]
    }
   ],
   "source": [
    "#Write a program to print numbers from 1 to 20 except multiple of 2&3:\n",
    "i = 1\n",
    "for i in range(1,20):\n",
    "    if i%2!=0 and i%3 != 0:\n",
    "        print(i, end = \" \")"
   ]
  },
  {
   "cell_type": "code",
   "execution_count": 16,
   "id": "1a639bd4",
   "metadata": {},
   "outputs": [],
   "source": [
    "#Write a program to print the following pattern:\n",
    "for i in range(5,1,-1):\n",
    "    for j in range(5,1):\n",
    "        i = j\n",
    "        print(i*j, end = \" \")"
   ]
  },
  {
   "cell_type": "code",
   "execution_count": 17,
   "id": "9ea0f7d3",
   "metadata": {},
   "outputs": [
    {
     "name": "stdout",
     "output_type": "stream",
     "text": [
      "25\n",
      "64\n",
      "121\n",
      "196\n"
     ]
    }
   ],
   "source": [
    "#Predict the output:\n",
    "x = 5\n",
    "while(x<15):\n",
    "    print(x**2)\n",
    "    x += 3"
   ]
  },
  {
   "cell_type": "code",
   "execution_count": 18,
   "id": "61b335d8",
   "metadata": {},
   "outputs": [
    {
     "name": "stdout",
     "output_type": "stream",
     "text": [
      "12\n",
      "13\n"
     ]
    }
   ],
   "source": [
    "a = 7\n",
    "b = 5\n",
    "while(a<9):\n",
    "    print(a+b)\n",
    "    a += 1"
   ]
  },
  {
   "cell_type": "code",
   "execution_count": 19,
   "id": "60b91983",
   "metadata": {},
   "outputs": [
    {
     "name": "stdout",
     "output_type": "stream",
     "text": [
      "H\n",
      "H\n",
      "H\n",
      "H\n"
     ]
    }
   ],
   "source": [
    "b = 5\n",
    "while(b<9):\n",
    "    print('H')\n",
    "    b += 1"
   ]
  },
  {
   "cell_type": "code",
   "execution_count": 20,
   "id": "d31571a2",
   "metadata": {},
   "outputs": [
    {
     "name": "stdout",
     "output_type": "stream",
     "text": [
      "Hello\n",
      "Hello\n",
      "Hello\n"
     ]
    }
   ],
   "source": [
    "b = 15\n",
    "while(b>9):\n",
    "    print(\"Hello\")\n",
    "    b -= 2"
   ]
  },
  {
   "cell_type": "code",
   "execution_count": 21,
   "id": "f0b5307e",
   "metadata": {},
   "outputs": [
    {
     "name": "stdout",
     "output_type": "stream",
     "text": [
      "a\n",
      "a\n",
      "a\n"
     ]
    }
   ],
   "source": [
    "x = '123'\n",
    "for i in x:\n",
    "    print('a')"
   ]
  },
  {
   "cell_type": "code",
   "execution_count": 22,
   "id": "d15c6cf0",
   "metadata": {},
   "outputs": [
    {
     "name": "stdout",
     "output_type": "stream",
     "text": [
      "a\n",
      "a\n",
      "a\n",
      "a\n",
      "a\n"
     ]
    }
   ],
   "source": [
    "a = 6\n",
    "while(a<=10):\n",
    "    print('a')\n",
    "    a += 1"
   ]
  },
  {
   "cell_type": "code",
   "execution_count": 23,
   "id": "fc9beafc",
   "metadata": {},
   "outputs": [
    {
     "name": "stdout",
     "output_type": "stream",
     "text": [
      "0\n",
      "0\n",
      "1\n",
      "0\n",
      "2\n",
      "0\n"
     ]
    }
   ],
   "source": [
    "i = 0\n",
    "while i<3:\n",
    "    print(i)\n",
    "    i += 1\n",
    "    print(0)"
   ]
  },
  {
   "cell_type": "code",
   "execution_count": 24,
   "id": "30a6da87",
   "metadata": {},
   "outputs": [
    {
     "name": "stdout",
     "output_type": "stream",
     "text": [
      "3\n",
      "4\n",
      "4\n"
     ]
    }
   ],
   "source": [
    "i = 2\n",
    "for x in range(i):\n",
    "    i += 1\n",
    "    print(i)\n",
    "print(i)\n"
   ]
  },
  {
   "cell_type": "code",
   "execution_count": 26,
   "id": "24ec2b6b",
   "metadata": {},
   "outputs": [
    {
     "name": "stdout",
     "output_type": "stream",
     "text": [
      "2\n",
      "2\n"
     ]
    }
   ],
   "source": [
    "i = 2\n",
    "for x in range(i):\n",
    "    x += 1\n",
    "print(x)\n",
    "print(x)"
   ]
  },
  {
   "cell_type": "code",
   "execution_count": 27,
   "id": "7bcb9150",
   "metadata": {},
   "outputs": [
    {
     "name": "stdout",
     "output_type": "stream",
     "text": [
      "1\n",
      "x\n",
      "2\n",
      "x\n"
     ]
    }
   ],
   "source": [
    "i = 2\n",
    "for x in range(i):\n",
    "    x += 1\n",
    "    print(x)\n",
    "    print('x')"
   ]
  },
  {
   "cell_type": "code",
   "execution_count": 28,
   "id": "69e091fb",
   "metadata": {},
   "outputs": [
    {
     "name": "stdout",
     "output_type": "stream",
     "text": [
      "5\n",
      "4\n",
      "3\n",
      "2\n",
      "1\n"
     ]
    }
   ],
   "source": [
    "a = 5\n",
    "while a>0:\n",
    "    print(a)\n",
    "    a = a-1"
   ]
  },
  {
   "cell_type": "code",
   "execution_count": 29,
   "id": "07a74c5d",
   "metadata": {},
   "outputs": [
    {
     "name": "stdout",
     "output_type": "stream",
     "text": [
      "40\n",
      "60\n",
      "80\n"
     ]
    }
   ],
   "source": [
    "#Convert the following loop into for loop:\n",
    "x = 4\n",
    "while x<= 8:\n",
    "    print(x*10)\n",
    "    x += 2"
   ]
  },
  {
   "cell_type": "code",
   "execution_count": 33,
   "id": "e30e8df5",
   "metadata": {},
   "outputs": [
    {
     "name": "stdout",
     "output_type": "stream",
     "text": [
      "40\n",
      "60\n",
      "80\n"
     ]
    }
   ],
   "source": [
    "#convert into for loop:\n",
    "for x in range(4,9,2):\n",
    "    print(x*10)"
   ]
  },
  {
   "cell_type": "code",
   "execution_count": 34,
   "id": "02833f5e",
   "metadata": {},
   "outputs": [
    {
     "name": "stdout",
     "output_type": "stream",
     "text": [
      "Bye\n"
     ]
    }
   ],
   "source": [
    "#Predict the output:\n",
    "x = 3\n",
    "if x>2 or x<5 and x == 6:\n",
    "    print('Bye')\n",
    "else:\n",
    "    print(\"Thank you\")"
   ]
  },
  {
   "cell_type": "code",
   "execution_count": 35,
   "id": "62befa06",
   "metadata": {},
   "outputs": [
    {
     "name": "stdout",
     "output_type": "stream",
     "text": [
      "Bye\n"
     ]
    }
   ],
   "source": [
    "x,y = 2,4\n",
    "if x+y == 10:\n",
    "    print('Thank you')\n",
    "else:\n",
    "    print('Bye')"
   ]
  },
  {
   "cell_type": "code",
   "execution_count": 37,
   "id": "31b9099a",
   "metadata": {},
   "outputs": [
    {
     "name": "stdout",
     "output_type": "stream",
     "text": [
      "6\n",
      "2\n"
     ]
    }
   ],
   "source": [
    "x = 10\n",
    "y = 1\n",
    "while x>y:\n",
    "    x = x-4\n",
    "    y = y+3\n",
    "    print(x)"
   ]
  },
  {
   "cell_type": "code",
   "execution_count": 39,
   "id": "6963061b",
   "metadata": {},
   "outputs": [
    {
     "name": "stdout",
     "output_type": "stream",
     "text": [
      "Bye\n",
      "Bye\n",
      "Bye\n"
     ]
    }
   ],
   "source": [
    "n = 11\n",
    "for i in range(2,n//2):\n",
    "    if n %1 != 0:\n",
    "        print('Python output based question.')\n",
    "        break\n",
    "    else:\n",
    "        print(\"Bye\")"
   ]
  },
  {
   "cell_type": "code",
   "execution_count": 41,
   "id": "81c9d8e5",
   "metadata": {},
   "outputs": [
    {
     "name": "stdout",
     "output_type": "stream",
     "text": [
      "Python output based question.\n",
      "Python output based question.\n",
      "Python output based question.\n"
     ]
    }
   ],
   "source": [
    "n = 20\n",
    "for i in range(2,n//4):\n",
    "    if n%1==0:\n",
    "        print('Python output based question.')\n",
    "    else:\n",
    "        print('Bye')        "
   ]
  },
  {
   "cell_type": "code",
   "execution_count": 43,
   "id": "dc40d16a",
   "metadata": {},
   "outputs": [
    {
     "name": "stdout",
     "output_type": "stream",
     "text": [
      "2\n",
      "2\n",
      "2\n"
     ]
    }
   ],
   "source": [
    "x = 2\n",
    "for i in range(x-1,x**2):\n",
    "    print(x)"
   ]
  },
  {
   "cell_type": "code",
   "execution_count": null,
   "id": "8bd2202f",
   "metadata": {},
   "outputs": [],
   "source": []
  }
 ],
 "metadata": {
  "kernelspec": {
   "display_name": "Python 3 (ipykernel)",
   "language": "python",
   "name": "python3"
  },
  "language_info": {
   "codemirror_mode": {
    "name": "ipython",
    "version": 3
   },
   "file_extension": ".py",
   "mimetype": "text/x-python",
   "name": "python",
   "nbconvert_exporter": "python",
   "pygments_lexer": "ipython3",
   "version": "3.9.7"
  }
 },
 "nbformat": 4,
 "nbformat_minor": 5
}
