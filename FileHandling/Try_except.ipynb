{
 "cells": [
  {
   "cell_type": "code",
   "execution_count": 14,
   "metadata": {},
   "outputs": [
    {
     "name": "stdout",
     "output_type": "stream",
     "text": [
      "Something went wrong\n"
     ]
    }
   ],
   "source": [
    "def menu(a, b):\n",
    "    try:\n",
    "        if a<b:\n",
    "            z = a/b\n",
    "            print(z)\n",
    "        else:\n",
    "            print(\"Something went wrong\")\n",
    "    except:\n",
    "        print(\"Zero error occured\")\n",
    "menu(6, 0)"
   ]
  },
  {
   "cell_type": "code",
   "execution_count": 17,
   "metadata": {},
   "outputs": [
    {
     "name": "stdout",
     "output_type": "stream",
     "text": [
      "Math error occured\n"
     ]
    }
   ],
   "source": [
    "try:\n",
    "    z=(a+b)**2\n",
    "    print(z)\n",
    "except:\n",
    "    print(\"Math error occured\")\n"
   ]
  },
  {
   "cell_type": "code",
   "execution_count": 18,
   "metadata": {},
   "outputs": [
    {
     "name": "stdout",
     "output_type": "stream",
     "text": [
      "Syntax error\n"
     ]
    }
   ],
   "source": [
    "try:\n",
    "    if a<b:\n",
    "        print(\"a is less than b\")\n",
    "except:\n",
    "    print(\"Syntax error\")"
   ]
  },
  {
   "cell_type": "code",
   "execution_count": 6,
   "metadata": {},
   "outputs": [
    {
     "name": "stdout",
     "output_type": "stream",
     "text": [
      "Enter the start menu:\n",
      "1 start\n",
      "2 end\n",
      "          2\n",
      "End of the menu\n"
     ]
    }
   ],
   "source": [
    "n = int(input(\"\"\"Enter the start menu:\n",
    "1 Order\n",
    "2 no Order \n",
    "          \"\"\"))\n",
    "try: \n",
    "    if n==1:\n",
    "        print(\"You have entered the menu\")\n",
    "        k = int(input(\"Entered key is:\"))\n",
    "        if k==1:\n",
    "            print(\"You have ordered for Bhel\")\n",
    "        elif k==2:\n",
    "            print(\"You have ordered for vadapav\")\n",
    "        elif k==3:\n",
    "            print(\"You have ordered for poha\")\n",
    "        elif k==4:\n",
    "            print(\"You have ordered for menduvada\")\n",
    "        elif k==5:\n",
    "            print(\"You have ordered for dalbati\")\n",
    "        else:\n",
    "            print(\"You ask out of menu\")\n",
    "    else:\n",
    "        print(\"End of the menu\")\n",
    "except:\n",
    "    print(\"No order for you\")"
   ]
  },
  {
   "cell_type": "code",
   "execution_count": 7,
   "metadata": {},
   "outputs": [
    {
     "name": "stdout",
     "output_type": "stream",
     "text": [
      "Wrong creativity\n"
     ]
    }
   ],
   "source": [
    "try:\n",
    "    vaishnavi=10/10\n",
    "    print(\"vaishnavi\",vaishnavi%0)\n",
    "except:\n",
    "    print(\"Wrong creativity\")"
   ]
  },
  {
   "cell_type": "code",
   "execution_count": 11,
   "metadata": {},
   "outputs": [
    {
     "name": "stdout",
     "output_type": "stream",
     "text": [
      "11\n"
     ]
    }
   ],
   "source": [
    "try:\n",
    "    z=5+6\n",
    "    print(z)\n",
    "except:\n",
    "    print(\"Structure is improper\")\n",
    "    "
   ]
  },
  {
   "cell_type": "code",
   "execution_count": null,
   "metadata": {},
   "outputs": [],
   "source": []
  }
 ],
 "metadata": {
  "kernelspec": {
   "display_name": "Python 3",
   "language": "python",
   "name": "python3"
  },
  "language_info": {
   "codemirror_mode": {
    "name": "ipython",
    "version": 3
   },
   "file_extension": ".py",
   "mimetype": "text/x-python",
   "name": "python",
   "nbconvert_exporter": "python",
   "pygments_lexer": "ipython3",
   "version": "3.7.4"
  }
 },
 "nbformat": 4,
 "nbformat_minor": 2
}
