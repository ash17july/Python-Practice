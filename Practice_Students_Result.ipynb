{
  "nbformat": 4,
  "nbformat_minor": 0,
  "metadata": {
    "colab": {
      "name": "Practice_Students_Result.ipynb",
      "provenance": []
    },
    "kernelspec": {
      "name": "python3",
      "display_name": "Python 3"
    },
    "language_info": {
      "name": "python"
    }
  },
  "cells": [
    {
      "cell_type": "code",
      "execution_count": 2,
      "metadata": {
        "colab": {
          "base_uri": "https://localhost:8080/"
        },
        "id": "EFoPTB_Xr6fx",
        "outputId": "b1c51a2f-93e4-45d2-a3dc-8c46af0462f4"
      },
      "outputs": [
        {
          "output_type": "stream",
          "name": "stdout",
          "text": [
            "REPORT CARD\n",
            "Enter your Name :Ashwini Lembhe\n",
            "Enter the English Marks :70\n",
            "Enter the Maths Marks :80\n",
            "Enter the Physics Marks :75\n",
            "Enter the Chemistry Marks :66\n",
            "Enter the Biology Marks :88\n",
            "Enter the Total Marks :500\n",
            " Percentage of  Ashwini Lembhe  is  75  Percentage\n"
          ]
        }
      ],
      "source": [
        "print(\"REPORT CARD\")\n",
        "name = input(\"Enter your Name :\")\n",
        "English = int(input(\"Enter the English Marks :\"))\n",
        "Maths = int(input(\"Enter the Maths Marks :\"))\n",
        "Physics = int(input(\"Enter the Physics Marks :\"))\n",
        "Chemistry = int(input(\"Enter the Chemistry Marks :\"))\n",
        "Bio = int(input(\"Enter the Biology Marks :\"))\n",
        "Total = int(input(\"Enter the Total Marks :\"))\n",
        "Gain_Marks = English + Maths + Bio + Physics + Chemistry\n",
        "Percentage = int(Gain_Marks/Total*100)\n",
        "print(\" Percentage of \",name,\" is \",Percentage,\" Percentage\")"
      ]
    },
    {
      "cell_type": "code",
      "source": [
        ""
      ],
      "metadata": {
        "id": "_wD4YHk4tlyS"
      },
      "execution_count": null,
      "outputs": []
    }
  ]
}