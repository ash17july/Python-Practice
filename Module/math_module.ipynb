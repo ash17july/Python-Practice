{
 "cells": [
  {
   "cell_type": "code",
   "execution_count": 8,
   "metadata": {},
   "outputs": [],
   "source": [
    "import math"
   ]
  },
  {
   "cell_type": "code",
   "execution_count": 13,
   "metadata": {},
   "outputs": [
    {
     "name": "stdout",
     "output_type": "stream",
     "text": [
      "['In', 'Out', '_', '__', '___', '__builtin__', '__builtins__', '__doc__', '__loader__', '__name__', '__package__', '__spec__', '_dh', '_i', '_i1', '_i10', '_i11', '_i12', '_i13', '_i2', '_i3', '_i4', '_i5', '_i6', '_i7', '_i8', '_i9', '_ih', '_ii', '_iii', '_oh', 'exit', 'get_ipython', 'main', 'math', 'quit']\n"
     ]
    }
   ],
   "source": [
    "print(dir())"
   ]
  },
  {
   "cell_type": "code",
   "execution_count": 12,
   "metadata": {},
   "outputs": [
    {
     "name": "stdout",
     "output_type": "stream",
     "text": [
      "3628800\n"
     ]
    }
   ],
   "source": [
    "print(math.factorial(10))"
   ]
  },
  {
   "cell_type": "code",
   "execution_count": 14,
   "metadata": {},
   "outputs": [],
   "source": [
    "import random"
   ]
  },
  {
   "cell_type": "code",
   "execution_count": 15,
   "metadata": {},
   "outputs": [
    {
     "name": "stdout",
     "output_type": "stream",
     "text": [
      "['In', 'Out', '_', '__', '___', '__builtin__', '__builtins__', '__doc__', '__loader__', '__name__', '__package__', '__spec__', '_dh', '_i', '_i1', '_i10', '_i11', '_i12', '_i13', '_i14', '_i15', '_i2', '_i3', '_i4', '_i5', '_i6', '_i7', '_i8', '_i9', '_ih', '_ii', '_iii', '_oh', 'exit', 'get_ipython', 'main', 'math', 'quit', 'random']\n"
     ]
    }
   ],
   "source": [
    "print(dir())"
   ]
  },
  {
   "cell_type": "markdown",
   "metadata": {},
   "source": [
    "Math.ceil(x): return the ceiling of x, small int greater than or equal to x \n",
    "math.comb(n,k)\n",
    "math.copysign(x,y)\n",
    "math.fabs(x)\n",
    "math.factorial(x)\n",
    "math.floor(x)\n",
    "math.fmod(x,y)\n",
    "math.frexp(x)\n",
    "math.fsum(iterable)\n",
    "math.gcd(* integer)\n",
    "math.isclose(a,b,* ,rel_tol=1e-09,abs_tol=0.0)\n",
    "math.isfinite(x)\n",
    "math.isinf(x)\n",
    "math.isnan(x)\n",
    "math.isqrt(x)\n",
    "math.lcm(* integers)\n",
    "math.ldexp(x,i)\n",
    "math.modf(x)\n",
    "math.nextafter(x,y)\n",
    "math.perm(n,k=none)\n",
    "math.prod(iterable,* ,start = 1)\n",
    "math.remainder(x,y)\n",
    "math.trunc(x)\n",
    "math.ulp(x)\n",
    "#### power and logarithmic functions\n",
    "math.exp(x)\n",
    "math.expm1(x)\n",
    "math.log(x,[base])\n",
    "math.log1p(x)\n",
    "math.log2(x)\n",
    "math.log10(x,y)\n",
    "math.pow(x,y)\n",
    "math.sqrt(x)\n",
    "#### Trigonometric functions\n",
    "math.acos(x)\n",
    "math.asin(x)\n",
    "math.atan(x)\n",
    "math.atan2(y,x)\n",
    "math.cos(x)\n",
    "math.dist(p,q)\n",
    "math.hypot(* coordinates)\n",
    "math.sin(x)\n",
    "math.tab(x)\n",
    "#### Angular conversion\n",
    "math.degrees(x)\n",
    "math.radians(x)\n",
    "#### Hyperbolic functions\n",
    "math.acosh(x)\n",
    "math.asinh(x)\n",
    "math.atanh(x)\n",
    "math.cosh(x)\n",
    "math.tanh(x)\n",
    "#### Special functions\n",
    "math.erf(x)\n",
    "math.erfc(x)\n",
    "math.gamma(x)\n",
    "math.lgamma(x)\n",
    "#### Constants\n",
    "math.pi\n",
    "math.e\n",
    "math.tau\n",
    "math.inf\n",
    "math.nan"
   ]
  },
  {
   "cell_type": "markdown",
   "metadata": {},
   "source": []
  }
 ],
 "metadata": {
  "kernelspec": {
   "display_name": "Python 3",
   "language": "python",
   "name": "python3"
  },
  "language_info": {
   "codemirror_mode": {
    "name": "ipython",
    "version": 3
   },
   "file_extension": ".py",
   "mimetype": "text/x-python",
   "name": "python",
   "nbconvert_exporter": "python",
   "pygments_lexer": "ipython3",
   "version": "3.7.4"
  }
 },
 "nbformat": 4,
 "nbformat_minor": 2
}
